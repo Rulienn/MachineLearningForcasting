{
 "cells": [
  {
   "cell_type": "code",
   "execution_count": 2,
   "id": "c3cbcf02",
   "metadata": {},
   "outputs": [
    {
     "name": "stdout",
     "output_type": "stream",
     "text": [
      "Requirement already satisfied: pandas in ./.venv/lib/python3.13/site-packages (2.3.3)\n",
      "Requirement already satisfied: numpy>=1.26.0 in ./.venv/lib/python3.13/site-packages (from pandas) (2.3.4)\n",
      "Requirement already satisfied: python-dateutil>=2.8.2 in ./.venv/lib/python3.13/site-packages (from pandas) (2.9.0.post0)\n",
      "Requirement already satisfied: pytz>=2020.1 in ./.venv/lib/python3.13/site-packages (from pandas) (2025.2)\n",
      "Requirement already satisfied: tzdata>=2022.7 in ./.venv/lib/python3.13/site-packages (from pandas) (2025.2)\n",
      "Requirement already satisfied: six>=1.5 in ./.venv/lib/python3.13/site-packages (from python-dateutil>=2.8.2->pandas) (1.17.0)\n",
      "Note: you may need to restart the kernel to use updated packages.\n",
      "Requirement already satisfied: darts in ./.venv/lib/python3.13/site-packages (0.38.0)\n",
      "Requirement already satisfied: holidays>=0.11.1 in ./.venv/lib/python3.13/site-packages (from darts) (0.83)\n",
      "Requirement already satisfied: joblib>=0.16.0 in ./.venv/lib/python3.13/site-packages (from darts) (1.5.2)\n",
      "Requirement already satisfied: matplotlib>=3.3.0 in ./.venv/lib/python3.13/site-packages (from darts) (3.10.7)\n",
      "Requirement already satisfied: narwhals>=1.25.1 in ./.venv/lib/python3.13/site-packages (from darts) (2.9.0)\n",
      "Requirement already satisfied: nfoursid>=1.0.0 in ./.venv/lib/python3.13/site-packages (from darts) (1.0.2)\n",
      "Requirement already satisfied: numpy>=1.19.0 in ./.venv/lib/python3.13/site-packages (from darts) (2.3.4)\n",
      "Requirement already satisfied: pandas>=1.0.5 in ./.venv/lib/python3.13/site-packages (from darts) (2.3.3)\n",
      "Requirement already satisfied: pyod>=0.9.5 in ./.venv/lib/python3.13/site-packages (from darts) (2.0.5)\n",
      "Requirement already satisfied: requests>=2.22.0 in ./.venv/lib/python3.13/site-packages (from darts) (2.32.5)\n",
      "Requirement already satisfied: scikit-learn>=1.6.0 in ./.venv/lib/python3.13/site-packages (from darts) (1.7.2)\n",
      "Requirement already satisfied: scipy>=1.3.2 in ./.venv/lib/python3.13/site-packages (from darts) (1.16.2)\n",
      "Requirement already satisfied: shap>=0.40.0 in ./.venv/lib/python3.13/site-packages (from darts) (0.49.1)\n",
      "Requirement already satisfied: statsmodels>=0.14.0 in ./.venv/lib/python3.13/site-packages (from darts) (0.14.5)\n",
      "Requirement already satisfied: tqdm>=4.60.0 in ./.venv/lib/python3.13/site-packages (from darts) (4.67.1)\n",
      "Requirement already satisfied: typing-extensions in ./.venv/lib/python3.13/site-packages (from darts) (4.15.0)\n",
      "Requirement already satisfied: xarray>=0.17.0 in ./.venv/lib/python3.13/site-packages (from darts) (2025.10.1)\n",
      "Requirement already satisfied: pytorch-lightning<2.5.3,>=2.0.0 in ./.venv/lib/python3.13/site-packages (from darts) (2.5.2)\n",
      "Requirement already satisfied: tensorboardX>=2.1 in ./.venv/lib/python3.13/site-packages (from darts) (2.6.4)\n",
      "Requirement already satisfied: torch>=1.8.0 in ./.venv/lib/python3.13/site-packages (from darts) (2.9.0)\n",
      "Requirement already satisfied: PyYAML>=5.4 in ./.venv/lib/python3.13/site-packages (from pytorch-lightning<2.5.3,>=2.0.0->darts) (6.0.3)\n",
      "Requirement already satisfied: fsspec>=2022.5.0 in ./.venv/lib/python3.13/site-packages (from fsspec[http]>=2022.5.0->pytorch-lightning<2.5.3,>=2.0.0->darts) (2025.9.0)\n",
      "Requirement already satisfied: torchmetrics>=0.7.0 in ./.venv/lib/python3.13/site-packages (from pytorch-lightning<2.5.3,>=2.0.0->darts) (1.8.2)\n",
      "Requirement already satisfied: packaging>=20.0 in ./.venv/lib/python3.13/site-packages (from pytorch-lightning<2.5.3,>=2.0.0->darts) (25.0)\n",
      "Requirement already satisfied: lightning-utilities>=0.10.0 in ./.venv/lib/python3.13/site-packages (from pytorch-lightning<2.5.3,>=2.0.0->darts) (0.15.2)\n",
      "Requirement already satisfied: aiohttp!=4.0.0a0,!=4.0.0a1 in ./.venv/lib/python3.13/site-packages (from fsspec[http]>=2022.5.0->pytorch-lightning<2.5.3,>=2.0.0->darts) (3.13.1)\n",
      "Requirement already satisfied: aiohappyeyeballs>=2.5.0 in ./.venv/lib/python3.13/site-packages (from aiohttp!=4.0.0a0,!=4.0.0a1->fsspec[http]>=2022.5.0->pytorch-lightning<2.5.3,>=2.0.0->darts) (2.6.1)\n",
      "Requirement already satisfied: aiosignal>=1.4.0 in ./.venv/lib/python3.13/site-packages (from aiohttp!=4.0.0a0,!=4.0.0a1->fsspec[http]>=2022.5.0->pytorch-lightning<2.5.3,>=2.0.0->darts) (1.4.0)\n",
      "Requirement already satisfied: attrs>=17.3.0 in ./.venv/lib/python3.13/site-packages (from aiohttp!=4.0.0a0,!=4.0.0a1->fsspec[http]>=2022.5.0->pytorch-lightning<2.5.3,>=2.0.0->darts) (25.4.0)\n",
      "Requirement already satisfied: frozenlist>=1.1.1 in ./.venv/lib/python3.13/site-packages (from aiohttp!=4.0.0a0,!=4.0.0a1->fsspec[http]>=2022.5.0->pytorch-lightning<2.5.3,>=2.0.0->darts) (1.8.0)\n",
      "Requirement already satisfied: multidict<7.0,>=4.5 in ./.venv/lib/python3.13/site-packages (from aiohttp!=4.0.0a0,!=4.0.0a1->fsspec[http]>=2022.5.0->pytorch-lightning<2.5.3,>=2.0.0->darts) (6.7.0)\n",
      "Requirement already satisfied: propcache>=0.2.0 in ./.venv/lib/python3.13/site-packages (from aiohttp!=4.0.0a0,!=4.0.0a1->fsspec[http]>=2022.5.0->pytorch-lightning<2.5.3,>=2.0.0->darts) (0.4.1)\n",
      "Requirement already satisfied: yarl<2.0,>=1.17.0 in ./.venv/lib/python3.13/site-packages (from aiohttp!=4.0.0a0,!=4.0.0a1->fsspec[http]>=2022.5.0->pytorch-lightning<2.5.3,>=2.0.0->darts) (1.22.0)\n",
      "Requirement already satisfied: idna>=2.0 in ./.venv/lib/python3.13/site-packages (from yarl<2.0,>=1.17.0->aiohttp!=4.0.0a0,!=4.0.0a1->fsspec[http]>=2022.5.0->pytorch-lightning<2.5.3,>=2.0.0->darts) (3.11)\n",
      "Requirement already satisfied: python-dateutil in ./.venv/lib/python3.13/site-packages (from holidays>=0.11.1->darts) (2.9.0.post0)\n",
      "Requirement already satisfied: setuptools in ./.venv/lib/python3.13/site-packages (from lightning-utilities>=0.10.0->pytorch-lightning<2.5.3,>=2.0.0->darts) (80.9.0)\n",
      "Requirement already satisfied: contourpy>=1.0.1 in ./.venv/lib/python3.13/site-packages (from matplotlib>=3.3.0->darts) (1.3.3)\n",
      "Requirement already satisfied: cycler>=0.10 in ./.venv/lib/python3.13/site-packages (from matplotlib>=3.3.0->darts) (0.12.1)\n",
      "Requirement already satisfied: fonttools>=4.22.0 in ./.venv/lib/python3.13/site-packages (from matplotlib>=3.3.0->darts) (4.60.1)\n",
      "Requirement already satisfied: kiwisolver>=1.3.1 in ./.venv/lib/python3.13/site-packages (from matplotlib>=3.3.0->darts) (1.4.9)\n",
      "Requirement already satisfied: pillow>=8 in ./.venv/lib/python3.13/site-packages (from matplotlib>=3.3.0->darts) (12.0.0)\n",
      "Requirement already satisfied: pyparsing>=3 in ./.venv/lib/python3.13/site-packages (from matplotlib>=3.3.0->darts) (3.2.5)\n",
      "Requirement already satisfied: pytz>=2020.1 in ./.venv/lib/python3.13/site-packages (from pandas>=1.0.5->darts) (2025.2)\n",
      "Requirement already satisfied: tzdata>=2022.7 in ./.venv/lib/python3.13/site-packages (from pandas>=1.0.5->darts) (2025.2)\n",
      "Requirement already satisfied: numba>=0.51 in ./.venv/lib/python3.13/site-packages (from pyod>=0.9.5->darts) (0.62.1)\n",
      "Requirement already satisfied: llvmlite<0.46,>=0.45.0dev0 in ./.venv/lib/python3.13/site-packages (from numba>=0.51->pyod>=0.9.5->darts) (0.45.1)\n",
      "Requirement already satisfied: six>=1.5 in ./.venv/lib/python3.13/site-packages (from python-dateutil->holidays>=0.11.1->darts) (1.17.0)\n",
      "Requirement already satisfied: charset_normalizer<4,>=2 in ./.venv/lib/python3.13/site-packages (from requests>=2.22.0->darts) (3.4.4)\n",
      "Requirement already satisfied: urllib3<3,>=1.21.1 in ./.venv/lib/python3.13/site-packages (from requests>=2.22.0->darts) (2.5.0)\n",
      "Requirement already satisfied: certifi>=2017.4.17 in ./.venv/lib/python3.13/site-packages (from requests>=2.22.0->darts) (2025.10.5)\n",
      "Requirement already satisfied: threadpoolctl>=3.1.0 in ./.venv/lib/python3.13/site-packages (from scikit-learn>=1.6.0->darts) (3.6.0)\n",
      "Requirement already satisfied: slicer==0.0.8 in ./.venv/lib/python3.13/site-packages (from shap>=0.40.0->darts) (0.0.8)\n",
      "Requirement already satisfied: cloudpickle in ./.venv/lib/python3.13/site-packages (from shap>=0.40.0->darts) (3.1.1)\n",
      "Requirement already satisfied: patsy>=0.5.6 in ./.venv/lib/python3.13/site-packages (from statsmodels>=0.14.0->darts) (1.0.2)\n",
      "Requirement already satisfied: protobuf>=3.20 in ./.venv/lib/python3.13/site-packages (from tensorboardX>=2.1->darts) (6.33.0)\n",
      "Requirement already satisfied: filelock in ./.venv/lib/python3.13/site-packages (from torch>=1.8.0->darts) (3.20.0)\n",
      "Requirement already satisfied: sympy>=1.13.3 in ./.venv/lib/python3.13/site-packages (from torch>=1.8.0->darts) (1.14.0)\n",
      "Requirement already satisfied: networkx>=2.5.1 in ./.venv/lib/python3.13/site-packages (from torch>=1.8.0->darts) (3.5)\n",
      "Requirement already satisfied: jinja2 in ./.venv/lib/python3.13/site-packages (from torch>=1.8.0->darts) (3.1.6)\n",
      "Requirement already satisfied: mpmath<1.4,>=1.1.0 in ./.venv/lib/python3.13/site-packages (from sympy>=1.13.3->torch>=1.8.0->darts) (1.3.0)\n",
      "Requirement already satisfied: MarkupSafe>=2.0 in ./.venv/lib/python3.13/site-packages (from jinja2->torch>=1.8.0->darts) (3.0.3)\n",
      "Note: you may need to restart the kernel to use updated packages.\n"
     ]
    }
   ],
   "source": [
    "%pip install pandas\n",
    "%pip install darts"
   ]
  },
  {
   "cell_type": "code",
   "execution_count": 3,
   "id": "ae76b43d",
   "metadata": {},
   "outputs": [],
   "source": [
    "import pandas as pd\n",
    "from darts import TimeSeries\n",
    "from darts.utils.model_selection import train_test_split\n",
    "import numpy as np\n",
    "import warnings\n",
    "\n",
    "warnings.filterwarnings(\"ignore\")\n",
    "\n",
    "\n",
    "random_state = 42\n",
    "np.random.seed(random_state)"
   ]
  },
  {
   "cell_type": "code",
   "execution_count": 4,
   "id": "cda46fd9",
   "metadata": {},
   "outputs": [],
   "source": [
    "def RemoveOutliers(df, column):\n",
    "    # Calculate the first quartile (Q1) and third quartile (Q3)\n",
    "    Q1 = df[column].quantile(0.25)\n",
    "    Q3 = df[column].quantile(0.75)\n",
    "\n",
    "    # Calculate the Interquartile Range (IQR)\n",
    "    IQR = Q3 - Q1\n",
    "    # Define the lower and upper bounds\n",
    "    lower_bound = Q1 - 1.5 * IQR\n",
    "    upper_bound = Q3 + 1.5 * IQR\n",
    "\n",
    "    # Filter the DataFrame to exclude outliers\n",
    "    df = df[(df[column] >= lower_bound) & (df[column] <= upper_bound)]\n",
    "    return df\n"
   ]
  },
  {
   "cell_type": "code",
   "execution_count": 5,
   "id": "9f5b2119",
   "metadata": {},
   "outputs": [
    {
     "data": {
      "application/vnd.microsoft.datawrangler.viewer.v0+json": {
       "columns": [
        {
         "name": "index",
         "rawType": "int64",
         "type": "integer"
        },
        {
         "name": "purchase_order_id",
         "rawType": "int64",
         "type": "integer"
        },
        {
         "name": "purchase_order_item_no",
         "rawType": "int64",
         "type": "integer"
        },
        {
         "name": "quantity",
         "rawType": "float64",
         "type": "float"
        },
        {
         "name": "delivery_date",
         "rawType": "datetime64[ns]",
         "type": "datetime"
        },
        {
         "name": "product_id",
         "rawType": "int64",
         "type": "integer"
        },
        {
         "name": "product_version",
         "rawType": "int64",
         "type": "integer"
        },
        {
         "name": "created_date_time",
         "rawType": "datetime64[ns]",
         "type": "datetime"
        },
        {
         "name": "modified_date_time",
         "rawType": "object",
         "type": "string"
        },
        {
         "name": "unit_id",
         "rawType": "float64",
         "type": "float"
        },
        {
         "name": "unit",
         "rawType": "object",
         "type": "unknown"
        },
        {
         "name": "status_id",
         "rawType": "int64",
         "type": "integer"
        },
        {
         "name": "status",
         "rawType": "object",
         "type": "string"
        }
       ],
       "ref": "c284a9cb-2930-4b9d-a626-2c40cef1bc55",
       "rows": [
        [
         "0",
         "1",
         "1",
         "-14.0",
         "2003-05-11 00:00:00",
         "91900143",
         "1",
         "2003-05-12 00:00:00",
         "2004-06-15 06:16:18.0000000 +00:00",
         null,
         null,
         "2",
         "Closed"
        ],
        [
         "1",
         "22",
         "1",
         "23880.0",
         "2003-05-26 00:00:00",
         "91900160",
         "1",
         "2003-05-27 00:00:00",
         "2012-06-29 09:41:13.0000000 +00:00",
         null,
         null,
         "2",
         "Closed"
        ],
        [
         "2",
         "41",
         "1",
         "0.0",
         "2004-03-07 00:00:00",
         "91900143",
         "1",
         "2004-03-08 00:00:00",
         "2012-07-04 13:51:02.0000000 +00:00",
         null,
         null,
         "2",
         "Closed"
        ],
        [
         "3",
         "61",
         "1",
         "0.0",
         "2004-03-09 00:00:00",
         "91900143",
         "1",
         "2004-03-10 00:00:00",
         "2012-07-04 13:50:59.0000000 +00:00",
         null,
         null,
         "2",
         "Closed"
        ],
        [
         "4",
         "141",
         "10",
         "25000.0",
         "2004-10-27 00:00:00",
         "91900143",
         "1",
         "2004-10-22 00:00:00",
         "2012-07-04 13:50:55.0000000 +00:00",
         null,
         null,
         "2",
         "Closed"
        ]
       ],
       "shape": {
        "columns": 12,
        "rows": 5
       }
      },
      "text/html": [
       "<div>\n",
       "<style scoped>\n",
       "    .dataframe tbody tr th:only-of-type {\n",
       "        vertical-align: middle;\n",
       "    }\n",
       "\n",
       "    .dataframe tbody tr th {\n",
       "        vertical-align: top;\n",
       "    }\n",
       "\n",
       "    .dataframe thead th {\n",
       "        text-align: right;\n",
       "    }\n",
       "</style>\n",
       "<table border=\"1\" class=\"dataframe\">\n",
       "  <thead>\n",
       "    <tr style=\"text-align: right;\">\n",
       "      <th></th>\n",
       "      <th>purchase_order_id</th>\n",
       "      <th>purchase_order_item_no</th>\n",
       "      <th>quantity</th>\n",
       "      <th>delivery_date</th>\n",
       "      <th>product_id</th>\n",
       "      <th>product_version</th>\n",
       "      <th>created_date_time</th>\n",
       "      <th>modified_date_time</th>\n",
       "      <th>unit_id</th>\n",
       "      <th>unit</th>\n",
       "      <th>status_id</th>\n",
       "      <th>status</th>\n",
       "    </tr>\n",
       "  </thead>\n",
       "  <tbody>\n",
       "    <tr>\n",
       "      <th>0</th>\n",
       "      <td>1</td>\n",
       "      <td>1</td>\n",
       "      <td>-14.0</td>\n",
       "      <td>2003-05-11</td>\n",
       "      <td>91900143</td>\n",
       "      <td>1</td>\n",
       "      <td>2003-05-12</td>\n",
       "      <td>2004-06-15 06:16:18.0000000 +00:00</td>\n",
       "      <td>NaN</td>\n",
       "      <td>NaN</td>\n",
       "      <td>2</td>\n",
       "      <td>Closed</td>\n",
       "    </tr>\n",
       "    <tr>\n",
       "      <th>1</th>\n",
       "      <td>22</td>\n",
       "      <td>1</td>\n",
       "      <td>23880.0</td>\n",
       "      <td>2003-05-26</td>\n",
       "      <td>91900160</td>\n",
       "      <td>1</td>\n",
       "      <td>2003-05-27</td>\n",
       "      <td>2012-06-29 09:41:13.0000000 +00:00</td>\n",
       "      <td>NaN</td>\n",
       "      <td>NaN</td>\n",
       "      <td>2</td>\n",
       "      <td>Closed</td>\n",
       "    </tr>\n",
       "    <tr>\n",
       "      <th>2</th>\n",
       "      <td>41</td>\n",
       "      <td>1</td>\n",
       "      <td>0.0</td>\n",
       "      <td>2004-03-07</td>\n",
       "      <td>91900143</td>\n",
       "      <td>1</td>\n",
       "      <td>2004-03-08</td>\n",
       "      <td>2012-07-04 13:51:02.0000000 +00:00</td>\n",
       "      <td>NaN</td>\n",
       "      <td>NaN</td>\n",
       "      <td>2</td>\n",
       "      <td>Closed</td>\n",
       "    </tr>\n",
       "    <tr>\n",
       "      <th>3</th>\n",
       "      <td>61</td>\n",
       "      <td>1</td>\n",
       "      <td>0.0</td>\n",
       "      <td>2004-03-09</td>\n",
       "      <td>91900143</td>\n",
       "      <td>1</td>\n",
       "      <td>2004-03-10</td>\n",
       "      <td>2012-07-04 13:50:59.0000000 +00:00</td>\n",
       "      <td>NaN</td>\n",
       "      <td>NaN</td>\n",
       "      <td>2</td>\n",
       "      <td>Closed</td>\n",
       "    </tr>\n",
       "    <tr>\n",
       "      <th>4</th>\n",
       "      <td>141</td>\n",
       "      <td>10</td>\n",
       "      <td>25000.0</td>\n",
       "      <td>2004-10-27</td>\n",
       "      <td>91900143</td>\n",
       "      <td>1</td>\n",
       "      <td>2004-10-22</td>\n",
       "      <td>2012-07-04 13:50:55.0000000 +00:00</td>\n",
       "      <td>NaN</td>\n",
       "      <td>NaN</td>\n",
       "      <td>2</td>\n",
       "      <td>Closed</td>\n",
       "    </tr>\n",
       "  </tbody>\n",
       "</table>\n",
       "</div>"
      ],
      "text/plain": [
       "   purchase_order_id  purchase_order_item_no  quantity delivery_date  \\\n",
       "0                  1                       1     -14.0    2003-05-11   \n",
       "1                 22                       1   23880.0    2003-05-26   \n",
       "2                 41                       1       0.0    2004-03-07   \n",
       "3                 61                       1       0.0    2004-03-09   \n",
       "4                141                      10   25000.0    2004-10-27   \n",
       "\n",
       "   product_id  product_version created_date_time  \\\n",
       "0    91900143                1        2003-05-12   \n",
       "1    91900160                1        2003-05-27   \n",
       "2    91900143                1        2004-03-08   \n",
       "3    91900143                1        2004-03-10   \n",
       "4    91900143                1        2004-10-22   \n",
       "\n",
       "                   modified_date_time  unit_id unit  status_id  status  \n",
       "0  2004-06-15 06:16:18.0000000 +00:00      NaN  NaN          2  Closed  \n",
       "1  2012-06-29 09:41:13.0000000 +00:00      NaN  NaN          2  Closed  \n",
       "2  2012-07-04 13:51:02.0000000 +00:00      NaN  NaN          2  Closed  \n",
       "3  2012-07-04 13:50:59.0000000 +00:00      NaN  NaN          2  Closed  \n",
       "4  2012-07-04 13:50:55.0000000 +00:00      NaN  NaN          2  Closed  "
      ]
     },
     "execution_count": 5,
     "metadata": {},
     "output_type": "execute_result"
    }
   ],
   "source": [
    "purchase_orders = pd.read_csv(\"./data/kernel/purchase_orders.csv\")\n",
    "purchase_orders = purchase_orders[purchase_orders[\"status\"] == \"Closed\"]\n",
    "\n",
    "purchase_orders[\"delivery_date\"] = (\n",
    "    pd.to_datetime(purchase_orders[\"delivery_date\"], utc=True)\n",
    "    .dt.tz_localize(None)\n",
    "    .dt.normalize()\n",
    ")\n",
    "\n",
    "purchase_orders[\"created_date_time\"] = (\n",
    "    pd.to_datetime(purchase_orders[\"created_date_time\"], utc=True)\n",
    "    .dt.tz_localize(None)\n",
    "    .dt.normalize()\n",
    ")\n",
    "\n",
    "purchase_orders.head()"
   ]
  },
  {
   "cell_type": "code",
   "execution_count": 6,
   "id": "0519703b",
   "metadata": {},
   "outputs": [
    {
     "name": "stdout",
     "output_type": "stream",
     "text": [
      "Drop rows where net_weight is NaN or <= 0: 122383\n",
      "13663\n",
      "We don't have enough information to forecast the following rm_id :\n",
      "Index([2121, 2123, 2138, 2147, 2161, 2284, 2401, 2402, 2482, 2521, 2561, 2601,\n",
      "       2742, 2821, 3022, 3101, 3144, 3162, 3201, 3222, 3241, 3381, 3461, 3481,\n",
      "       3501, 3541, 3581, 3601, 3621, 3701, 3762, 3802, 3821, 3841, 3883, 3921,\n",
      "       3941, 4021, 4044, 4081, 4101, 4161, 4263, 4302, 4343, 4381, 4401, 4441,\n",
      "       4443, 4461, 4462, 4463, 4481, 4501],\n",
      "      dtype='int64', name='rm_id')\n",
      "Length of daily_receivals after filtering rare rm_id: 13344\n",
      "Length of daily_receivals after removing outliers: 12671\n"
     ]
    }
   ],
   "source": [
    "receivals = pd.read_csv(\"data/kernel/receivals.csv\")\n",
    "len(receivals)\n",
    "\n",
    "receivals = receivals.dropna(subset=[\"net_weight\"])\n",
    "receivals = receivals[receivals[\"net_weight\"] > 0]\n",
    "receivals = receivals.dropna(subset=[\"rm_id\"])\n",
    "receivals[\"rm_id\"] = receivals[\"rm_id\"].astype(int)\n",
    "\n",
    "\n",
    "print(\"Drop rows where net_weight is NaN or <= 0:\", len(receivals))\n",
    "\n",
    "receivals[\"date_arrival\"] = (\n",
    "    pd.to_datetime(receivals[\"date_arrival\"], utc=True)\n",
    "    .dt.tz_localize(None)\n",
    "    .dt.normalize()\n",
    ")\n",
    "\n",
    "receivals = receivals[receivals[\"date_arrival\"] > pd.Timestamp(\"2020-01-01\")]\n",
    "\n",
    "receivals = receivals.merge(\n",
    "    purchase_orders,\n",
    "    how=\"left\",\n",
    "    on=[\"purchase_order_id\", \"purchase_order_item_no\"],\n",
    ")\n",
    "\n",
    "\n",
    "daily_receivals = (\n",
    "    receivals.groupby([\"rm_id\", \"date_arrival\"], as_index=False)\n",
    "    .agg(\n",
    "        net_weight_sum=(\"net_weight\", \"sum\"),\n",
    "        total_order_qty=(\"quantity\", \"sum\"),\n",
    "        avg_order_qty=(\"quantity\", \"mean\"),\n",
    "        num_orders=(\"purchase_order_id\", \"count\"),\n",
    "    )\n",
    "    .rename(columns={\"date_arrival\": \"date\", \"net_weight_sum\": \"net_weight\"})\n",
    "    .sort_values([\"rm_id\", \"date\"])\n",
    ")\n",
    "print(len(daily_receivals))\n",
    "\n",
    "\n",
    "stats = daily_receivals.groupby(\"rm_id\").agg(\n",
    "    last_delivery=(\"date\", \"max\"),\n",
    "    total_deliveries=(\"date\", \"count\"),  # number of delivery-days\n",
    ")\n",
    "cutoff = pd.Timestamp(\"2024-12-31\") - pd.DateOffset(years=5)\n",
    "\n",
    "rare_rm_id = stats.index[\n",
    "    (stats[\"last_delivery\"] <= cutoff) | (stats[\"total_deliveries\"] <= 23)\n",
    "]\n",
    "\n",
    "print(\n",
    "    f\"We don't have enough information to forecast the following rm_id :\\n{rare_rm_id}\"\n",
    ")\n",
    "# I remove rare_rm_id\n",
    "daily_receivals = daily_receivals[\n",
    "    ~daily_receivals[\"rm_id\"].isin(rare_rm_id)\n",
    "].reset_index(drop=True)\n",
    "\n",
    "print(\"Length of daily_receivals after filtering rare rm_id:\", len(daily_receivals))\n",
    "\n",
    "daily_receivals = RemoveOutliers(daily_receivals, \"net_weight\")\n",
    "print(\"Length of daily_receivals after removing outliers:\", len(daily_receivals))\n"
   ]
  },
  {
   "cell_type": "code",
   "execution_count": 7,
   "id": "1f557f18",
   "metadata": {},
   "outputs": [
    {
     "data": {
      "application/vnd.microsoft.datawrangler.viewer.v0+json": {
       "columns": [
        {
         "name": "index",
         "rawType": "int64",
         "type": "integer"
        },
        {
         "name": "rm_id",
         "rawType": "int64",
         "type": "integer"
        },
        {
         "name": "date",
         "rawType": "datetime64[ns]",
         "type": "datetime"
        },
        {
         "name": "net_weight",
         "rawType": "float64",
         "type": "float"
        },
        {
         "name": "total_order_qty",
         "rawType": "float64",
         "type": "float"
        },
        {
         "name": "avg_order_qty",
         "rawType": "float64",
         "type": "float"
        },
        {
         "name": "num_orders",
         "rawType": "int64",
         "type": "integer"
        }
       ],
       "ref": "9d64dd39-7562-4242-a936-ff78ba5470b6",
       "rows": [
        [
         "0",
         "2124",
         "2020-03-04 00:00:00",
         "2160.0",
         "0.0",
         null,
         "1"
        ],
        [
         "1",
         "2124",
         "2020-03-09 00:00:00",
         "2160.0",
         "0.0",
         null,
         "1"
        ],
        [
         "2",
         "2124",
         "2020-05-13 00:00:00",
         "4320.0",
         "0.0",
         null,
         "1"
        ],
        [
         "3",
         "2124",
         "2020-07-09 00:00:00",
         "4320.0",
         "0.0",
         null,
         "1"
        ],
        [
         "4",
         "2124",
         "2020-10-06 00:00:00",
         "4320.0",
         "0.0",
         null,
         "1"
        ]
       ],
       "shape": {
        "columns": 6,
        "rows": 5
       }
      },
      "text/html": [
       "<div>\n",
       "<style scoped>\n",
       "    .dataframe tbody tr th:only-of-type {\n",
       "        vertical-align: middle;\n",
       "    }\n",
       "\n",
       "    .dataframe tbody tr th {\n",
       "        vertical-align: top;\n",
       "    }\n",
       "\n",
       "    .dataframe thead th {\n",
       "        text-align: right;\n",
       "    }\n",
       "</style>\n",
       "<table border=\"1\" class=\"dataframe\">\n",
       "  <thead>\n",
       "    <tr style=\"text-align: right;\">\n",
       "      <th></th>\n",
       "      <th>rm_id</th>\n",
       "      <th>date</th>\n",
       "      <th>net_weight</th>\n",
       "      <th>total_order_qty</th>\n",
       "      <th>avg_order_qty</th>\n",
       "      <th>num_orders</th>\n",
       "    </tr>\n",
       "  </thead>\n",
       "  <tbody>\n",
       "    <tr>\n",
       "      <th>0</th>\n",
       "      <td>2124</td>\n",
       "      <td>2020-03-04</td>\n",
       "      <td>2160.0</td>\n",
       "      <td>0.0</td>\n",
       "      <td>NaN</td>\n",
       "      <td>1</td>\n",
       "    </tr>\n",
       "    <tr>\n",
       "      <th>1</th>\n",
       "      <td>2124</td>\n",
       "      <td>2020-03-09</td>\n",
       "      <td>2160.0</td>\n",
       "      <td>0.0</td>\n",
       "      <td>NaN</td>\n",
       "      <td>1</td>\n",
       "    </tr>\n",
       "    <tr>\n",
       "      <th>2</th>\n",
       "      <td>2124</td>\n",
       "      <td>2020-05-13</td>\n",
       "      <td>4320.0</td>\n",
       "      <td>0.0</td>\n",
       "      <td>NaN</td>\n",
       "      <td>1</td>\n",
       "    </tr>\n",
       "    <tr>\n",
       "      <th>3</th>\n",
       "      <td>2124</td>\n",
       "      <td>2020-07-09</td>\n",
       "      <td>4320.0</td>\n",
       "      <td>0.0</td>\n",
       "      <td>NaN</td>\n",
       "      <td>1</td>\n",
       "    </tr>\n",
       "    <tr>\n",
       "      <th>4</th>\n",
       "      <td>2124</td>\n",
       "      <td>2020-10-06</td>\n",
       "      <td>4320.0</td>\n",
       "      <td>0.0</td>\n",
       "      <td>NaN</td>\n",
       "      <td>1</td>\n",
       "    </tr>\n",
       "  </tbody>\n",
       "</table>\n",
       "</div>"
      ],
      "text/plain": [
       "   rm_id       date  net_weight  total_order_qty  avg_order_qty  num_orders\n",
       "0   2124 2020-03-04      2160.0              0.0            NaN           1\n",
       "1   2124 2020-03-09      2160.0              0.0            NaN           1\n",
       "2   2124 2020-05-13      4320.0              0.0            NaN           1\n",
       "3   2124 2020-07-09      4320.0              0.0            NaN           1\n",
       "4   2124 2020-10-06      4320.0              0.0            NaN           1"
      ]
     },
     "execution_count": 7,
     "metadata": {},
     "output_type": "execute_result"
    }
   ],
   "source": [
    "daily_receivals.head()"
   ]
  },
  {
   "cell_type": "code",
   "execution_count": null,
   "id": "27738cc5",
   "metadata": {},
   "outputs": [],
   "source": []
  },
  {
   "cell_type": "code",
   "execution_count": 8,
   "id": "97f1f369",
   "metadata": {},
   "outputs": [],
   "source": [
    "# # build full index. one timestamp for each day for each rm_id\n",
    "# full_start = daily_receivals[\"date\"].min()\n",
    "# print(\"Full start date:\", full_start)\n",
    "# full_end = pd.Timestamp(\"2024-12-31\")\n",
    "# rm_ids = pd.Index(daily_receivals[\"rm_id\"].unique(), name=\"rm_id\")\n",
    "# calendar = pd.date_range(full_start, full_end, freq=\"D\", name=\"date\")\n",
    "# full_idx = pd.MultiIndex.from_product([rm_ids, calendar], names=[\"rm_id\", \"date\"])\n",
    "# print(len(full_idx))\n",
    "# daily_receivals = (\n",
    "#     daily_receivals.set_index([\"rm_id\", \"date\"])\n",
    "#     .reindex(full_idx, fill_value=0)\n",
    "#     .reset_index()\n",
    "# )\n",
    "\n",
    "# print(len(daily_receivals))"
   ]
  },
  {
   "cell_type": "code",
   "execution_count": 9,
   "id": "a5150d5f",
   "metadata": {},
   "outputs": [],
   "source": [
    "# add rolling count features: number of delivery-days (net_weight>0) in last 7/30 days\n",
    "daily_receivals = daily_receivals.sort_values([\"rm_id\", \"date\"])\n",
    "daily_receivals[\"deliv_flag\"] = (daily_receivals[\"net_weight\"] > 0).astype(int)\n",
    "\n",
    "for w in (7, 30):\n",
    "    col = f\"num_deliveries_last_{w}d\"\n",
    "    daily_receivals[col] = (\n",
    "        daily_receivals.groupby(\"rm_id\")[\"deliv_flag\"]\n",
    "        .rolling(window=w, min_periods=1)\n",
    "        .sum()\n",
    "        .reset_index(level=0, drop=True)\n",
    "        .astype(int)\n",
    "    )\n",
    "\n",
    "# add rolling cumsum features: total net_weight in last 7/30 days\n",
    "for w in (7, 30):\n",
    "    col = f\"total_net_weight_last_{w}d\"\n",
    "    daily_receivals[col] = (\n",
    "        daily_receivals.groupby(\"rm_id\")[\"net_weight\"]\n",
    "        .rolling(window=w, min_periods=1)\n",
    "        .sum()\n",
    "        .reset_index(level=0, drop=True)\n",
    "    )\n",
    "\n",
    "# total ordered_qty in last 7/30 days\n",
    "for w in (7, 30):\n",
    "    col = f\"total_order_qty_last_{w}d\"\n",
    "    daily_receivals[col] = (\n",
    "        daily_receivals.groupby(\"rm_id\")[\"total_order_qty\"]\n",
    "        .rolling(window=w, min_periods=1)\n",
    "        .sum()\n",
    "        .reset_index(level=0, drop=True)\n",
    "    )\n",
    "\n",
    "# average ordered_qty in last 7/30 days\n",
    "for w in (7, 30):\n",
    "    col = f\"avg_order_qty_last_{w}d\"\n",
    "    daily_receivals[col] = (\n",
    "        daily_receivals.groupby(\"rm_id\")[\"avg_order_qty\"]\n",
    "        .rolling(window=w, min_periods=1)\n",
    "        .mean()\n",
    "        .reset_index(level=0, drop=True)\n",
    "    )\n",
    "\n",
    "# std ordered_qty in last 7/30 days\n",
    "for w in (7, 30):\n",
    "    col = f\"std_order_qty_last_{w}d\"\n",
    "    daily_receivals[col] = (\n",
    "        daily_receivals.groupby(\"rm_id\")[\"avg_order_qty\"]\n",
    "        .rolling(window=w, min_periods=1)\n",
    "        .std()\n",
    "        .reset_index(level=0, drop=True)\n",
    "    ).fillna(0)\n",
    "\n",
    "# num orders in last 7/30 days\n",
    "for w in (7, 30):\n",
    "    col = f\"num_orders_last_{w}d\"\n",
    "    daily_receivals[col] = (\n",
    "        daily_receivals.groupby(\"rm_id\")[\"num_orders\"]\n",
    "        .rolling(window=w, min_periods=1)\n",
    "        .sum()\n",
    "        .reset_index(level=0, drop=True)\n",
    "    )"
   ]
  },
  {
   "cell_type": "markdown",
   "id": "beb69671",
   "metadata": {},
   "source": [
    "## Convert to TimeSeries"
   ]
  },
  {
   "cell_type": "code",
   "execution_count": 10,
   "id": "6a11d7b9",
   "metadata": {},
   "outputs": [
    {
     "name": "stdout",
     "output_type": "stream",
     "text": [
      "39 1613\n"
     ]
    }
   ],
   "source": [
    "series_lst = TimeSeries.from_group_dataframe(\n",
    "    daily_receivals,\n",
    "    \"rm_id\",\n",
    "    \"date\",\n",
    "    \"net_weight\",\n",
    "    freq=\"D\",\n",
    "    fill_missing_dates=True,\n",
    "    fillna_value=0.0,\n",
    ")\n",
    "# series_lst = [ts.astype(np.float32) for ts in series_lst]\n",
    "print(len(series_lst), len(series_lst[0]))"
   ]
  },
  {
   "cell_type": "code",
   "execution_count": 11,
   "id": "379e71ca",
   "metadata": {},
   "outputs": [
    {
     "name": "stdout",
     "output_type": "stream",
     "text": [
      "39 1613\n"
     ]
    }
   ],
   "source": [
    "from darts.dataprocessing.transformers import InvertibleMapper\n",
    "\n",
    "covariate_cols = [\n",
    "    \"num_deliveries_last_7d\",\n",
    "    \"num_deliveries_last_30d\",\n",
    "    \"total_net_weight_last_7d\",\n",
    "    \"total_net_weight_last_30d\",\n",
    "    \"total_order_qty_last_7d\",\n",
    "    \"total_order_qty_last_30d\",\n",
    "    \"avg_order_qty_last_7d\",\n",
    "    \"avg_order_qty_last_30d\",\n",
    "    \"num_orders_last_7d\",\n",
    "    \"num_orders_last_30d\",\n",
    "    \"std_order_qty_last_7d\",\n",
    "    \"std_order_qty_last_30d\",\n",
    "]\n",
    "\n",
    "covariate_series = TimeSeries.from_group_dataframe(\n",
    "    daily_receivals,\n",
    "    \"rm_id\",\n",
    "    \"date\",\n",
    "    covariate_cols,\n",
    "    freq=\"D\",\n",
    "    fill_missing_dates=True,\n",
    "    fillna_value=0.0,\n",
    ")\n",
    "\n",
    "# log_transformer = InvertibleMapper(lambda x: np.log1p(x), lambda x: np.expm1(x))\n",
    "# covariate_series = log_transformer.transform(covariate_series)\n",
    "\n",
    "print(len(covariate_series), len(covariate_series[0]))"
   ]
  },
  {
   "cell_type": "code",
   "execution_count": 12,
   "id": "5cb87dff",
   "metadata": {},
   "outputs": [
    {
     "name": "stdout",
     "output_type": "stream",
     "text": [
      "39 1613\n"
     ]
    }
   ],
   "source": [
    "from darts.dataprocessing.transformers import WindowTransformer\n",
    "\n",
    "# Extract mean of last seven days from series\n",
    "transformer = WindowTransformer(\n",
    "    transforms={\"function\": \"mean\", \"mode\": \"rolling\", \"window\": 7}, treat_na=0\n",
    ")\n",
    "mean_7_days = transformer.transform(series_lst)\n",
    "\n",
    "transformer = WindowTransformer(\n",
    "    transforms={\"function\": \"mean\", \"mode\": \"rolling\", \"window\": 30}, treat_na=0\n",
    ")\n",
    "mean_30_days = transformer.transform(series_lst)\n",
    "\n",
    "transformer = WindowTransformer(\n",
    "    transforms={\"function\": \"mean\", \"mode\": \"rolling\", \"window\": 90}, treat_na=0\n",
    ")\n",
    "mean_90_days = transformer.transform(series_lst)\n",
    "\n",
    "print(len(mean_7_days), len(mean_7_days[0]))"
   ]
  },
  {
   "cell_type": "code",
   "execution_count": 13,
   "id": "bc3fc180",
   "metadata": {},
   "outputs": [
    {
     "name": "stdout",
     "output_type": "stream",
     "text": [
      "39 1613\n"
     ]
    }
   ],
   "source": [
    "from darts.utils.statistics import extract_trend_and_seasonality\n",
    "from darts.utils.utils import ModelMode\n",
    "\n",
    "\n",
    "trend_and_seasonality = []\n",
    "for i, series in enumerate(series_lst):\n",
    "    # Extract trend and seasonal components\n",
    "    if len(series) < 2 * 7:\n",
    "        print(f\"Series {i} is too short for trend/seasonality extraction.\")\n",
    "        # Platzhalter erstellen\n",
    "        trend_placeholder = TimeSeries.from_times_and_values(\n",
    "            series.time_index, np.zeros((len(series), 1)), columns=[\"trend\"]\n",
    "        )\n",
    "        seasonal_placeholder = TimeSeries.from_times_and_values(\n",
    "            series.time_index, np.zeros((len(series), 1)), columns=[\"seasonal\"]\n",
    "        )\n",
    "        trend_and_seasonality.append((trend_placeholder, seasonal_placeholder))\n",
    "        continue\n",
    "\n",
    "    trend, seasonal = extract_trend_and_seasonality(\n",
    "        series, freq=7, model=ModelMode.ADDITIVE\n",
    "    )\n",
    "    trend = trend.with_columns_renamed(\"net_weight\", \"trend\")\n",
    "    seasonal = seasonal.with_columns_renamed(\"net_weight\", \"seasonal\")\n",
    "\n",
    "    trend_and_seasonality.append((trend, seasonal))\n",
    "\n",
    "print(len(trend_and_seasonality), len(trend_and_seasonality[0][0]))"
   ]
  },
  {
   "cell_type": "code",
   "execution_count": 14,
   "id": "fbb5f972",
   "metadata": {},
   "outputs": [
    {
     "name": "stdout",
     "output_type": "stream",
     "text": [
      "39 1613\n"
     ]
    }
   ],
   "source": [
    "from darts import concatenate\n",
    "\n",
    "past_covariates = []\n",
    "for i, series in enumerate(series_lst):\n",
    "    trend = trend_and_seasonality[i][0]\n",
    "    seasonal = trend_and_seasonality[i][1]\n",
    "\n",
    "    post_cov = concatenate(\n",
    "        [\n",
    "            # mean_7_days[i],\n",
    "            # mean_30_days[i],\n",
    "            # mean_90_days[i],\n",
    "            # covariate_series[i],\n",
    "            trend,\n",
    "            seasonal,\n",
    "        ],\n",
    "        axis=1,\n",
    "        ignore_static_covariates=True,\n",
    "    )\n",
    "    past_covariates.append(post_cov)\n",
    "\n",
    "\n",
    "print(len(past_covariates), len(past_covariates[0]))"
   ]
  },
  {
   "cell_type": "code",
   "execution_count": 15,
   "id": "dc4612f6",
   "metadata": {},
   "outputs": [
    {
     "data": {
      "text/plain": [
       "Index(['trend', 'seasonal'], dtype='object')"
      ]
     },
     "execution_count": 15,
     "metadata": {},
     "output_type": "execute_result"
    }
   ],
   "source": [
    "past_covariates[0].columns"
   ]
  },
  {
   "cell_type": "code",
   "execution_count": 16,
   "id": "40d9dfa2",
   "metadata": {},
   "outputs": [
    {
     "data": {
      "application/vnd.microsoft.datawrangler.viewer.v0+json": {
       "columns": [
        {
         "name": "index",
         "rawType": "object",
         "type": "string"
        },
        {
         "name": "count",
         "rawType": "float64",
         "type": "float"
        },
        {
         "name": "mean",
         "rawType": "float64",
         "type": "float"
        },
        {
         "name": "std",
         "rawType": "float64",
         "type": "float"
        },
        {
         "name": "min",
         "rawType": "float64",
         "type": "float"
        },
        {
         "name": "25%",
         "rawType": "float64",
         "type": "float"
        },
        {
         "name": "50%",
         "rawType": "float64",
         "type": "float"
        },
        {
         "name": "75%",
         "rawType": "float64",
         "type": "float"
        },
        {
         "name": "max",
         "rawType": "float64",
         "type": "float"
        },
        {
         "name": "nonzero_count",
         "rawType": "int64",
         "type": "integer"
        },
        {
         "name": "nonzero_ratio",
         "rawType": "float64",
         "type": "float"
        }
       ],
       "ref": "c2c83fb0-8788-4a1d-9762-c6b0b040e9c3",
       "rows": [
        [
         "num_deliveries_last_7d",
         "12671.0",
         "6.935364217504538",
         "0.5252926642553265",
         "1.0",
         "7.0",
         "7.0",
         "7.0",
         "7.0",
         "12671",
         "1.0"
        ],
        [
         "num_deliveries_last_30d",
         "12671.0",
         "28.664983032120592",
         "4.953635490776607",
         "1.0",
         "30.0",
         "30.0",
         "30.0",
         "30.0",
         "12671",
         "1.0"
        ],
        [
         "total_net_weight_last_7d",
         "12671.0",
         "182262.4219872149",
         "147042.0505096596",
         "1100.0",
         "52311.0",
         "172460.0",
         "275841.0",
         "716863.0",
         "12671",
         "1.0"
        ],
        [
         "total_net_weight_last_30d",
         "12671.0",
         "755708.9215531528",
         "609087.4911236098",
         "1100.0",
         "222079.5",
         "747250.0",
         "1169928.5",
         "2683460.0",
         "12671",
         "1.0"
        ],
        [
         "total_order_qty_last_7d",
         "12671.0",
         "5592762.9627495855",
         "11829521.968795836",
         "0.0",
         "570000.0",
         "1125000.0",
         "3000000.0",
         "80285000.0",
         "12586",
         "0.9932917686054771"
        ],
        [
         "total_order_qty_last_30d",
         "12671.0",
         "23293253.351195645",
         "48837087.76303507",
         "0.0",
         "2456000.0",
         "4950000.0",
         "12700000.0",
         "286070000.0",
         "12629",
         "0.9966853444874122"
        ],
        [
         "avg_order_qty_last_7d",
         "12586.0",
         "259712.46142141463",
         "352743.78272329597",
         "5000.0",
         "61428.57142857143",
         "114285.71428571429",
         "285714.28571428574",
         "2253231.292517007",
         "12671",
         "1.0"
        ],
        [
         "avg_order_qty_last_30d",
         "12629.0",
         "258169.83019743854",
         "345936.7896366038",
         "7400.0",
         "62888.88888888889",
         "118955.55555555555",
         "276666.6666666667",
         "1948532.1428571427",
         "12671",
         "1.0"
        ],
        [
         "num_orders_last_7d",
         "12671.0",
         "13.575645174019414",
         "8.971370952756194",
         "1.0",
         "8.0",
         "10.0",
         "15.0",
         "58.0",
         "12671",
         "1.0"
        ],
        [
         "num_orders_last_30d",
         "12671.0",
         "56.427985162970565",
         "37.24444946962273",
         "1.0",
         "35.0",
         "43.0",
         "61.0",
         "209.0",
         "12671",
         "1.0"
        ],
        [
         "std_order_qty_last_7d",
         "12671.0",
         "75617.59404042587",
         "116372.07034128958",
         "0.0",
         "11997.764856839902",
         "36596.25273557066",
         "70426.72689967783",
         "955810.6984491441",
         "10834",
         "0.8550232815089575"
        ],
        [
         "std_order_qty_last_30d",
         "12671.0",
         "90058.49427539445",
         "113993.71216202599",
         "0.0",
         "29973.840146708106",
         "48512.35178655089",
         "91851.9548468916",
         "714112.3006558911",
         "12290",
         "0.9699313392786678"
        ]
       ],
       "shape": {
        "columns": 10,
        "rows": 12
       }
      },
      "text/html": [
       "<div>\n",
       "<style scoped>\n",
       "    .dataframe tbody tr th:only-of-type {\n",
       "        vertical-align: middle;\n",
       "    }\n",
       "\n",
       "    .dataframe tbody tr th {\n",
       "        vertical-align: top;\n",
       "    }\n",
       "\n",
       "    .dataframe thead th {\n",
       "        text-align: right;\n",
       "    }\n",
       "</style>\n",
       "<table border=\"1\" class=\"dataframe\">\n",
       "  <thead>\n",
       "    <tr style=\"text-align: right;\">\n",
       "      <th></th>\n",
       "      <th>count</th>\n",
       "      <th>mean</th>\n",
       "      <th>std</th>\n",
       "      <th>min</th>\n",
       "      <th>25%</th>\n",
       "      <th>50%</th>\n",
       "      <th>75%</th>\n",
       "      <th>max</th>\n",
       "      <th>nonzero_count</th>\n",
       "      <th>nonzero_ratio</th>\n",
       "    </tr>\n",
       "  </thead>\n",
       "  <tbody>\n",
       "    <tr>\n",
       "      <th>num_deliveries_last_7d</th>\n",
       "      <td>12671.0</td>\n",
       "      <td>6.935364e+00</td>\n",
       "      <td>5.252927e-01</td>\n",
       "      <td>1.0</td>\n",
       "      <td>7.000000e+00</td>\n",
       "      <td>7.000000e+00</td>\n",
       "      <td>7.000000e+00</td>\n",
       "      <td>7.000000e+00</td>\n",
       "      <td>12671</td>\n",
       "      <td>1.000000</td>\n",
       "    </tr>\n",
       "    <tr>\n",
       "      <th>num_deliveries_last_30d</th>\n",
       "      <td>12671.0</td>\n",
       "      <td>2.866498e+01</td>\n",
       "      <td>4.953635e+00</td>\n",
       "      <td>1.0</td>\n",
       "      <td>3.000000e+01</td>\n",
       "      <td>3.000000e+01</td>\n",
       "      <td>3.000000e+01</td>\n",
       "      <td>3.000000e+01</td>\n",
       "      <td>12671</td>\n",
       "      <td>1.000000</td>\n",
       "    </tr>\n",
       "    <tr>\n",
       "      <th>total_net_weight_last_7d</th>\n",
       "      <td>12671.0</td>\n",
       "      <td>1.822624e+05</td>\n",
       "      <td>1.470421e+05</td>\n",
       "      <td>1100.0</td>\n",
       "      <td>5.231100e+04</td>\n",
       "      <td>1.724600e+05</td>\n",
       "      <td>2.758410e+05</td>\n",
       "      <td>7.168630e+05</td>\n",
       "      <td>12671</td>\n",
       "      <td>1.000000</td>\n",
       "    </tr>\n",
       "    <tr>\n",
       "      <th>total_net_weight_last_30d</th>\n",
       "      <td>12671.0</td>\n",
       "      <td>7.557089e+05</td>\n",
       "      <td>6.090875e+05</td>\n",
       "      <td>1100.0</td>\n",
       "      <td>2.220795e+05</td>\n",
       "      <td>7.472500e+05</td>\n",
       "      <td>1.169928e+06</td>\n",
       "      <td>2.683460e+06</td>\n",
       "      <td>12671</td>\n",
       "      <td>1.000000</td>\n",
       "    </tr>\n",
       "    <tr>\n",
       "      <th>total_order_qty_last_7d</th>\n",
       "      <td>12671.0</td>\n",
       "      <td>5.592763e+06</td>\n",
       "      <td>1.182952e+07</td>\n",
       "      <td>0.0</td>\n",
       "      <td>5.700000e+05</td>\n",
       "      <td>1.125000e+06</td>\n",
       "      <td>3.000000e+06</td>\n",
       "      <td>8.028500e+07</td>\n",
       "      <td>12586</td>\n",
       "      <td>0.993292</td>\n",
       "    </tr>\n",
       "    <tr>\n",
       "      <th>total_order_qty_last_30d</th>\n",
       "      <td>12671.0</td>\n",
       "      <td>2.329325e+07</td>\n",
       "      <td>4.883709e+07</td>\n",
       "      <td>0.0</td>\n",
       "      <td>2.456000e+06</td>\n",
       "      <td>4.950000e+06</td>\n",
       "      <td>1.270000e+07</td>\n",
       "      <td>2.860700e+08</td>\n",
       "      <td>12629</td>\n",
       "      <td>0.996685</td>\n",
       "    </tr>\n",
       "    <tr>\n",
       "      <th>avg_order_qty_last_7d</th>\n",
       "      <td>12586.0</td>\n",
       "      <td>2.597125e+05</td>\n",
       "      <td>3.527438e+05</td>\n",
       "      <td>5000.0</td>\n",
       "      <td>6.142857e+04</td>\n",
       "      <td>1.142857e+05</td>\n",
       "      <td>2.857143e+05</td>\n",
       "      <td>2.253231e+06</td>\n",
       "      <td>12671</td>\n",
       "      <td>1.000000</td>\n",
       "    </tr>\n",
       "    <tr>\n",
       "      <th>avg_order_qty_last_30d</th>\n",
       "      <td>12629.0</td>\n",
       "      <td>2.581698e+05</td>\n",
       "      <td>3.459368e+05</td>\n",
       "      <td>7400.0</td>\n",
       "      <td>6.288889e+04</td>\n",
       "      <td>1.189556e+05</td>\n",
       "      <td>2.766667e+05</td>\n",
       "      <td>1.948532e+06</td>\n",
       "      <td>12671</td>\n",
       "      <td>1.000000</td>\n",
       "    </tr>\n",
       "    <tr>\n",
       "      <th>num_orders_last_7d</th>\n",
       "      <td>12671.0</td>\n",
       "      <td>1.357565e+01</td>\n",
       "      <td>8.971371e+00</td>\n",
       "      <td>1.0</td>\n",
       "      <td>8.000000e+00</td>\n",
       "      <td>1.000000e+01</td>\n",
       "      <td>1.500000e+01</td>\n",
       "      <td>5.800000e+01</td>\n",
       "      <td>12671</td>\n",
       "      <td>1.000000</td>\n",
       "    </tr>\n",
       "    <tr>\n",
       "      <th>num_orders_last_30d</th>\n",
       "      <td>12671.0</td>\n",
       "      <td>5.642799e+01</td>\n",
       "      <td>3.724445e+01</td>\n",
       "      <td>1.0</td>\n",
       "      <td>3.500000e+01</td>\n",
       "      <td>4.300000e+01</td>\n",
       "      <td>6.100000e+01</td>\n",
       "      <td>2.090000e+02</td>\n",
       "      <td>12671</td>\n",
       "      <td>1.000000</td>\n",
       "    </tr>\n",
       "    <tr>\n",
       "      <th>std_order_qty_last_7d</th>\n",
       "      <td>12671.0</td>\n",
       "      <td>7.561759e+04</td>\n",
       "      <td>1.163721e+05</td>\n",
       "      <td>0.0</td>\n",
       "      <td>1.199776e+04</td>\n",
       "      <td>3.659625e+04</td>\n",
       "      <td>7.042673e+04</td>\n",
       "      <td>9.558107e+05</td>\n",
       "      <td>10834</td>\n",
       "      <td>0.855023</td>\n",
       "    </tr>\n",
       "    <tr>\n",
       "      <th>std_order_qty_last_30d</th>\n",
       "      <td>12671.0</td>\n",
       "      <td>9.005849e+04</td>\n",
       "      <td>1.139937e+05</td>\n",
       "      <td>0.0</td>\n",
       "      <td>2.997384e+04</td>\n",
       "      <td>4.851235e+04</td>\n",
       "      <td>9.185195e+04</td>\n",
       "      <td>7.141123e+05</td>\n",
       "      <td>12290</td>\n",
       "      <td>0.969931</td>\n",
       "    </tr>\n",
       "  </tbody>\n",
       "</table>\n",
       "</div>"
      ],
      "text/plain": [
       "                             count          mean           std     min  \\\n",
       "num_deliveries_last_7d     12671.0  6.935364e+00  5.252927e-01     1.0   \n",
       "num_deliveries_last_30d    12671.0  2.866498e+01  4.953635e+00     1.0   \n",
       "total_net_weight_last_7d   12671.0  1.822624e+05  1.470421e+05  1100.0   \n",
       "total_net_weight_last_30d  12671.0  7.557089e+05  6.090875e+05  1100.0   \n",
       "total_order_qty_last_7d    12671.0  5.592763e+06  1.182952e+07     0.0   \n",
       "total_order_qty_last_30d   12671.0  2.329325e+07  4.883709e+07     0.0   \n",
       "avg_order_qty_last_7d      12586.0  2.597125e+05  3.527438e+05  5000.0   \n",
       "avg_order_qty_last_30d     12629.0  2.581698e+05  3.459368e+05  7400.0   \n",
       "num_orders_last_7d         12671.0  1.357565e+01  8.971371e+00     1.0   \n",
       "num_orders_last_30d        12671.0  5.642799e+01  3.724445e+01     1.0   \n",
       "std_order_qty_last_7d      12671.0  7.561759e+04  1.163721e+05     0.0   \n",
       "std_order_qty_last_30d     12671.0  9.005849e+04  1.139937e+05     0.0   \n",
       "\n",
       "                                    25%           50%           75%  \\\n",
       "num_deliveries_last_7d     7.000000e+00  7.000000e+00  7.000000e+00   \n",
       "num_deliveries_last_30d    3.000000e+01  3.000000e+01  3.000000e+01   \n",
       "total_net_weight_last_7d   5.231100e+04  1.724600e+05  2.758410e+05   \n",
       "total_net_weight_last_30d  2.220795e+05  7.472500e+05  1.169928e+06   \n",
       "total_order_qty_last_7d    5.700000e+05  1.125000e+06  3.000000e+06   \n",
       "total_order_qty_last_30d   2.456000e+06  4.950000e+06  1.270000e+07   \n",
       "avg_order_qty_last_7d      6.142857e+04  1.142857e+05  2.857143e+05   \n",
       "avg_order_qty_last_30d     6.288889e+04  1.189556e+05  2.766667e+05   \n",
       "num_orders_last_7d         8.000000e+00  1.000000e+01  1.500000e+01   \n",
       "num_orders_last_30d        3.500000e+01  4.300000e+01  6.100000e+01   \n",
       "std_order_qty_last_7d      1.199776e+04  3.659625e+04  7.042673e+04   \n",
       "std_order_qty_last_30d     2.997384e+04  4.851235e+04  9.185195e+04   \n",
       "\n",
       "                                    max  nonzero_count  nonzero_ratio  \n",
       "num_deliveries_last_7d     7.000000e+00          12671       1.000000  \n",
       "num_deliveries_last_30d    3.000000e+01          12671       1.000000  \n",
       "total_net_weight_last_7d   7.168630e+05          12671       1.000000  \n",
       "total_net_weight_last_30d  2.683460e+06          12671       1.000000  \n",
       "total_order_qty_last_7d    8.028500e+07          12586       0.993292  \n",
       "total_order_qty_last_30d   2.860700e+08          12629       0.996685  \n",
       "avg_order_qty_last_7d      2.253231e+06          12671       1.000000  \n",
       "avg_order_qty_last_30d     1.948532e+06          12671       1.000000  \n",
       "num_orders_last_7d         5.800000e+01          12671       1.000000  \n",
       "num_orders_last_30d        2.090000e+02          12671       1.000000  \n",
       "std_order_qty_last_7d      9.558107e+05          10834       0.855023  \n",
       "std_order_qty_last_30d     7.141123e+05          12290       0.969931  "
      ]
     },
     "metadata": {},
     "output_type": "display_data"
    },
    {
     "data": {
      "application/vnd.microsoft.datawrangler.viewer.v0+json": {
       "columns": [
        {
         "name": "index",
         "rawType": "object",
         "type": "string"
        },
        {
         "name": "count",
         "rawType": "float64",
         "type": "float"
        },
        {
         "name": "mean",
         "rawType": "float64",
         "type": "float"
        },
        {
         "name": "std",
         "rawType": "float64",
         "type": "float"
        },
        {
         "name": "min",
         "rawType": "float64",
         "type": "float"
        },
        {
         "name": "25%",
         "rawType": "float64",
         "type": "float"
        },
        {
         "name": "50%",
         "rawType": "float64",
         "type": "float"
        },
        {
         "name": "75%",
         "rawType": "float64",
         "type": "float"
        },
        {
         "name": "max",
         "rawType": "float64",
         "type": "float"
        },
        {
         "name": "nonzero_count",
         "rawType": "int64",
         "type": "integer"
        },
        {
         "name": "nonzero_ratio",
         "rawType": "float64",
         "type": "float"
        }
       ],
       "ref": "ac176c11-ac30-43b9-825b-98d5f5ad8d3e",
       "rows": [
        [
         "num_deliveries_last_7d",
         "12671.0",
         "2.0672792792166095",
         "0.10581787905609889",
         "0.6931471805599453",
         "2.0794415416798357",
         "2.0794415416798357",
         "2.0794415416798357",
         "2.0794415416798357",
         "12671",
         "1.0"
        ],
        [
         "num_deliveries_last_30d",
         "12671.0",
         "3.3573951800548643",
         "0.32390246478146756",
         "0.6931471805599453",
         "3.4339872044851463",
         "3.4339872044851463",
         "3.4339872044851463",
         "3.4339872044851463",
         "12671",
         "1.0"
        ],
        [
         "total_net_weight_last_7d",
         "12671.0",
         "11.664789746927296",
         "1.0788144491499696",
         "7.00397413672268",
         "10.864981064673309",
         "12.057926402935522",
         "12.527583507016328",
         "13.482641422371412",
         "12671",
         "1.0"
        ],
        [
         "total_net_weight_last_30d",
         "12671.0",
         "13.089023393197504",
         "1.0709186558774832",
         "7.00397413672268",
         "12.310795206398224",
         "13.524156418385504",
         "13.972454048185721",
         "14.802617937234608",
         "12671",
         "1.0"
        ],
        [
         "total_order_qty_last_7d",
         "12671.0",
         "14.11322369325067",
         "1.9172177361949547",
         "0.0",
         "13.25339339419516",
         "13.933294482509151",
         "14.914123179965662",
         "18.20109337442155",
         "12586",
         "0.9932917686054771"
        ],
        [
         "total_order_qty_last_30d",
         "12671.0",
         "15.582587499011673",
         "1.798068546851958",
         "0.0",
         "14.714044892523145",
         "15.414898336565054",
         "16.357112630168974",
         "19.471747097576852",
         "12629",
         "0.9966853444874122"
        ],
        [
         "avg_order_qty_last_7d",
         "12586.0",
         "11.76932502377844",
         "1.1877881795164613",
         "8.517393171418904",
         "11.025646617551697",
         "11.64646560755647",
         "12.56275108946278",
         "14.627876317746706",
         "12671",
         "1.0"
        ],
        [
         "avg_order_qty_last_30d",
         "12629.0",
         "11.791965805622969",
         "1.156012013202122",
         "8.909370405197466",
         "11.04914068078275",
         "11.68651362607089",
         "12.530572305555971",
         "14.48258741303741",
         "12671",
         "1.0"
        ],
        [
         "num_orders_last_7d",
         "12671.0",
         "2.5450609944702776",
         "0.48420544164096296",
         "0.6931471805599453",
         "2.1972245773362196",
         "2.3978952727983707",
         "2.772588722239781",
         "4.07753744390572",
         "12671",
         "1.0"
        ],
        [
         "num_orders_last_30d",
         "12671.0",
         "3.8812682948394857",
         "0.5910307134382007",
         "0.6931471805599453",
         "3.58351893845611",
         "3.784189633918261",
         "4.127134385045092",
         "5.3471075307174685",
         "12671",
         "1.0"
        ],
        [
         "std_order_qty_last_7d",
         "12671.0",
         "9.154933757252566",
         "3.9260800928127306",
         "0.0",
         "9.39255876214955",
         "10.507728454702521",
         "11.16234229975932",
         "13.770316204483334",
         "10834",
         "0.8550232815089575"
        ],
        [
         "std_order_qty_last_30d",
         "12671.0",
         "10.565418191091469",
         "2.1343591571004024",
         "0.0",
         "10.308113635217104",
         "10.789594333607038",
         "11.427944260478474",
         "13.47879691312469",
         "12290",
         "0.9699313392786678"
        ]
       ],
       "shape": {
        "columns": 10,
        "rows": 12
       }
      },
      "text/html": [
       "<div>\n",
       "<style scoped>\n",
       "    .dataframe tbody tr th:only-of-type {\n",
       "        vertical-align: middle;\n",
       "    }\n",
       "\n",
       "    .dataframe tbody tr th {\n",
       "        vertical-align: top;\n",
       "    }\n",
       "\n",
       "    .dataframe thead th {\n",
       "        text-align: right;\n",
       "    }\n",
       "</style>\n",
       "<table border=\"1\" class=\"dataframe\">\n",
       "  <thead>\n",
       "    <tr style=\"text-align: right;\">\n",
       "      <th></th>\n",
       "      <th>count</th>\n",
       "      <th>mean</th>\n",
       "      <th>std</th>\n",
       "      <th>min</th>\n",
       "      <th>25%</th>\n",
       "      <th>50%</th>\n",
       "      <th>75%</th>\n",
       "      <th>max</th>\n",
       "      <th>nonzero_count</th>\n",
       "      <th>nonzero_ratio</th>\n",
       "    </tr>\n",
       "  </thead>\n",
       "  <tbody>\n",
       "    <tr>\n",
       "      <th>num_deliveries_last_7d</th>\n",
       "      <td>12671.0</td>\n",
       "      <td>2.067279</td>\n",
       "      <td>0.105818</td>\n",
       "      <td>0.693147</td>\n",
       "      <td>2.079442</td>\n",
       "      <td>2.079442</td>\n",
       "      <td>2.079442</td>\n",
       "      <td>2.079442</td>\n",
       "      <td>12671</td>\n",
       "      <td>1.000000</td>\n",
       "    </tr>\n",
       "    <tr>\n",
       "      <th>num_deliveries_last_30d</th>\n",
       "      <td>12671.0</td>\n",
       "      <td>3.357395</td>\n",
       "      <td>0.323902</td>\n",
       "      <td>0.693147</td>\n",
       "      <td>3.433987</td>\n",
       "      <td>3.433987</td>\n",
       "      <td>3.433987</td>\n",
       "      <td>3.433987</td>\n",
       "      <td>12671</td>\n",
       "      <td>1.000000</td>\n",
       "    </tr>\n",
       "    <tr>\n",
       "      <th>total_net_weight_last_7d</th>\n",
       "      <td>12671.0</td>\n",
       "      <td>11.664790</td>\n",
       "      <td>1.078814</td>\n",
       "      <td>7.003974</td>\n",
       "      <td>10.864981</td>\n",
       "      <td>12.057926</td>\n",
       "      <td>12.527584</td>\n",
       "      <td>13.482641</td>\n",
       "      <td>12671</td>\n",
       "      <td>1.000000</td>\n",
       "    </tr>\n",
       "    <tr>\n",
       "      <th>total_net_weight_last_30d</th>\n",
       "      <td>12671.0</td>\n",
       "      <td>13.089023</td>\n",
       "      <td>1.070919</td>\n",
       "      <td>7.003974</td>\n",
       "      <td>12.310795</td>\n",
       "      <td>13.524156</td>\n",
       "      <td>13.972454</td>\n",
       "      <td>14.802618</td>\n",
       "      <td>12671</td>\n",
       "      <td>1.000000</td>\n",
       "    </tr>\n",
       "    <tr>\n",
       "      <th>total_order_qty_last_7d</th>\n",
       "      <td>12671.0</td>\n",
       "      <td>14.113224</td>\n",
       "      <td>1.917218</td>\n",
       "      <td>0.000000</td>\n",
       "      <td>13.253393</td>\n",
       "      <td>13.933294</td>\n",
       "      <td>14.914123</td>\n",
       "      <td>18.201093</td>\n",
       "      <td>12586</td>\n",
       "      <td>0.993292</td>\n",
       "    </tr>\n",
       "    <tr>\n",
       "      <th>total_order_qty_last_30d</th>\n",
       "      <td>12671.0</td>\n",
       "      <td>15.582587</td>\n",
       "      <td>1.798069</td>\n",
       "      <td>0.000000</td>\n",
       "      <td>14.714045</td>\n",
       "      <td>15.414898</td>\n",
       "      <td>16.357113</td>\n",
       "      <td>19.471747</td>\n",
       "      <td>12629</td>\n",
       "      <td>0.996685</td>\n",
       "    </tr>\n",
       "    <tr>\n",
       "      <th>avg_order_qty_last_7d</th>\n",
       "      <td>12586.0</td>\n",
       "      <td>11.769325</td>\n",
       "      <td>1.187788</td>\n",
       "      <td>8.517393</td>\n",
       "      <td>11.025647</td>\n",
       "      <td>11.646466</td>\n",
       "      <td>12.562751</td>\n",
       "      <td>14.627876</td>\n",
       "      <td>12671</td>\n",
       "      <td>1.000000</td>\n",
       "    </tr>\n",
       "    <tr>\n",
       "      <th>avg_order_qty_last_30d</th>\n",
       "      <td>12629.0</td>\n",
       "      <td>11.791966</td>\n",
       "      <td>1.156012</td>\n",
       "      <td>8.909370</td>\n",
       "      <td>11.049141</td>\n",
       "      <td>11.686514</td>\n",
       "      <td>12.530572</td>\n",
       "      <td>14.482587</td>\n",
       "      <td>12671</td>\n",
       "      <td>1.000000</td>\n",
       "    </tr>\n",
       "    <tr>\n",
       "      <th>num_orders_last_7d</th>\n",
       "      <td>12671.0</td>\n",
       "      <td>2.545061</td>\n",
       "      <td>0.484205</td>\n",
       "      <td>0.693147</td>\n",
       "      <td>2.197225</td>\n",
       "      <td>2.397895</td>\n",
       "      <td>2.772589</td>\n",
       "      <td>4.077537</td>\n",
       "      <td>12671</td>\n",
       "      <td>1.000000</td>\n",
       "    </tr>\n",
       "    <tr>\n",
       "      <th>num_orders_last_30d</th>\n",
       "      <td>12671.0</td>\n",
       "      <td>3.881268</td>\n",
       "      <td>0.591031</td>\n",
       "      <td>0.693147</td>\n",
       "      <td>3.583519</td>\n",
       "      <td>3.784190</td>\n",
       "      <td>4.127134</td>\n",
       "      <td>5.347108</td>\n",
       "      <td>12671</td>\n",
       "      <td>1.000000</td>\n",
       "    </tr>\n",
       "    <tr>\n",
       "      <th>std_order_qty_last_7d</th>\n",
       "      <td>12671.0</td>\n",
       "      <td>9.154934</td>\n",
       "      <td>3.926080</td>\n",
       "      <td>0.000000</td>\n",
       "      <td>9.392559</td>\n",
       "      <td>10.507728</td>\n",
       "      <td>11.162342</td>\n",
       "      <td>13.770316</td>\n",
       "      <td>10834</td>\n",
       "      <td>0.855023</td>\n",
       "    </tr>\n",
       "    <tr>\n",
       "      <th>std_order_qty_last_30d</th>\n",
       "      <td>12671.0</td>\n",
       "      <td>10.565418</td>\n",
       "      <td>2.134359</td>\n",
       "      <td>0.000000</td>\n",
       "      <td>10.308114</td>\n",
       "      <td>10.789594</td>\n",
       "      <td>11.427944</td>\n",
       "      <td>13.478797</td>\n",
       "      <td>12290</td>\n",
       "      <td>0.969931</td>\n",
       "    </tr>\n",
       "  </tbody>\n",
       "</table>\n",
       "</div>"
      ],
      "text/plain": [
       "                             count       mean       std       min        25%  \\\n",
       "num_deliveries_last_7d     12671.0   2.067279  0.105818  0.693147   2.079442   \n",
       "num_deliveries_last_30d    12671.0   3.357395  0.323902  0.693147   3.433987   \n",
       "total_net_weight_last_7d   12671.0  11.664790  1.078814  7.003974  10.864981   \n",
       "total_net_weight_last_30d  12671.0  13.089023  1.070919  7.003974  12.310795   \n",
       "total_order_qty_last_7d    12671.0  14.113224  1.917218  0.000000  13.253393   \n",
       "total_order_qty_last_30d   12671.0  15.582587  1.798069  0.000000  14.714045   \n",
       "avg_order_qty_last_7d      12586.0  11.769325  1.187788  8.517393  11.025647   \n",
       "avg_order_qty_last_30d     12629.0  11.791966  1.156012  8.909370  11.049141   \n",
       "num_orders_last_7d         12671.0   2.545061  0.484205  0.693147   2.197225   \n",
       "num_orders_last_30d        12671.0   3.881268  0.591031  0.693147   3.583519   \n",
       "std_order_qty_last_7d      12671.0   9.154934  3.926080  0.000000   9.392559   \n",
       "std_order_qty_last_30d     12671.0  10.565418  2.134359  0.000000  10.308114   \n",
       "\n",
       "                                 50%        75%        max  nonzero_count  \\\n",
       "num_deliveries_last_7d      2.079442   2.079442   2.079442          12671   \n",
       "num_deliveries_last_30d     3.433987   3.433987   3.433987          12671   \n",
       "total_net_weight_last_7d   12.057926  12.527584  13.482641          12671   \n",
       "total_net_weight_last_30d  13.524156  13.972454  14.802618          12671   \n",
       "total_order_qty_last_7d    13.933294  14.914123  18.201093          12586   \n",
       "total_order_qty_last_30d   15.414898  16.357113  19.471747          12629   \n",
       "avg_order_qty_last_7d      11.646466  12.562751  14.627876          12671   \n",
       "avg_order_qty_last_30d     11.686514  12.530572  14.482587          12671   \n",
       "num_orders_last_7d          2.397895   2.772589   4.077537          12671   \n",
       "num_orders_last_30d         3.784190   4.127134   5.347108          12671   \n",
       "std_order_qty_last_7d      10.507728  11.162342  13.770316          10834   \n",
       "std_order_qty_last_30d     10.789594  11.427944  13.478797          12290   \n",
       "\n",
       "                           nonzero_ratio  \n",
       "num_deliveries_last_7d          1.000000  \n",
       "num_deliveries_last_30d         1.000000  \n",
       "total_net_weight_last_7d        1.000000  \n",
       "total_net_weight_last_30d       1.000000  \n",
       "total_order_qty_last_7d         0.993292  \n",
       "total_order_qty_last_30d        0.996685  \n",
       "avg_order_qty_last_7d           1.000000  \n",
       "avg_order_qty_last_30d          1.000000  \n",
       "num_orders_last_7d              1.000000  \n",
       "num_orders_last_30d             1.000000  \n",
       "std_order_qty_last_7d           0.855023  \n",
       "std_order_qty_last_30d          0.969931  "
      ]
     },
     "execution_count": 16,
     "metadata": {},
     "output_type": "execute_result"
    }
   ],
   "source": [
    "# Function to check covariates\n",
    "def check_covariates(df, covariate_cols):\n",
    "    summary = df[covariate_cols].describe().T\n",
    "    summary[\"nonzero_count\"] = (df[covariate_cols] != 0).sum()\n",
    "    summary[\"nonzero_ratio\"] = (df[covariate_cols] != 0).mean()\n",
    "    summary[\"std\"] = df[covariate_cols].std()\n",
    "    return summary\n",
    "\n",
    "\n",
    "display(check_covariates(daily_receivals, covariate_cols))\n",
    "transformed = daily_receivals[covariate_cols].copy().apply(lambda x: np.log1p(x))\n",
    "check_covariates(transformed, covariate_cols)"
   ]
  },
  {
   "cell_type": "code",
   "execution_count": 17,
   "id": "c5c962d4",
   "metadata": {},
   "outputs": [
    {
     "data": {
      "application/vnd.microsoft.datawrangler.viewer.v0+json": {
       "columns": [
        {
         "name": "date",
         "rawType": "datetime64[ns]",
         "type": "datetime"
        },
        {
         "name": "trend",
         "rawType": "float64",
         "type": "float"
        },
        {
         "name": "seasonal",
         "rawType": "float64",
         "type": "float"
        }
       ],
       "ref": "caf29440-df57-4170-8f7c-2629e7acb7ed",
       "rows": [
        [
         "2020-03-04 00:00:00",
         "705.3061224489796",
         "13.577096280151164"
        ],
        [
         "2020-03-05 00:00:00",
         "639.1836734693878",
         "-32.0154472307597"
        ],
        [
         "2020-03-06 00:00:00",
         "573.0612244897959",
         "58.775435356041264"
        ],
        [
         "2020-03-07 00:00:00",
         "617.1428571428571",
         "-69.1401717224762"
        ],
        [
         "2020-03-08 00:00:00",
         "308.57142857142856",
         "-67.7985568156439"
        ],
        [
         "2020-03-09 00:00:00",
         "308.57142857142856",
         "-25.53768725042651"
        ],
        [
         "2020-03-10 00:00:00",
         "308.57142857142856",
         "122.13933138311387"
        ],
        [
         "2020-03-11 00:00:00",
         "308.57142857142856",
         "13.577096280151164"
        ],
        [
         "2020-03-12 00:00:00",
         "308.57142857142856",
         "-32.0154472307597"
        ],
        [
         "2020-03-13 00:00:00",
         "0.0",
         "58.775435356041264"
        ],
        [
         "2020-03-14 00:00:00",
         "0.0",
         "-69.1401717224762"
        ],
        [
         "2020-03-15 00:00:00",
         "0.0",
         "-67.7985568156439"
        ],
        [
         "2020-03-16 00:00:00",
         "0.0",
         "-25.53768725042651"
        ],
        [
         "2020-03-17 00:00:00",
         "0.0",
         "122.13933138311387"
        ],
        [
         "2020-03-18 00:00:00",
         "0.0",
         "13.577096280151164"
        ],
        [
         "2020-03-19 00:00:00",
         "0.0",
         "-32.0154472307597"
        ],
        [
         "2020-03-20 00:00:00",
         "0.0",
         "58.775435356041264"
        ],
        [
         "2020-03-21 00:00:00",
         "0.0",
         "-69.1401717224762"
        ],
        [
         "2020-03-22 00:00:00",
         "0.0",
         "-67.7985568156439"
        ],
        [
         "2020-03-23 00:00:00",
         "0.0",
         "-25.53768725042651"
        ],
        [
         "2020-03-24 00:00:00",
         "0.0",
         "122.13933138311387"
        ],
        [
         "2020-03-25 00:00:00",
         "0.0",
         "13.577096280151164"
        ],
        [
         "2020-03-26 00:00:00",
         "0.0",
         "-32.0154472307597"
        ],
        [
         "2020-03-27 00:00:00",
         "0.0",
         "58.775435356041264"
        ],
        [
         "2020-03-28 00:00:00",
         "0.0",
         "-69.1401717224762"
        ],
        [
         "2020-03-29 00:00:00",
         "0.0",
         "-67.7985568156439"
        ],
        [
         "2020-03-30 00:00:00",
         "0.0",
         "-25.53768725042651"
        ],
        [
         "2020-03-31 00:00:00",
         "0.0",
         "122.13933138311387"
        ],
        [
         "2020-04-01 00:00:00",
         "0.0",
         "13.577096280151164"
        ],
        [
         "2020-04-02 00:00:00",
         "0.0",
         "-32.0154472307597"
        ],
        [
         "2020-04-03 00:00:00",
         "0.0",
         "58.775435356041264"
        ],
        [
         "2020-04-04 00:00:00",
         "0.0",
         "-69.1401717224762"
        ],
        [
         "2020-04-05 00:00:00",
         "0.0",
         "-67.7985568156439"
        ],
        [
         "2020-04-06 00:00:00",
         "0.0",
         "-25.53768725042651"
        ],
        [
         "2020-04-07 00:00:00",
         "0.0",
         "122.13933138311387"
        ],
        [
         "2020-04-08 00:00:00",
         "0.0",
         "13.577096280151164"
        ],
        [
         "2020-04-09 00:00:00",
         "0.0",
         "-32.0154472307597"
        ],
        [
         "2020-04-10 00:00:00",
         "0.0",
         "58.775435356041264"
        ],
        [
         "2020-04-11 00:00:00",
         "0.0",
         "-69.1401717224762"
        ],
        [
         "2020-04-12 00:00:00",
         "0.0",
         "-67.7985568156439"
        ],
        [
         "2020-04-13 00:00:00",
         "0.0",
         "-25.53768725042651"
        ],
        [
         "2020-04-14 00:00:00",
         "0.0",
         "122.13933138311387"
        ],
        [
         "2020-04-15 00:00:00",
         "0.0",
         "13.577096280151164"
        ],
        [
         "2020-04-16 00:00:00",
         "0.0",
         "-32.0154472307597"
        ],
        [
         "2020-04-17 00:00:00",
         "0.0",
         "58.775435356041264"
        ],
        [
         "2020-04-18 00:00:00",
         "0.0",
         "-69.1401717224762"
        ],
        [
         "2020-04-19 00:00:00",
         "0.0",
         "-67.7985568156439"
        ],
        [
         "2020-04-20 00:00:00",
         "0.0",
         "-25.53768725042651"
        ],
        [
         "2020-04-21 00:00:00",
         "0.0",
         "122.13933138311387"
        ],
        [
         "2020-04-22 00:00:00",
         "0.0",
         "13.577096280151164"
        ]
       ],
       "shape": {
        "columns": 2,
        "rows": 1613
       }
      },
      "text/html": [
       "<div>\n",
       "<style scoped>\n",
       "    .dataframe tbody tr th:only-of-type {\n",
       "        vertical-align: middle;\n",
       "    }\n",
       "\n",
       "    .dataframe tbody tr th {\n",
       "        vertical-align: top;\n",
       "    }\n",
       "\n",
       "    .dataframe thead th {\n",
       "        text-align: right;\n",
       "    }\n",
       "</style>\n",
       "<table border=\"1\" class=\"dataframe\">\n",
       "  <thead>\n",
       "    <tr style=\"text-align: right;\">\n",
       "      <th></th>\n",
       "      <th>trend</th>\n",
       "      <th>seasonal</th>\n",
       "    </tr>\n",
       "    <tr>\n",
       "      <th>date</th>\n",
       "      <th></th>\n",
       "      <th></th>\n",
       "    </tr>\n",
       "  </thead>\n",
       "  <tbody>\n",
       "    <tr>\n",
       "      <th>2020-03-04</th>\n",
       "      <td>705.306122</td>\n",
       "      <td>13.577096</td>\n",
       "    </tr>\n",
       "    <tr>\n",
       "      <th>2020-03-05</th>\n",
       "      <td>639.183673</td>\n",
       "      <td>-32.015447</td>\n",
       "    </tr>\n",
       "    <tr>\n",
       "      <th>2020-03-06</th>\n",
       "      <td>573.061224</td>\n",
       "      <td>58.775435</td>\n",
       "    </tr>\n",
       "    <tr>\n",
       "      <th>2020-03-07</th>\n",
       "      <td>617.142857</td>\n",
       "      <td>-69.140172</td>\n",
       "    </tr>\n",
       "    <tr>\n",
       "      <th>2020-03-08</th>\n",
       "      <td>308.571429</td>\n",
       "      <td>-67.798557</td>\n",
       "    </tr>\n",
       "    <tr>\n",
       "      <th>...</th>\n",
       "      <td>...</td>\n",
       "      <td>...</td>\n",
       "    </tr>\n",
       "    <tr>\n",
       "      <th>2024-07-29</th>\n",
       "      <td>0.000000</td>\n",
       "      <td>-25.537687</td>\n",
       "    </tr>\n",
       "    <tr>\n",
       "      <th>2024-07-30</th>\n",
       "      <td>1234.285714</td>\n",
       "      <td>122.139331</td>\n",
       "    </tr>\n",
       "    <tr>\n",
       "      <th>2024-07-31</th>\n",
       "      <td>0.000000</td>\n",
       "      <td>13.577096</td>\n",
       "    </tr>\n",
       "    <tr>\n",
       "      <th>2024-08-01</th>\n",
       "      <td>0.000000</td>\n",
       "      <td>-32.015447</td>\n",
       "    </tr>\n",
       "    <tr>\n",
       "      <th>2024-08-02</th>\n",
       "      <td>0.000000</td>\n",
       "      <td>58.775435</td>\n",
       "    </tr>\n",
       "  </tbody>\n",
       "</table>\n",
       "<p>1613 rows × 2 columns</p>\n",
       "</div>"
      ],
      "text/plain": [
       "                  trend    seasonal\n",
       "date                               \n",
       "2020-03-04   705.306122   13.577096\n",
       "2020-03-05   639.183673  -32.015447\n",
       "2020-03-06   573.061224   58.775435\n",
       "2020-03-07   617.142857  -69.140172\n",
       "2020-03-08   308.571429  -67.798557\n",
       "...                 ...         ...\n",
       "2024-07-29     0.000000  -25.537687\n",
       "2024-07-30  1234.285714  122.139331\n",
       "2024-07-31     0.000000   13.577096\n",
       "2024-08-01     0.000000  -32.015447\n",
       "2024-08-02     0.000000   58.775435\n",
       "\n",
       "[1613 rows x 2 columns]"
      ]
     },
     "execution_count": 17,
     "metadata": {},
     "output_type": "execute_result"
    }
   ],
   "source": [
    "past_covariates[0].to_dataframe()"
   ]
  },
  {
   "cell_type": "markdown",
   "id": "066489db",
   "metadata": {},
   "source": [
    "## Split train test"
   ]
  },
  {
   "cell_type": "code",
   "execution_count": 18,
   "id": "288679e0",
   "metadata": {},
   "outputs": [
    {
     "name": "stdout",
     "output_type": "stream",
     "text": [
      "Num series in training set: 39\n",
      "Num series in validation set: 39\n",
      "Num past covariates in training set: 39\n",
      "Num past covariates in validation set: 39\n",
      "Num elements in train series: 1291\n",
      "Num elements in past covariate series: 1291\n",
      "Num elements in val series: 322\n",
      "Num elements in val past covariate series: 322\n"
     ]
    }
   ],
   "source": [
    "test_size = 0.2\n",
    "\n",
    "train_lst, val_lst = train_test_split(series_lst, axis=1, test_size=test_size)\n",
    "train_past_covariates, val_past_covariates = train_test_split(\n",
    "    past_covariates, axis=1, test_size=test_size\n",
    ")\n",
    "\n",
    "print(\"Num series in training set:\", len(train_lst))\n",
    "print(\"Num series in validation set:\", len(val_lst))\n",
    "print(\"Num past covariates in training set:\", len(train_past_covariates))\n",
    "print(\"Num past covariates in validation set:\", len(val_past_covariates))\n",
    "print(\"Num elements in train series:\", len(train_lst[0]))\n",
    "print(\"Num elements in past covariate series:\", len(train_past_covariates[0]))\n",
    "print(\"Num elements in val series:\", len(val_lst[0]))\n",
    "print(\"Num elements in val past covariate series:\", len(val_past_covariates[0]))\n"
   ]
  },
  {
   "cell_type": "markdown",
   "id": "5cdbdfe9",
   "metadata": {},
   "source": [
    "## Scale"
   ]
  },
  {
   "cell_type": "code",
   "execution_count": 19,
   "id": "7632f0c8",
   "metadata": {},
   "outputs": [
    {
     "name": "stderr",
     "output_type": "stream",
     "text": [
      "Empty pipeline created\n",
      "Empty pipeline created\n"
     ]
    }
   ],
   "source": [
    "from darts.dataprocessing.transformers import Scaler, InvertibleMapper\n",
    "from darts.dataprocessing.pipeline import Pipeline\n",
    "\n",
    "log_transformer = InvertibleMapper(lambda x: np.log1p(x), lambda x: np.expm1(x))\n",
    "\n",
    "# scale the past covariates\n",
    "# scaler_part_covs = Scaler(global_fit=True)\n",
    "# past_cov_pipeline = Pipeline([scaler_part_covs])\n",
    "past_cov_pipeline = Pipeline([])\n",
    "train_past_covariates = past_cov_pipeline.fit_transform(train_past_covariates)\n",
    "val_past_covariates = past_cov_pipeline.transform(val_past_covariates)\n",
    "past_covariates = past_cov_pipeline.transform(past_covariates)\n",
    "\n",
    "pipeline = Pipeline([])\n",
    "# scaler = Scaler()\n",
    "# pipeline = Pipeline([log_transformer, scaler])\n",
    "# pipeline = Pipeline([scaler])\n",
    "train_lst_scaled = pipeline.fit_transform(train_lst)\n",
    "val_lst_scaled = pipeline.transform(val_lst)\n",
    "series_lst_scaled = pipeline.transform(series_lst)"
   ]
  },
  {
   "cell_type": "markdown",
   "id": "ce5c8805",
   "metadata": {},
   "source": [
    "## Train model"
   ]
  },
  {
   "cell_type": "code",
   "execution_count": 20,
   "id": "8a03c65a",
   "metadata": {},
   "outputs": [
    {
     "name": "stderr",
     "output_type": "stream",
     "text": [
      "The StatsForecast module could not be imported. To enable support for the AutoARIMA, AutoETS and Croston models, please consider installing it.\n"
     ]
    }
   ],
   "source": [
    "from darts.models import XGBModel, NBEATSModel, RNNModel\n",
    "from darts.models.forecasting.xgboost import xgb_quantile_loss\n",
    "from darts.dataprocessing.transformers import Mapper\n",
    "\n",
    "from pytorch_lightning.callbacks.early_stopping import EarlyStopping\n",
    "from kaggle_metric import quantile_error\n",
    "from darts.metrics.metrics import r2_score, mse\n",
    "\n",
    "\n",
    "def quantile_loss(y_true, y_pred):\n",
    "    y_pred = y_pred.reshape(-1)\n",
    "    y_pred = y_pred.clip(min=0)\n",
    "    return xgb_quantile_loss(y_true, y_pred, quantile=0.2)\n",
    "\n",
    "\n",
    "# Quantile Loss als Eval Metric\n",
    "def quantile_eval(y_true, y_pred):\n",
    "    y_pred = y_pred.reshape(-1)\n",
    "    y_pred = y_pred.clip(min=0)\n",
    "    return quantile_error(y_true, y_pred)\n",
    "\n",
    "\n",
    "encoders = {\n",
    "    \"cyclic\": {\"future\": [\"month\"]},\n",
    "    \"datetime_attribute\": {\"future\": [\"dayofweek\", \"year\", \"quarter\", \"weekofyear\"]},\n",
    "    \"transformer\": Scaler(),\n",
    "}\n",
    "\n",
    "min_value_mapper = Mapper(lambda x: np.where(x < 0.0, 0, x))\n",
    "\n",
    "\n",
    "def predict_val(model):\n",
    "    pred = model.predict(\n",
    "        len(val_lst[0]), train_lst_scaled, past_covariates=past_covariates\n",
    "    )\n",
    "    pred = min_value_mapper.transform(pred)\n",
    "    pred = pipeline.inverse_transform(pred)\n",
    "\n",
    "    error = []\n",
    "    for ts, pred_ts in zip(val_lst, pred):\n",
    "        err = quantile_error(ts.values(), pred_ts.values())\n",
    "        error.append(err)\n",
    "    print(\"Quantile Error on validation set:\", np.mean(error))\n",
    "    print(\"R2 Score on validation set:\", r2_score(val_lst, pred))\n",
    "    mse_score = mse(val_lst, pred)\n",
    "    print(\"MSE on validation set:\", np.mean(mse_score), mse_score)\n",
    "\n",
    "    return pred\n",
    "\n",
    "\n",
    "def eval_model(model):\n",
    "    model.fit(\n",
    "        train_lst_scaled,\n",
    "        val_series=val_lst_scaled,\n",
    "        past_covariates=train_past_covariates,\n",
    "        val_past_covariates=val_past_covariates,\n",
    "        verbose=True,\n",
    "    )\n",
    "    return predict_val(model)"
   ]
  },
  {
   "cell_type": "code",
   "execution_count": 21,
   "id": "426a2158",
   "metadata": {},
   "outputs": [],
   "source": [
    "import matplotlib.pyplot as plt\n",
    "\n",
    "\n",
    "def plot_predictions(pred):\n",
    "    # Number of samples to plot\n",
    "    n = 15  # or whatever you need\n",
    "    num_samples = min(n, len(train_lst), len(val_lst), len(pred))\n",
    "\n",
    "    fig, axes = plt.subplots(num_samples, 1, figsize=(10, num_samples * 3))\n",
    "\n",
    "    # Ensure axes is always a list\n",
    "    if num_samples == 1:\n",
    "        axes = [axes]\n",
    "\n",
    "    for i, ax in enumerate(axes):\n",
    "        # If these are pandas Series/DataFrames, we can call .plot() directly\n",
    "        train_lst[i].plot(ax=ax, label=\"Train\")\n",
    "        val_lst[i].plot(ax=ax, label=\"Validation\")\n",
    "        pred[i].plot(ax=ax, label=\"Prediction\", alpha=0.7)\n",
    "\n",
    "        ax.set_title(f\"Sample {i}\")\n",
    "        ax.legend()\n",
    "        ax.grid(True)\n",
    "\n",
    "    plt.tight_layout()\n",
    "    plt.show()"
   ]
  },
  {
   "cell_type": "markdown",
   "id": "8eb71e23",
   "metadata": {},
   "source": [
    "### Clustering xgb"
   ]
  },
  {
   "cell_type": "code",
   "execution_count": 22,
   "id": "b021f4f7",
   "metadata": {},
   "outputs": [],
   "source": [
    "# from sklearn.cluster import KMeans\n",
    "# import matplotlib.pyplot as plt\n",
    "\n",
    "# inertia = []\n",
    "# K_range = range(1, 15)\n",
    "\n",
    "# for k in K_range:\n",
    "#     kmeans = KMeans(n_clusters=k, random_state=random_state)\n",
    "#     kmeans.fit(\n",
    "#         [ts.values().reshape(-1) for ts in past_covariates]\n",
    "#     )  # z.B. Feature-Matrix aus TS\n",
    "#     inertia.append(kmeans.inertia_)\n",
    "\n",
    "# plt.figure(figsize=(8, 5))\n",
    "# plt.plot(K_range, inertia, \"o-\")\n",
    "# plt.xlabel(\"Anzahl Cluster k\")\n",
    "# plt.ylabel(\"Summe der quadratischen Abstände (Inertia)\")\n",
    "# plt.title(\"Elbow-Methode zur Wahl von k\")\n",
    "# plt.show()\n"
   ]
  },
  {
   "cell_type": "code",
   "execution_count": 23,
   "id": "a74c0b33",
   "metadata": {},
   "outputs": [],
   "source": [
    "# n = 3\n",
    "# kmeans = KMeans(n_clusters=n, random_state=random_state)\n",
    "# labels = kmeans.fit_predict(\n",
    "#     [ts.values().reshape(-1) for ts in past_covariates]\n",
    "# )  # z.B. Feature-Matrix aus TS"
   ]
  },
  {
   "cell_type": "code",
   "execution_count": 24,
   "id": "4a53b4a0",
   "metadata": {},
   "outputs": [],
   "source": [
    "# train_clusters = {i: [] for i in range(n)}\n",
    "# val_clusters = {i: [] for i in range(n)}\n",
    "# for train_ts, val_ts, label in zip(train_lst_scaled, val_lst_scaled, labels):\n",
    "#     train_clusters[label].append(train_ts)\n",
    "#     val_clusters[label].append(val_ts)\n",
    "\n",
    "# for cluster_id in range(n):\n",
    "#     print(len(train_clusters[cluster_id]))"
   ]
  },
  {
   "cell_type": "code",
   "execution_count": 25,
   "id": "abdc994c",
   "metadata": {},
   "outputs": [],
   "source": [
    "# cluster_models = {}\n",
    "# for cluster_id, ts_list in train_clusters.items():\n",
    "#     print(f\"Evaluating cluster {cluster_id} with {len(ts_list)} time series.\")\n",
    "#     if len(ts_list) == 0:\n",
    "#         print(f\"No time series in cluster {cluster_id}, skipping.\")\n",
    "#         continue\n",
    "#     cluster_train_lst = ts_list\n",
    "#     cluster_val_lst = val_clusters[cluster_id]\n",
    "\n",
    "#     xgb_model = XGBModel(\n",
    "#         lags=32,\n",
    "#         lags_past_covariates=24,\n",
    "#         lags_future_covariates=[0, 1],\n",
    "#         output_chunk_length=150,\n",
    "#         add_encoders=encoders,\n",
    "#         # objective=quantile_loss,\n",
    "#         eval_metric=quantile_eval,\n",
    "#         n_estimators=100,\n",
    "#         random_state=random_state,\n",
    "#     )\n",
    "\n",
    "#     xgb_model.fit(\n",
    "#         cluster_train_lst,\n",
    "#         val_series=cluster_val_lst,\n",
    "#         past_covariates=train_past_covariates,\n",
    "#         val_past_covariates=val_past_covariates,\n",
    "#         verbose=True,\n",
    "#     )\n",
    "#     cluster_models[cluster_id] = xgb_model\n",
    "\n",
    "#     # pred = xgb_model.predict(len(cluster_val_lst[0]), cluster_train_lst)\n",
    "#     # pred = pipeline.inverse_transform(pred)\n",
    "#     # pred = min_value_mapper.transform(pred)\n",
    "\n",
    "#     # plot_predictions(pred)"
   ]
  },
  {
   "cell_type": "code",
   "execution_count": null,
   "id": "994d9351",
   "metadata": {},
   "outputs": [],
   "source": []
  },
  {
   "cell_type": "markdown",
   "id": "e3884a6f",
   "metadata": {},
   "source": [
    "## Naive model"
   ]
  },
  {
   "cell_type": "code",
   "execution_count": 26,
   "id": "db82b9c1",
   "metadata": {},
   "outputs": [
    {
     "name": "stdout",
     "output_type": "stream",
     "text": [
      "RMSE: 4379.047568028683\n",
      "R2 Score: -0.044099717135498206\n"
     ]
    },
    {
     "data": {
      "image/png": "[encoded data removed]",
      "text/plain": [
       "<Figure size 640x480 with 1 Axes>"
      ]
     },
     "metadata": {},
     "output_type": "display_data"
    }
   ],
   "source": [
    "from darts.models import ExponentialSmoothing\n",
    "from darts.metrics import rmse, r2_score\n",
    "\n",
    "n = 12\n",
    "model = ExponentialSmoothing()\n",
    "model.fit(train_lst_scaled[n])\n",
    "\n",
    "# Vorhersage für die Länge des Validation Sets\n",
    "pred = model.predict(len(val_lst_scaled[n]))\n",
    "\n",
    "# Evaluation\n",
    "print(\"RMSE:\", rmse(val_lst_scaled[n], pred))\n",
    "print(\"R2 Score:\", r2_score(val_lst_scaled[n], pred))\n",
    "\n",
    "# Plot\n",
    "import matplotlib.pyplot as plt\n",
    "\n",
    "train_lst_scaled[n].plot(label=\"train\")\n",
    "val_lst_scaled[n].plot(label=\"actual\")\n",
    "pred.plot(label=\"forecast\")\n",
    "plt.legend()\n",
    "plt.show()"
   ]
  },
  {
   "cell_type": "code",
   "execution_count": 27,
   "id": "6fc17f35",
   "metadata": {},
   "outputs": [
    {
     "name": "stderr",
     "output_type": "stream",
     "text": [
      "`predict()` was called with `n > output_chunk_length`: using auto-regression to forecast the values after `output_chunk_length` points. The model will access `(n - output_chunk_length)` future values of your `past_covariates` (relative to the first predicted time step). To hide this warning, set `show_warnings=False`.\n"
     ]
    },
    {
     "name": "stdout",
     "output_type": "stream",
     "text": [
      "RMSE: 3.7493196210476915e-10\n",
      "R2 Score: 1.0\n"
     ]
    },
    {
     "data": {
      "image/png": "[encoded data removed]",
      "text/plain": [
       "<Figure size 640x480 with 1 Axes>"
      ]
     },
     "metadata": {},
     "output_type": "display_data"
    }
   ],
   "source": [
    "from darts.models import LinearRegressionModel\n",
    "\n",
    "linear_model = LinearRegressionModel(\n",
    "    lags=32,\n",
    "    lags_past_covariates=24,\n",
    "    output_chunk_length=1,\n",
    "    random_state=random_state,\n",
    ")\n",
    "n = 12\n",
    "linear_model.fit(train_lst_scaled[n], past_covariates=train_past_covariates[n])\n",
    "pred = linear_model.predict(\n",
    "    len(val_lst[n]), train_lst_scaled[n], past_covariates=past_covariates[n]\n",
    ")\n",
    "\n",
    "# Evaluation\n",
    "print(\"RMSE:\", rmse(val_lst_scaled[n], pred))\n",
    "print(\"R2 Score:\", r2_score(val_lst_scaled[n], pred))\n",
    "\n",
    "pred.plot(label=\"Prediction\")\n",
    "val_lst_scaled[n].plot(label=\"Actual\", alpha=0.7)\n",
    "plt.legend()\n",
    "plt.show()"
   ]
  },
  {
   "cell_type": "markdown",
   "id": "8eb3a12f",
   "metadata": {},
   "source": [
    "### XGB"
   ]
  },
  {
   "cell_type": "code",
   "execution_count": 28,
   "id": "880cb632",
   "metadata": {},
   "outputs": [],
   "source": [
    "# n = 1\n",
    "# for i in range(len(train_lst_scaled)):\n",
    "#     xgb_model = XGBModel(\n",
    "#         lags=32,\n",
    "#         lags_past_covariates=6,\n",
    "#         output_chunk_length=1,\n",
    "#         early_stopping_rounds=50,\n",
    "#         random_state=random_state,\n",
    "#         n_jobs=-1,\n",
    "#     )\n",
    "\n",
    "#     xgb_model.fit(\n",
    "#         train_lst_scaled[i],\n",
    "#         val_series=val_lst_scaled[i],\n",
    "#         past_covariates=train_past_covariates[i],\n",
    "#         val_past_covariates=val_past_covariates[i],\n",
    "#         verbose=False,\n",
    "#     )\n",
    "\n",
    "#     # Evaluation\n",
    "#     print(\"RMSE:\", rmse(val_lst_scaled[i], pred))\n",
    "#     print(\"R2 Score:\", r2_score(val_lst_scaled[i], pred))\n",
    "\n",
    "#     preds = xgb_model.predict(\n",
    "#         len(val_lst_scaled[i]),\n",
    "#         train_lst_scaled[i],\n",
    "#         past_covariates=past_covariates[i],\n",
    "#     )\n",
    "\n",
    "#     train_lst_scaled[i].plot(label=\"Train\")\n",
    "#     preds.plot(label=\"XGB Prediction\")\n",
    "#     val_lst_scaled[i].plot(label=\"Actual\", alpha=0.7)\n",
    "#     plt.legend()\n",
    "#     plt.show()"
   ]
  },
  {
   "cell_type": "code",
   "execution_count": 29,
   "id": "b6a417d5",
   "metadata": {},
   "outputs": [],
   "source": [
    "# n = 1\n",
    "# xgb_model = XGBModel(\n",
    "#     lags=32,\n",
    "#     lags_past_covariates=6,\n",
    "#     # lags_future_covariates=[0, 1],\n",
    "#     output_chunk_length=1,\n",
    "#     # add_encoders=encoders,\n",
    "#     early_stopping_rounds=50,\n",
    "#     # objective='reg:quantileerror',\n",
    "#     # quantile_alpha=0.2,\n",
    "#     # eval_metric=quantile_eval,\n",
    "#     # n_estimators=1000,\n",
    "#     random_state=random_state,\n",
    "#     # multi_models=True,\n",
    "#     n_jobs=-1,\n",
    "#     # tree_method=\"hist\",  # Faster for large datasets\n",
    "# )\n",
    "\n",
    "\n",
    "# xgb_model.fit(\n",
    "#     train_lst_scaled[n],\n",
    "#     val_series=val_lst_scaled[n],\n",
    "#     past_covariates=train_past_covariates[n],\n",
    "#     val_past_covariates=val_past_covariates[n],\n",
    "#     verbose=True,\n",
    "# )\n",
    "\n",
    "# # Evaluation\n",
    "# print(\"RMSE:\", rmse(val_lst_scaled[n], pred))\n",
    "# print(\"R2 Score:\", r2_score(val_lst_scaled[n], pred))\n",
    "\n",
    "# preds = xgb_model.predict(\n",
    "#     len(val_lst_scaled[n]),\n",
    "#     train_lst_scaled[n],\n",
    "#     past_covariates=past_covariates[n],\n",
    "# )\n",
    "\n",
    "# train_lst_scaled[n].plot(label=\"Train\")\n",
    "# preds.plot(label=\"XGB Prediction\")\n",
    "# val_lst_scaled[n].plot(label=\"Actual\", alpha=0.7)\n",
    "# plt.legend()\n",
    "# plt.show()"
   ]
  },
  {
   "cell_type": "markdown",
   "id": "d3434371",
   "metadata": {},
   "source": [
    "### Torch config"
   ]
  },
  {
   "cell_type": "code",
   "execution_count": 30,
   "id": "658f2fd2",
   "metadata": {},
   "outputs": [],
   "source": [
    "# import torch\n",
    "# import torch.nn as nn\n",
    "# from darts.utils.callbacks import TFMProgressBar\n",
    "\n",
    "\n",
    "# class QuantileLoss(nn.Module):\n",
    "#     def __init__(self, quantile: float = 0.2):\n",
    "#         super().__init__()\n",
    "#         self.q = quantile\n",
    "\n",
    "#     def forward(self, preds, target):\n",
    "#         diff = target - preds\n",
    "#         loss = torch.where(diff >= 0, self.q * diff, (1 - self.q) * -diff)\n",
    "#         return loss.mean()\n",
    "\n",
    "\n",
    "# my_stopper = EarlyStopping(\n",
    "#     monitor=\"val_loss\",\n",
    "#     patience=5,\n",
    "#     min_delta=0.05,\n",
    "#     mode=\"min\",\n",
    "# )\n",
    "\n",
    "# pl_trainer_kwargs = {\n",
    "#     \"callbacks\": [my_stopper, TFMProgressBar(enable_train_bar_only=True)],\n",
    "#     \"accelerator\": \"cpu\",\n",
    "#     \"max_epochs\": 20,\n",
    "# }"
   ]
  },
  {
   "cell_type": "markdown",
   "id": "a0b28fa0",
   "metadata": {},
   "source": [
    "### TFT"
   ]
  },
  {
   "cell_type": "code",
   "execution_count": 31,
   "id": "45087e49",
   "metadata": {},
   "outputs": [],
   "source": [
    "# tft_model = TFTModel(\n",
    "#     input_chunk_length=24,\n",
    "#     output_chunk_length=12,\n",
    "#     add_encoders=encoders,\n",
    "#     loss_fn=QuantileLoss(quantile=0.2),\n",
    "#     random_state=random_state,\n",
    "#     pl_trainer_kwargs=pl_trainer_kwargs,\n",
    "# )"
   ]
  },
  {
   "cell_type": "markdown",
   "id": "8a43ca78",
   "metadata": {},
   "source": [
    "### RNN "
   ]
  },
  {
   "cell_type": "code",
   "execution_count": 32,
   "id": "b0ab506a",
   "metadata": {},
   "outputs": [],
   "source": [
    "# rnn_model = RNNModel(\n",
    "#     input_chunk_length=14,\n",
    "#     model=\"LSTM\",\n",
    "#     hidden_dim=20,\n",
    "#     n_rnn_layers=2,\n",
    "#     dropout=0.1,\n",
    "#     n_epochs=50,\n",
    "#     batch_size=32,\n",
    "#     loss_fn=QuantileLoss(quantile=0.2),\n",
    "#     optimizer_kwargs={\"lr\": 1e-3},\n",
    "#     random_state=random_state,\n",
    "#     save_checkpoints=True,\n",
    "#     add_encoders=encoders,\n",
    "#     pl_trainer_kwargs=pl_trainer_kwargs,\n",
    "# )\n",
    "\n",
    "# rnn_model.fit(train_lst_scaled, val_series=val_lst_scaled)\n",
    "# preds_rnn = predict_val(rnn_model)\n",
    "# plot_predictions(preds_rnn)"
   ]
  },
  {
   "cell_type": "markdown",
   "id": "7e618665",
   "metadata": {},
   "source": [
    "### NBeats"
   ]
  },
  {
   "cell_type": "code",
   "execution_count": 33,
   "id": "50c55f84",
   "metadata": {},
   "outputs": [
    {
     "data": {
      "text/html": [
       "<div><svg style=\"position: absolute; width: 0; height: 0; overflow: hidden\">\n",
       "<defs>\n",
       "<symbol id=\"icon-database\" viewBox=\"0 0 32 32\">\n",
       "<path d=\"M16 0c-8.837 0-16 2.239-16 5v4c0 2.761 7.163 5 16 5s16-2.239 16-5v-4c0-2.761-7.163-5-16-5z\"></path>\n",
       "<path d=\"M16 17c-8.837 0-16-2.239-16-5v6c0 2.761 7.163 5 16 5s16-2.239 16-5v-6c0 2.761-7.163 5-16 5z\"></path>\n",
       "<path d=\"M16 26c-8.837 0-16-2.239-16-5v6c0 2.761 7.163 5 16 5s16-2.239 16-5v-6c0 2.761-7.163 5-16 5z\"></path>\n",
       "</symbol>\n",
       "<symbol id=\"icon-file-text2\" viewBox=\"0 0 32 32\">\n",
       "<path d=\"M28.681 7.159c-0.694-0.947-1.662-2.053-2.724-3.116s-2.169-2.030-3.116-2.724c-1.612-1.182-2.393-1.319-2.841-1.319h-15.5c-1.378 0-2.5 1.121-2.5 2.5v27c0 1.378 1.122 2.5 2.5 2.5h23c1.378 0 2.5-1.122 2.5-2.5v-19.5c0-0.448-0.137-1.23-1.319-2.841zM24.543 5.457c0.959 0.959 1.712 1.825 2.268 2.543h-4.811v-4.811c0.718 0.556 1.584 1.309 2.543 2.268zM28 29.5c0 0.271-0.229 0.5-0.5 0.5h-23c-0.271 0-0.5-0.229-0.5-0.5v-27c0-0.271 0.229-0.5 0.5-0.5 0 0 15.499-0 15.5 0v7c0 0.552 0.448 1 1 1h7v19.5z\"></path>\n",
       "<path d=\"M23 26h-14c-0.552 0-1-0.448-1-1s0.448-1 1-1h14c0.552 0 1 0.448 1 1s-0.448 1-1 1z\"></path>\n",
       "<path d=\"M23 22h-14c-0.552 0-1-0.448-1-1s0.448-1 1-1h14c0.552 0 1 0.448 1 1s-0.448 1-1 1z\"></path>\n",
       "<path d=\"M23 18h-14c-0.552 0-1-0.448-1-1s0.448-1 1-1h14c0.552 0 1 0.448 1 1s-0.448 1-1 1z\"></path>\n",
       "</symbol>\n",
       "</defs>\n",
       "</svg>\n",
       "<style>/* CSS stylesheet for displaying xarray objects in notebooks */\n",
       "\n",
       ":root {\n",
       "  --xr-font-color0: var(\n",
       "    --jp-content-font-color0,\n",
       "    var(--pst-color-text-base rgba(0, 0, 0, 1))\n",
       "  );\n",
       "  --xr-font-color2: var(\n",
       "    --jp-content-font-color2,\n",
       "    var(--pst-color-text-base, rgba(0, 0, 0, 0.54))\n",
       "  );\n",
       "  --xr-font-color3: var(\n",
       "    --jp-content-font-color3,\n",
       "    var(--pst-color-text-base, rgba(0, 0, 0, 0.38))\n",
       "  );\n",
       "  --xr-border-color: var(\n",
       "    --jp-border-color2,\n",
       "    hsl(from var(--pst-color-on-background, white) h s calc(l - 10))\n",
       "  );\n",
       "  --xr-disabled-color: var(\n",
       "    --jp-layout-color3,\n",
       "    hsl(from var(--pst-color-on-background, white) h s calc(l - 40))\n",
       "  );\n",
       "  --xr-background-color: var(\n",
       "    --jp-layout-color0,\n",
       "    var(--pst-color-on-background, white)\n",
       "  );\n",
       "  --xr-background-color-row-even: var(\n",
       "    --jp-layout-color1,\n",
       "    hsl(from var(--pst-color-on-background, white) h s calc(l - 5))\n",
       "  );\n",
       "  --xr-background-color-row-odd: var(\n",
       "    --jp-layout-color2,\n",
       "    hsl(from var(--pst-color-on-background, white) h s calc(l - 15))\n",
       "  );\n",
       "}\n",
       "\n",
       "html[theme=\"dark\"],\n",
       "html[data-theme=\"dark\"],\n",
       "body[data-theme=\"dark\"],\n",
       "body.vscode-dark {\n",
       "  --xr-font-color0: var(\n",
       "    --jp-content-font-color0,\n",
       "    var(--pst-color-text-base, rgba(255, 255, 255, 1))\n",
       "  );\n",
       "  --xr-font-color2: var(\n",
       "    --jp-content-font-color2,\n",
       "    var(--pst-color-text-base, rgba(255, 255, 255, 0.54))\n",
       "  );\n",
       "  --xr-font-color3: var(\n",
       "    --jp-content-font-color3,\n",
       "    var(--pst-color-text-base, rgba(255, 255, 255, 0.38))\n",
       "  );\n",
       "  --xr-border-color: var(\n",
       "    --jp-border-color2,\n",
       "    hsl(from var(--pst-color-on-background, #111111) h s calc(l + 10))\n",
       "  );\n",
       "  --xr-disabled-color: var(\n",
       "    --jp-layout-color3,\n",
       "    hsl(from var(--pst-color-on-background, #111111) h s calc(l + 40))\n",
       "  );\n",
       "  --xr-background-color: var(\n",
       "    --jp-layout-color0,\n",
       "    var(--pst-color-on-background, #111111)\n",
       "  );\n",
       "  --xr-background-color-row-even: var(\n",
       "    --jp-layout-color1,\n",
       "    hsl(from var(--pst-color-on-background, #111111) h s calc(l + 5))\n",
       "  );\n",
       "  --xr-background-color-row-odd: var(\n",
       "    --jp-layout-color2,\n",
       "    hsl(from var(--pst-color-on-background, #111111) h s calc(l + 15))\n",
       "  );\n",
       "}\n",
       "\n",
       ".xr-wrap {\n",
       "  display: block !important;\n",
       "  min-width: 300px;\n",
       "  max-width: 700px;\n",
       "  line-height: 1.6;\n",
       "}\n",
       "\n",
       ".xr-text-repr-fallback {\n",
       "  /* fallback to plain text repr when CSS is not injected (untrusted notebook) */\n",
       "  display: none;\n",
       "}\n",
       "\n",
       ".xr-header {\n",
       "  padding-top: 6px;\n",
       "  padding-bottom: 6px;\n",
       "  margin-bottom: 4px;\n",
       "  border-bottom: solid 1px var(--xr-border-color);\n",
       "}\n",
       "\n",
       ".xr-header > div,\n",
       ".xr-header > ul {\n",
       "  display: inline;\n",
       "  margin-top: 0;\n",
       "  margin-bottom: 0;\n",
       "}\n",
       "\n",
       ".xr-obj-type,\n",
       ".xr-obj-name,\n",
       ".xr-group-name {\n",
       "  margin-left: 2px;\n",
       "  margin-right: 10px;\n",
       "}\n",
       "\n",
       ".xr-group-name::before {\n",
       "  content: \"📁\";\n",
       "  padding-right: 0.3em;\n",
       "}\n",
       "\n",
       ".xr-group-name,\n",
       ".xr-obj-type {\n",
       "  color: var(--xr-font-color2);\n",
       "}\n",
       "\n",
       ".xr-sections {\n",
       "  padding-left: 0 !important;\n",
       "  display: grid;\n",
       "  grid-template-columns: 150px auto auto 1fr 0 20px 0 20px;\n",
       "  margin-block-start: 0;\n",
       "  margin-block-end: 0;\n",
       "}\n",
       "\n",
       ".xr-section-item {\n",
       "  display: contents;\n",
       "}\n",
       "\n",
       ".xr-section-item input {\n",
       "  display: inline-block;\n",
       "  opacity: 0;\n",
       "  height: 0;\n",
       "  margin: 0;\n",
       "}\n",
       "\n",
       ".xr-section-item input + label {\n",
       "  color: var(--xr-disabled-color);\n",
       "  border: 2px solid transparent !important;\n",
       "}\n",
       "\n",
       ".xr-section-item input:enabled + label {\n",
       "  cursor: pointer;\n",
       "  color: var(--xr-font-color2);\n",
       "}\n",
       "\n",
       ".xr-section-item input:focus + label {\n",
       "  border: 2px solid var(--xr-font-color0) !important;\n",
       "}\n",
       "\n",
       ".xr-section-item input:enabled + label:hover {\n",
       "  color: var(--xr-font-color0);\n",
       "}\n",
       "\n",
       ".xr-section-summary {\n",
       "  grid-column: 1;\n",
       "  color: var(--xr-font-color2);\n",
       "  font-weight: 500;\n",
       "}\n",
       "\n",
       ".xr-section-summary > span {\n",
       "  display: inline-block;\n",
       "  padding-left: 0.5em;\n",
       "}\n",
       "\n",
       ".xr-section-summary-in:disabled + label {\n",
       "  color: var(--xr-font-color2);\n",
       "}\n",
       "\n",
       ".xr-section-summary-in + label:before {\n",
       "  display: inline-block;\n",
       "  content: \"►\";\n",
       "  font-size: 11px;\n",
       "  width: 15px;\n",
       "  text-align: center;\n",
       "}\n",
       "\n",
       ".xr-section-summary-in:disabled + label:before {\n",
       "  color: var(--xr-disabled-color);\n",
       "}\n",
       "\n",
       ".xr-section-summary-in:checked + label:before {\n",
       "  content: \"▼\";\n",
       "}\n",
       "\n",
       ".xr-section-summary-in:checked + label > span {\n",
       "  display: none;\n",
       "}\n",
       "\n",
       ".xr-section-summary,\n",
       ".xr-section-inline-details {\n",
       "  padding-top: 4px;\n",
       "}\n",
       "\n",
       ".xr-section-inline-details {\n",
       "  grid-column: 2 / -1;\n",
       "}\n",
       "\n",
       ".xr-section-details {\n",
       "  display: none;\n",
       "  grid-column: 1 / -1;\n",
       "  margin-top: 4px;\n",
       "  margin-bottom: 5px;\n",
       "}\n",
       "\n",
       ".xr-section-summary-in:checked ~ .xr-section-details {\n",
       "  display: contents;\n",
       "}\n",
       "\n",
       ".xr-group-box {\n",
       "  display: inline-grid;\n",
       "  grid-template-columns: 0px 20px auto;\n",
       "  width: 100%;\n",
       "}\n",
       "\n",
       ".xr-group-box-vline {\n",
       "  grid-column-start: 1;\n",
       "  border-right: 0.2em solid;\n",
       "  border-color: var(--xr-border-color);\n",
       "  width: 0px;\n",
       "}\n",
       "\n",
       ".xr-group-box-hline {\n",
       "  grid-column-start: 2;\n",
       "  grid-row-start: 1;\n",
       "  height: 1em;\n",
       "  width: 20px;\n",
       "  border-bottom: 0.2em solid;\n",
       "  border-color: var(--xr-border-color);\n",
       "}\n",
       "\n",
       ".xr-group-box-contents {\n",
       "  grid-column-start: 3;\n",
       "}\n",
       "\n",
       ".xr-array-wrap {\n",
       "  grid-column: 1 / -1;\n",
       "  display: grid;\n",
       "  grid-template-columns: 20px auto;\n",
       "}\n",
       "\n",
       ".xr-array-wrap > label {\n",
       "  grid-column: 1;\n",
       "  vertical-align: top;\n",
       "}\n",
       "\n",
       ".xr-preview {\n",
       "  color: var(--xr-font-color3);\n",
       "}\n",
       "\n",
       ".xr-array-preview,\n",
       ".xr-array-data {\n",
       "  padding: 0 5px !important;\n",
       "  grid-column: 2;\n",
       "}\n",
       "\n",
       ".xr-array-data,\n",
       ".xr-array-in:checked ~ .xr-array-preview {\n",
       "  display: none;\n",
       "}\n",
       "\n",
       ".xr-array-in:checked ~ .xr-array-data,\n",
       ".xr-array-preview {\n",
       "  display: inline-block;\n",
       "}\n",
       "\n",
       ".xr-dim-list {\n",
       "  display: inline-block !important;\n",
       "  list-style: none;\n",
       "  padding: 0 !important;\n",
       "  margin: 0;\n",
       "}\n",
       "\n",
       ".xr-dim-list li {\n",
       "  display: inline-block;\n",
       "  padding: 0;\n",
       "  margin: 0;\n",
       "}\n",
       "\n",
       ".xr-dim-list:before {\n",
       "  content: \"(\";\n",
       "}\n",
       "\n",
       ".xr-dim-list:after {\n",
       "  content: \")\";\n",
       "}\n",
       "\n",
       ".xr-dim-list li:not(:last-child):after {\n",
       "  content: \",\";\n",
       "  padding-right: 5px;\n",
       "}\n",
       "\n",
       ".xr-has-index {\n",
       "  font-weight: bold;\n",
       "}\n",
       "\n",
       ".xr-var-list,\n",
       ".xr-var-item {\n",
       "  display: contents;\n",
       "}\n",
       "\n",
       ".xr-var-item > div,\n",
       ".xr-var-item label,\n",
       ".xr-var-item > .xr-var-name span {\n",
       "  background-color: var(--xr-background-color-row-even);\n",
       "  border-color: var(--xr-background-color-row-odd);\n",
       "  margin-bottom: 0;\n",
       "  padding-top: 2px;\n",
       "}\n",
       "\n",
       ".xr-var-item > .xr-var-name:hover span {\n",
       "  padding-right: 5px;\n",
       "}\n",
       "\n",
       ".xr-var-list > li:nth-child(odd) > div,\n",
       ".xr-var-list > li:nth-child(odd) > label,\n",
       ".xr-var-list > li:nth-child(odd) > .xr-var-name span {\n",
       "  background-color: var(--xr-background-color-row-odd);\n",
       "  border-color: var(--xr-background-color-row-even);\n",
       "}\n",
       "\n",
       ".xr-var-name {\n",
       "  grid-column: 1;\n",
       "}\n",
       "\n",
       ".xr-var-dims {\n",
       "  grid-column: 2;\n",
       "}\n",
       "\n",
       ".xr-var-dtype {\n",
       "  grid-column: 3;\n",
       "  text-align: right;\n",
       "  color: var(--xr-font-color2);\n",
       "}\n",
       "\n",
       ".xr-var-preview {\n",
       "  grid-column: 4;\n",
       "}\n",
       "\n",
       ".xr-index-preview {\n",
       "  grid-column: 2 / 5;\n",
       "  color: var(--xr-font-color2);\n",
       "}\n",
       "\n",
       ".xr-var-name,\n",
       ".xr-var-dims,\n",
       ".xr-var-dtype,\n",
       ".xr-preview,\n",
       ".xr-attrs dt {\n",
       "  white-space: nowrap;\n",
       "  overflow: hidden;\n",
       "  text-overflow: ellipsis;\n",
       "  padding-right: 10px;\n",
       "}\n",
       "\n",
       ".xr-var-name:hover,\n",
       ".xr-var-dims:hover,\n",
       ".xr-var-dtype:hover,\n",
       ".xr-attrs dt:hover {\n",
       "  overflow: visible;\n",
       "  width: auto;\n",
       "  z-index: 1;\n",
       "}\n",
       "\n",
       ".xr-var-attrs,\n",
       ".xr-var-data,\n",
       ".xr-index-data {\n",
       "  display: none;\n",
       "  border-top: 2px dotted var(--xr-background-color);\n",
       "  padding-bottom: 20px !important;\n",
       "  padding-top: 10px !important;\n",
       "}\n",
       "\n",
       ".xr-var-attrs-in + label,\n",
       ".xr-var-data-in + label,\n",
       ".xr-index-data-in + label {\n",
       "  padding: 0 1px;\n",
       "}\n",
       "\n",
       ".xr-var-attrs-in:checked ~ .xr-var-attrs,\n",
       ".xr-var-data-in:checked ~ .xr-var-data,\n",
       ".xr-index-data-in:checked ~ .xr-index-data {\n",
       "  display: block;\n",
       "}\n",
       "\n",
       ".xr-var-data > table {\n",
       "  float: right;\n",
       "}\n",
       "\n",
       ".xr-var-data > pre,\n",
       ".xr-index-data > pre,\n",
       ".xr-var-data > table > tbody > tr {\n",
       "  background-color: transparent !important;\n",
       "}\n",
       "\n",
       ".xr-var-name span,\n",
       ".xr-var-data,\n",
       ".xr-index-name div,\n",
       ".xr-index-data,\n",
       ".xr-attrs {\n",
       "  padding-left: 25px !important;\n",
       "}\n",
       "\n",
       ".xr-attrs,\n",
       ".xr-var-attrs,\n",
       ".xr-var-data,\n",
       ".xr-index-data {\n",
       "  grid-column: 1 / -1;\n",
       "}\n",
       "\n",
       "dl.xr-attrs {\n",
       "  padding: 0;\n",
       "  margin: 0;\n",
       "  display: grid;\n",
       "  grid-template-columns: 125px auto;\n",
       "}\n",
       "\n",
       ".xr-attrs dt,\n",
       ".xr-attrs dd {\n",
       "  padding: 0;\n",
       "  margin: 0;\n",
       "  float: left;\n",
       "  padding-right: 10px;\n",
       "  width: auto;\n",
       "}\n",
       "\n",
       ".xr-attrs dt {\n",
       "  font-weight: normal;\n",
       "  grid-column: 1;\n",
       "}\n",
       "\n",
       ".xr-attrs dt:hover span {\n",
       "  display: inline-block;\n",
       "  background: var(--xr-background-color);\n",
       "  padding-right: 10px;\n",
       "}\n",
       "\n",
       ".xr-attrs dd {\n",
       "  grid-column: 2;\n",
       "  white-space: pre-wrap;\n",
       "  word-break: break-all;\n",
       "}\n",
       "\n",
       ".xr-icon-database,\n",
       ".xr-icon-file-text2,\n",
       ".xr-no-icon {\n",
       "  display: inline-block;\n",
       "  vertical-align: middle;\n",
       "  width: 1em;\n",
       "  height: 1.5em !important;\n",
       "  stroke-width: 0;\n",
       "  stroke: currentColor;\n",
       "  fill: currentColor;\n",
       "}\n",
       "\n",
       ".xr-var-attrs-in:checked + label > .xr-icon-file-text2,\n",
       ".xr-var-data-in:checked + label > .xr-icon-database,\n",
       ".xr-index-data-in:checked + label > .xr-icon-database {\n",
       "  color: var(--xr-font-color0);\n",
       "  filter: drop-shadow(1px 1px 5px var(--xr-font-color2));\n",
       "  stroke-width: 0.8px;\n",
       "}\n",
       "</style><pre class='xr-text-repr-fallback'>&lt;TimeSeries (date: 1445, component: 1, sample: 1)&gt; Size: 12kB\n",
       "array([[[23952.]],\n",
       "\n",
       "       [[    0.]],\n",
       "\n",
       "       [[    0.]],\n",
       "\n",
       "       ...,\n",
       "\n",
       "       [[    0.]],\n",
       "\n",
       "       [[    0.]],\n",
       "\n",
       "       [[    0.]]], shape=(1445, 1, 1))\n",
       "Coordinates:\n",
       "  * date       (date) datetime64[ns] 12kB 2020-01-10 2020-01-11 ... 2023-12-24\n",
       "  * component  (component) object 8B &#x27;net_weight&#x27;\n",
       "Dimensions without coordinates: sample\n",
       "Attributes:\n",
       "    static_covariates:  static_covariates   rm_id\\nnet_weight         2144.0\n",
       "    hierarchy:          None\n",
       "    metadata:           None</pre><div class='xr-wrap' style='display:none'><div class='xr-header'><div class='xr-obj-type'>TimeSeries</div><div class='xr-obj-name'></div><ul class='xr-dim-list'><li><span class='xr-has-index'>date</span>: 1445</li><li><span class='xr-has-index'>component</span>: 1</li><li><span>sample</span>: 1</li></ul></div><ul class='xr-sections'><li class='xr-section-item'><div class='xr-array-wrap'><input id='section-9f1105b6-6c91-4fe2-9e29-286e65e4bc75' class='xr-array-in' type='checkbox' checked><label for='section-9f1105b6-6c91-4fe2-9e29-286e65e4bc75' title='Show/hide data repr'><svg class='icon xr-icon-database'><use xlink:href='#icon-database'></use></svg></label><div class='xr-array-preview xr-preview'><span>2.395e+04 0.0 0.0 0.0 0.0 1.2e+03 ... 1.18e+03 2.095e+04 0.0 0.0 0.0</span></div><div class='xr-array-data'><pre>array([[[23952.]],\n",
       "\n",
       "       [[    0.]],\n",
       "\n",
       "       [[    0.]],\n",
       "\n",
       "       ...,\n",
       "\n",
       "       [[    0.]],\n",
       "\n",
       "       [[    0.]],\n",
       "\n",
       "       [[    0.]]], shape=(1445, 1, 1))</pre></div></div></li><li class='xr-section-item'><input id='section-fa9d5bb7-b86d-4a74-af9d-fc943208011d' class='xr-section-summary-in' type='checkbox'  checked><label for='section-fa9d5bb7-b86d-4a74-af9d-fc943208011d' class='xr-section-summary' >Coordinates: <span>(2)</span></label><div class='xr-section-inline-details'></div><div class='xr-section-details'><ul class='xr-var-list'><li class='xr-var-item'><div class='xr-var-name'><span class='xr-has-index'>date</span></div><div class='xr-var-dims'>(date)</div><div class='xr-var-dtype'>datetime64[ns]</div><div class='xr-var-preview xr-preview'>2020-01-10 ... 2023-12-24</div><input id='attrs-e642cf01-2fd7-491d-9085-f58e6f4dc787' class='xr-var-attrs-in' type='checkbox' disabled><label for='attrs-e642cf01-2fd7-491d-9085-f58e6f4dc787' title='Show/Hide attributes'><svg class='icon xr-icon-file-text2'><use xlink:href='#icon-file-text2'></use></svg></label><input id='data-ebbc1970-3743-429e-bce2-c6311455f1ae' class='xr-var-data-in' type='checkbox'><label for='data-ebbc1970-3743-429e-bce2-c6311455f1ae' title='Show/Hide data repr'><svg class='icon xr-icon-database'><use xlink:href='#icon-database'></use></svg></label><div class='xr-var-attrs'><dl class='xr-attrs'></dl></div><div class='xr-var-data'><pre>array([&#x27;2020-01-10T00:00:00.000000000&#x27;, &#x27;2020-01-11T00:00:00.000000000&#x27;,\n",
       "       &#x27;2020-01-12T00:00:00.000000000&#x27;, ..., &#x27;2023-12-22T00:00:00.000000000&#x27;,\n",
       "       &#x27;2023-12-23T00:00:00.000000000&#x27;, &#x27;2023-12-24T00:00:00.000000000&#x27;],\n",
       "      shape=(1445,), dtype=&#x27;datetime64[ns]&#x27;)</pre></div></li><li class='xr-var-item'><div class='xr-var-name'><span class='xr-has-index'>component</span></div><div class='xr-var-dims'>(component)</div><div class='xr-var-dtype'>object</div><div class='xr-var-preview xr-preview'>&#x27;net_weight&#x27;</div><input id='attrs-b059bd5c-2c67-464c-ac7f-325383ad6ebb' class='xr-var-attrs-in' type='checkbox' disabled><label for='attrs-b059bd5c-2c67-464c-ac7f-325383ad6ebb' title='Show/Hide attributes'><svg class='icon xr-icon-file-text2'><use xlink:href='#icon-file-text2'></use></svg></label><input id='data-06e2f3e3-2344-46cd-ad74-442ef43da9e0' class='xr-var-data-in' type='checkbox'><label for='data-06e2f3e3-2344-46cd-ad74-442ef43da9e0' title='Show/Hide data repr'><svg class='icon xr-icon-database'><use xlink:href='#icon-database'></use></svg></label><div class='xr-var-attrs'><dl class='xr-attrs'></dl></div><div class='xr-var-data'><pre>array([&#x27;net_weight&#x27;], dtype=object)</pre></div></li></ul></div></li><li class='xr-section-item'><input id='section-f463281d-c26c-4cba-baae-4fb43b59444f' class='xr-section-summary-in' type='checkbox'  checked><label for='section-f463281d-c26c-4cba-baae-4fb43b59444f' class='xr-section-summary' >Attributes: <span>(3)</span></label><div class='xr-section-inline-details'></div><div class='xr-section-details'><dl class='xr-attrs'><dt><span>static_covariates :</span></dt><dd>static_covariates   rm_id\n",
       "net_weight         2144.0</dd><dt><span>hierarchy :</span></dt><dd>None</dd><dt><span>metadata :</span></dt><dd>None</dd></dl></div></li></ul></div></div>"
      ],
      "text/plain": [
       "<TimeSeries (date: 1445, component: 1, sample: 1)> Size: 12kB\n",
       "array([[[23952.]],\n",
       "\n",
       "       [[    0.]],\n",
       "\n",
       "       [[    0.]],\n",
       "\n",
       "       ...,\n",
       "\n",
       "       [[    0.]],\n",
       "\n",
       "       [[    0.]],\n",
       "\n",
       "       [[    0.]]], shape=(1445, 1, 1))\n",
       "Coordinates:\n",
       "  * date       (date) datetime64[ns] 12kB 2020-01-10 2020-01-11 ... 2023-12-24\n",
       "  * component  (component) object 8B 'net_weight'\n",
       "Dimensions without coordinates: sample\n",
       "Attributes:\n",
       "    static_covariates:  static_covariates   rm_id\\nnet_weight         2144.0\n",
       "    hierarchy:          None\n",
       "    metadata:           None"
      ]
     },
     "execution_count": 33,
     "metadata": {},
     "output_type": "execute_result"
    }
   ],
   "source": [
    "train_lst_scaled[n]"
   ]
  },
  {
   "cell_type": "code",
   "execution_count": null,
   "id": "9fdc5934",
   "metadata": {},
   "outputs": [
    {
     "name": "stderr",
     "output_type": "stream",
     "text": [
      "GPU available: True (mps), used: False\n",
      "TPU available: False, using: 0 TPU cores\n",
      "HPU available: False, using: 0 HPUs\n",
      "\n",
      "  | Name            | Type             | Params | Mode \n",
      "-------------------------------------------------------------\n",
      "0 | criterion       | MSELoss          | 0      | train\n",
      "1 | train_criterion | MSELoss          | 0      | train\n",
      "2 | val_criterion   | MSELoss          | 0      | train\n",
      "3 | train_metrics   | MetricCollection | 0      | train\n",
      "4 | val_metrics     | MetricCollection | 0      | train\n",
      "5 | stacks          | ModuleList       | 1.1 M  | train\n",
      "-------------------------------------------------------------\n",
      "1.1 M     Trainable params\n",
      "1.7 K     Non-trainable params\n",
      "1.1 M     Total params\n",
      "4.366     Total estimated model params size (MB)\n",
      "86        Modules in train mode\n",
      "0         Modules in eval mode\n"
     ]
    },
    {
     "data": {
      "application/vnd.jupyter.widget-view+json": {
       "model_id": "93650270687447558ab3a61948311a5d",
       "version_major": 2,
       "version_minor": 0
      },
      "text/plain": [
       "Training: 0it [00:00, ?it/s]"
      ]
     },
     "metadata": {},
     "output_type": "display_data"
    },
    {
     "name": "stderr",
     "output_type": "stream",
     "text": [
      "`predict()` was called with `n > output_chunk_length`: using auto-regression to forecast the values after `output_chunk_length` points. The model will access `(n - output_chunk_length)` future values of your `past_covariates` (relative to the first predicted time step). To hide this warning, set `show_warnings=False`.\n",
      "GPU available: True (mps), used: False\n",
      "TPU available: False, using: 0 TPU cores\n",
      "HPU available: False, using: 0 HPUs\n"
     ]
    },
    {
     "name": "stdout",
     "output_type": "stream",
     "text": [
      "RMSE: 1803.9430225782594\n",
      "R2 Score: -5.557973577231134\n"
     ]
    },
    {
     "name": "stderr",
     "output_type": "stream",
     "text": [
      "GPU available: True (mps), used: False\n",
      "TPU available: False, using: 0 TPU cores\n",
      "HPU available: False, using: 0 HPUs\n",
      "\n",
      "  | Name            | Type             | Params | Mode \n",
      "-------------------------------------------------------------\n",
      "0 | criterion       | MSELoss          | 0      | train\n",
      "1 | train_criterion | MSELoss          | 0      | train\n",
      "2 | val_criterion   | MSELoss          | 0      | train\n",
      "3 | train_metrics   | MetricCollection | 0      | train\n",
      "4 | val_metrics     | MetricCollection | 0      | train\n",
      "5 | stacks          | ModuleList       | 1.1 M  | train\n",
      "-------------------------------------------------------------\n",
      "1.1 M     Trainable params\n",
      "1.7 K     Non-trainable params\n",
      "1.1 M     Total params\n",
      "4.366     Total estimated model params size (MB)\n",
      "86        Modules in train mode\n",
      "0         Modules in eval mode\n"
     ]
    },
    {
     "data": {
      "application/vnd.jupyter.widget-view+json": {
       "model_id": "b9a40cf4d28547b3970a98b045566818",
       "version_major": 2,
       "version_minor": 0
      },
      "text/plain": [
       "Training: 0it [00:00, ?it/s]"
      ]
     },
     "metadata": {},
     "output_type": "display_data"
    },
    {
     "name": "stderr",
     "output_type": "stream",
     "text": [
      "`predict()` was called with `n > output_chunk_length`: using auto-regression to forecast the values after `output_chunk_length` points. The model will access `(n - output_chunk_length)` future values of your `past_covariates` (relative to the first predicted time step). To hide this warning, set `show_warnings=False`.\n",
      "GPU available: True (mps), used: False\n",
      "TPU available: False, using: 0 TPU cores\n",
      "HPU available: False, using: 0 HPUs\n"
     ]
    },
    {
     "name": "stdout",
     "output_type": "stream",
     "text": [
      "RMSE: 1723.6251466291608\n",
      "R2 Score: -0.08379938689908051\n"
     ]
    },
    {
     "name": "stderr",
     "output_type": "stream",
     "text": [
      "GPU available: True (mps), used: False\n",
      "TPU available: False, using: 0 TPU cores\n",
      "HPU available: False, using: 0 HPUs\n",
      "\n",
      "  | Name            | Type             | Params | Mode \n",
      "-------------------------------------------------------------\n",
      "0 | criterion       | MSELoss          | 0      | train\n",
      "1 | train_criterion | MSELoss          | 0      | train\n",
      "2 | val_criterion   | MSELoss          | 0      | train\n",
      "3 | train_metrics   | MetricCollection | 0      | train\n",
      "4 | val_metrics     | MetricCollection | 0      | train\n",
      "5 | stacks          | ModuleList       | 1.1 M  | train\n",
      "-------------------------------------------------------------\n",
      "1.1 M     Trainable params\n",
      "1.7 K     Non-trainable params\n",
      "1.1 M     Total params\n",
      "4.366     Total estimated model params size (MB)\n",
      "86        Modules in train mode\n",
      "0         Modules in eval mode\n"
     ]
    },
    {
     "data": {
      "application/vnd.jupyter.widget-view+json": {
       "model_id": "9cc044075a3e405fb6ac40f05d762bf6",
       "version_major": 2,
       "version_minor": 0
      },
      "text/plain": [
       "Training: 0it [00:00, ?it/s]"
      ]
     },
     "metadata": {},
     "output_type": "display_data"
    },
    {
     "name": "stderr",
     "output_type": "stream",
     "text": [
      "`predict()` was called with `n > output_chunk_length`: using auto-regression to forecast the values after `output_chunk_length` points. The model will access `(n - output_chunk_length)` future values of your `past_covariates` (relative to the first predicted time step). To hide this warning, set `show_warnings=False`.\n",
      "GPU available: True (mps), used: False\n",
      "TPU available: False, using: 0 TPU cores\n",
      "HPU available: False, using: 0 HPUs\n"
     ]
    },
    {
     "name": "stdout",
     "output_type": "stream",
     "text": [
      "RMSE: 3012.044713700886\n",
      "R2 Score: -0.762566998632245\n"
     ]
    },
    {
     "name": "stderr",
     "output_type": "stream",
     "text": [
      "GPU available: True (mps), used: False\n",
      "TPU available: False, using: 0 TPU cores\n",
      "HPU available: False, using: 0 HPUs\n",
      "\n",
      "  | Name            | Type             | Params | Mode \n",
      "-------------------------------------------------------------\n",
      "0 | criterion       | MSELoss          | 0      | train\n",
      "1 | train_criterion | MSELoss          | 0      | train\n",
      "2 | val_criterion   | MSELoss          | 0      | train\n",
      "3 | train_metrics   | MetricCollection | 0      | train\n",
      "4 | val_metrics     | MetricCollection | 0      | train\n",
      "5 | stacks          | ModuleList       | 1.1 M  | train\n",
      "-------------------------------------------------------------\n",
      "1.1 M     Trainable params\n",
      "1.7 K     Non-trainable params\n",
      "1.1 M     Total params\n",
      "4.366     Total estimated model params size (MB)\n",
      "86        Modules in train mode\n",
      "0         Modules in eval mode\n"
     ]
    },
    {
     "data": {
      "application/vnd.jupyter.widget-view+json": {
       "model_id": "cb90084ba60f4a0097490cf31cc0cac9",
       "version_major": 2,
       "version_minor": 0
      },
      "text/plain": [
       "Training: 0it [00:00, ?it/s]"
      ]
     },
     "metadata": {},
     "output_type": "display_data"
    },
    {
     "name": "stderr",
     "output_type": "stream",
     "text": [
      "`Trainer.fit` stopped: `max_epochs=50` reached.\n",
      "`predict()` was called with `n > output_chunk_length`: using auto-regression to forecast the values after `output_chunk_length` points. The model will access `(n - output_chunk_length)` future values of your `past_covariates` (relative to the first predicted time step). To hide this warning, set `show_warnings=False`.\n",
      "GPU available: True (mps), used: False\n",
      "TPU available: False, using: 0 TPU cores\n",
      "HPU available: False, using: 0 HPUs\n"
     ]
    },
    {
     "name": "stdout",
     "output_type": "stream",
     "text": [
      "RMSE: 37083.194626187746\n",
      "R2 Score: -0.39334214094278086\n"
     ]
    },
    {
     "name": "stderr",
     "output_type": "stream",
     "text": [
      "GPU available: True (mps), used: False\n",
      "TPU available: False, using: 0 TPU cores\n",
      "HPU available: False, using: 0 HPUs\n",
      "\n",
      "  | Name            | Type             | Params | Mode \n",
      "-------------------------------------------------------------\n",
      "0 | criterion       | MSELoss          | 0      | train\n",
      "1 | train_criterion | MSELoss          | 0      | train\n",
      "2 | val_criterion   | MSELoss          | 0      | train\n",
      "3 | train_metrics   | MetricCollection | 0      | train\n",
      "4 | val_metrics     | MetricCollection | 0      | train\n",
      "5 | stacks          | ModuleList       | 1.1 M  | train\n",
      "-------------------------------------------------------------\n",
      "1.1 M     Trainable params\n",
      "1.7 K     Non-trainable params\n",
      "1.1 M     Total params\n",
      "4.366     Total estimated model params size (MB)\n",
      "86        Modules in train mode\n",
      "0         Modules in eval mode\n"
     ]
    },
    {
     "data": {
      "application/vnd.jupyter.widget-view+json": {
       "model_id": "09b9e77744e94fc6853244e3b2d40b66",
       "version_major": 2,
       "version_minor": 0
      },
      "text/plain": [
       "Training: 0it [00:00, ?it/s]"
      ]
     },
     "metadata": {},
     "output_type": "display_data"
    },
    {
     "name": "stderr",
     "output_type": "stream",
     "text": [
      "`predict()` was called with `n > output_chunk_length`: using auto-regression to forecast the values after `output_chunk_length` points. The model will access `(n - output_chunk_length)` future values of your `past_covariates` (relative to the first predicted time step). To hide this warning, set `show_warnings=False`.\n",
      "GPU available: True (mps), used: False\n",
      "TPU available: False, using: 0 TPU cores\n",
      "HPU available: False, using: 0 HPUs\n"
     ]
    },
    {
     "name": "stdout",
     "output_type": "stream",
     "text": [
      "RMSE: 31293.9484830417\n",
      "R2 Score: -39.99156294514917\n"
     ]
    },
    {
     "name": "stderr",
     "output_type": "stream",
     "text": [
      "GPU available: True (mps), used: False\n",
      "TPU available: False, using: 0 TPU cores\n",
      "HPU available: False, using: 0 HPUs\n",
      "\n",
      "  | Name            | Type             | Params | Mode \n",
      "-------------------------------------------------------------\n",
      "0 | criterion       | MSELoss          | 0      | train\n",
      "1 | train_criterion | MSELoss          | 0      | train\n",
      "2 | val_criterion   | MSELoss          | 0      | train\n",
      "3 | train_metrics   | MetricCollection | 0      | train\n",
      "4 | val_metrics     | MetricCollection | 0      | train\n",
      "5 | stacks          | ModuleList       | 1.1 M  | train\n",
      "-------------------------------------------------------------\n",
      "1.1 M     Trainable params\n",
      "1.7 K     Non-trainable params\n",
      "1.1 M     Total params\n",
      "4.366     Total estimated model params size (MB)\n",
      "86        Modules in train mode\n",
      "0         Modules in eval mode\n"
     ]
    },
    {
     "data": {
      "application/vnd.jupyter.widget-view+json": {
       "model_id": "32da6d9ef30f417ca8dc53b12ef024ce",
       "version_major": 2,
       "version_minor": 0
      },
      "text/plain": [
       "Training: 0it [00:00, ?it/s]"
      ]
     },
     "metadata": {},
     "output_type": "display_data"
    },
    {
     "name": "stderr",
     "output_type": "stream",
     "text": [
      "`predict()` was called with `n > output_chunk_length`: using auto-regression to forecast the values after `output_chunk_length` points. The model will access `(n - output_chunk_length)` future values of your `past_covariates` (relative to the first predicted time step). To hide this warning, set `show_warnings=False`.\n",
      "GPU available: True (mps), used: False\n",
      "TPU available: False, using: 0 TPU cores\n",
      "HPU available: False, using: 0 HPUs\n"
     ]
    },
    {
     "name": "stdout",
     "output_type": "stream",
     "text": [
      "RMSE: 4137.347877805726\n",
      "R2 Score: -0.7186371142684904\n"
     ]
    },
    {
     "name": "stderr",
     "output_type": "stream",
     "text": [
      "GPU available: True (mps), used: False\n",
      "TPU available: False, using: 0 TPU cores\n",
      "HPU available: False, using: 0 HPUs\n",
      "\n",
      "  | Name            | Type             | Params | Mode \n",
      "-------------------------------------------------------------\n",
      "0 | criterion       | MSELoss          | 0      | train\n",
      "1 | train_criterion | MSELoss          | 0      | train\n",
      "2 | val_criterion   | MSELoss          | 0      | train\n",
      "3 | train_metrics   | MetricCollection | 0      | train\n",
      "4 | val_metrics     | MetricCollection | 0      | train\n",
      "5 | stacks          | ModuleList       | 1.1 M  | train\n",
      "-------------------------------------------------------------\n",
      "1.1 M     Trainable params\n",
      "1.7 K     Non-trainable params\n",
      "1.1 M     Total params\n",
      "4.366     Total estimated model params size (MB)\n",
      "86        Modules in train mode\n",
      "0         Modules in eval mode\n"
     ]
    },
    {
     "data": {
      "application/vnd.jupyter.widget-view+json": {
       "model_id": "eee13dfbf7a54c7da417da250fba01a9",
       "version_major": 2,
       "version_minor": 0
      },
      "text/plain": [
       "Training: 0it [00:00, ?it/s]"
      ]
     },
     "metadata": {},
     "output_type": "display_data"
    },
    {
     "name": "stderr",
     "output_type": "stream",
     "text": [
      "`predict()` was called with `n > output_chunk_length`: using auto-regression to forecast the values after `output_chunk_length` points. The model will access `(n - output_chunk_length)` future values of your `past_covariates` (relative to the first predicted time step). To hide this warning, set `show_warnings=False`.\n",
      "GPU available: True (mps), used: False\n",
      "TPU available: False, using: 0 TPU cores\n",
      "HPU available: False, using: 0 HPUs\n"
     ]
    },
    {
     "name": "stdout",
     "output_type": "stream",
     "text": [
      "RMSE: 3040.638593114394\n",
      "R2 Score: -2.274700392495046\n"
     ]
    },
    {
     "name": "stderr",
     "output_type": "stream",
     "text": [
      "GPU available: True (mps), used: False\n",
      "TPU available: False, using: 0 TPU cores\n",
      "HPU available: False, using: 0 HPUs\n",
      "\n",
      "  | Name            | Type             | Params | Mode \n",
      "-------------------------------------------------------------\n",
      "0 | criterion       | MSELoss          | 0      | train\n",
      "1 | train_criterion | MSELoss          | 0      | train\n",
      "2 | val_criterion   | MSELoss          | 0      | train\n",
      "3 | train_metrics   | MetricCollection | 0      | train\n",
      "4 | val_metrics     | MetricCollection | 0      | train\n",
      "5 | stacks          | ModuleList       | 1.1 M  | train\n",
      "-------------------------------------------------------------\n",
      "1.1 M     Trainable params\n",
      "1.7 K     Non-trainable params\n",
      "1.1 M     Total params\n",
      "4.366     Total estimated model params size (MB)\n",
      "86        Modules in train mode\n",
      "0         Modules in eval mode\n"
     ]
    },
    {
     "data": {
      "application/vnd.jupyter.widget-view+json": {
       "model_id": "f2c5cdb46a01455d92cd2e74a874f4f0",
       "version_major": 2,
       "version_minor": 0
      },
      "text/plain": [
       "Training: 0it [00:00, ?it/s]"
      ]
     },
     "metadata": {},
     "output_type": "display_data"
    },
    {
     "name": "stderr",
     "output_type": "stream",
     "text": [
      "`predict()` was called with `n > output_chunk_length`: using auto-regression to forecast the values after `output_chunk_length` points. The model will access `(n - output_chunk_length)` future values of your `past_covariates` (relative to the first predicted time step). To hide this warning, set `show_warnings=False`.\n",
      "GPU available: True (mps), used: False\n",
      "TPU available: False, using: 0 TPU cores\n",
      "HPU available: False, using: 0 HPUs\n"
     ]
    },
    {
     "name": "stdout",
     "output_type": "stream",
     "text": [
      "RMSE: 9371.954334996708\n",
      "R2 Score: -0.20579541465440054\n"
     ]
    },
    {
     "name": "stderr",
     "output_type": "stream",
     "text": [
      "GPU available: True (mps), used: False\n",
      "TPU available: False, using: 0 TPU cores\n",
      "HPU available: False, using: 0 HPUs\n",
      "\n",
      "  | Name            | Type             | Params | Mode \n",
      "-------------------------------------------------------------\n",
      "0 | criterion       | MSELoss          | 0      | train\n",
      "1 | train_criterion | MSELoss          | 0      | train\n",
      "2 | val_criterion   | MSELoss          | 0      | train\n",
      "3 | train_metrics   | MetricCollection | 0      | train\n",
      "4 | val_metrics     | MetricCollection | 0      | train\n",
      "5 | stacks          | ModuleList       | 1.1 M  | train\n",
      "-------------------------------------------------------------\n",
      "1.1 M     Trainable params\n",
      "1.7 K     Non-trainable params\n",
      "1.1 M     Total params\n",
      "4.366     Total estimated model params size (MB)\n",
      "86        Modules in train mode\n",
      "0         Modules in eval mode\n"
     ]
    },
    {
     "data": {
      "application/vnd.jupyter.widget-view+json": {
       "model_id": "20225ac8050545e3850a18f266be670b",
       "version_major": 2,
       "version_minor": 0
      },
      "text/plain": [
       "Training: 0it [00:00, ?it/s]"
      ]
     },
     "metadata": {},
     "output_type": "display_data"
    },
    {
     "name": "stderr",
     "output_type": "stream",
     "text": [
      "`predict()` was called with `n > output_chunk_length`: using auto-regression to forecast the values after `output_chunk_length` points. The model will access `(n - output_chunk_length)` future values of your `past_covariates` (relative to the first predicted time step). To hide this warning, set `show_warnings=False`.\n",
      "GPU available: True (mps), used: False\n",
      "TPU available: False, using: 0 TPU cores\n",
      "HPU available: False, using: 0 HPUs\n"
     ]
    },
    {
     "name": "stdout",
     "output_type": "stream",
     "text": [
      "RMSE: 8880.159377645507\n",
      "R2 Score: -1.3316956158881887\n"
     ]
    },
    {
     "name": "stderr",
     "output_type": "stream",
     "text": [
      "GPU available: True (mps), used: False\n",
      "TPU available: False, using: 0 TPU cores\n",
      "HPU available: False, using: 0 HPUs\n",
      "\n",
      "  | Name            | Type             | Params | Mode \n",
      "-------------------------------------------------------------\n",
      "0 | criterion       | MSELoss          | 0      | train\n",
      "1 | train_criterion | MSELoss          | 0      | train\n",
      "2 | val_criterion   | MSELoss          | 0      | train\n",
      "3 | train_metrics   | MetricCollection | 0      | train\n",
      "4 | val_metrics     | MetricCollection | 0      | train\n",
      "5 | stacks          | ModuleList       | 1.1 M  | train\n",
      "-------------------------------------------------------------\n",
      "1.1 M     Trainable params\n",
      "1.7 K     Non-trainable params\n",
      "1.1 M     Total params\n",
      "4.366     Total estimated model params size (MB)\n",
      "86        Modules in train mode\n",
      "0         Modules in eval mode\n"
     ]
    },
    {
     "data": {
      "application/vnd.jupyter.widget-view+json": {
       "model_id": "4046e070dab34cc4b525f8a9552788ed",
       "version_major": 2,
       "version_minor": 0
      },
      "text/plain": [
       "Training: 0it [00:00, ?it/s]"
      ]
     },
     "metadata": {},
     "output_type": "display_data"
    },
    {
     "name": "stderr",
     "output_type": "stream",
     "text": [
      "`predict()` was called with `n > output_chunk_length`: using auto-regression to forecast the values after `output_chunk_length` points. The model will access `(n - output_chunk_length)` future values of your `past_covariates` (relative to the first predicted time step). To hide this warning, set `show_warnings=False`.\n",
      "GPU available: True (mps), used: False\n",
      "TPU available: False, using: 0 TPU cores\n",
      "HPU available: False, using: 0 HPUs\n"
     ]
    },
    {
     "name": "stdout",
     "output_type": "stream",
     "text": [
      "RMSE: 15130.473024272842\n",
      "R2 Score: -0.041231426958107775\n"
     ]
    },
    {
     "name": "stderr",
     "output_type": "stream",
     "text": [
      "GPU available: True (mps), used: False\n",
      "TPU available: False, using: 0 TPU cores\n",
      "HPU available: False, using: 0 HPUs\n",
      "\n",
      "  | Name            | Type             | Params | Mode \n",
      "-------------------------------------------------------------\n",
      "0 | criterion       | MSELoss          | 0      | train\n",
      "1 | train_criterion | MSELoss          | 0      | train\n",
      "2 | val_criterion   | MSELoss          | 0      | train\n",
      "3 | train_metrics   | MetricCollection | 0      | train\n",
      "4 | val_metrics     | MetricCollection | 0      | train\n",
      "5 | stacks          | ModuleList       | 1.1 M  | train\n",
      "-------------------------------------------------------------\n",
      "1.1 M     Trainable params\n",
      "1.7 K     Non-trainable params\n",
      "1.1 M     Total params\n",
      "4.366     Total estimated model params size (MB)\n",
      "86        Modules in train mode\n",
      "0         Modules in eval mode\n"
     ]
    },
    {
     "data": {
      "application/vnd.jupyter.widget-view+json": {
       "model_id": "f4a35cbdb16b4f998c50b0105fa788fb",
       "version_major": 2,
       "version_minor": 0
      },
      "text/plain": [
       "Training: 0it [00:00, ?it/s]"
      ]
     },
     "metadata": {},
     "output_type": "display_data"
    },
    {
     "name": "stderr",
     "output_type": "stream",
     "text": [
      "`predict()` was called with `n > output_chunk_length`: using auto-regression to forecast the values after `output_chunk_length` points. The model will access `(n - output_chunk_length)` future values of your `past_covariates` (relative to the first predicted time step). To hide this warning, set `show_warnings=False`.\n",
      "GPU available: True (mps), used: False\n",
      "TPU available: False, using: 0 TPU cores\n",
      "HPU available: False, using: 0 HPUs\n"
     ]
    },
    {
     "name": "stdout",
     "output_type": "stream",
     "text": [
      "RMSE: 14919.218960860358\n",
      "R2 Score: -5.66126720758209\n"
     ]
    },
    {
     "name": "stderr",
     "output_type": "stream",
     "text": [
      "GPU available: True (mps), used: False\n",
      "TPU available: False, using: 0 TPU cores\n",
      "HPU available: False, using: 0 HPUs\n",
      "\n",
      "  | Name            | Type             | Params | Mode \n",
      "-------------------------------------------------------------\n",
      "0 | criterion       | MSELoss          | 0      | train\n",
      "1 | train_criterion | MSELoss          | 0      | train\n",
      "2 | val_criterion   | MSELoss          | 0      | train\n",
      "3 | train_metrics   | MetricCollection | 0      | train\n",
      "4 | val_metrics     | MetricCollection | 0      | train\n",
      "5 | stacks          | ModuleList       | 1.1 M  | train\n",
      "-------------------------------------------------------------\n",
      "1.1 M     Trainable params\n",
      "1.7 K     Non-trainable params\n",
      "1.1 M     Total params\n",
      "4.366     Total estimated model params size (MB)\n",
      "86        Modules in train mode\n",
      "0         Modules in eval mode\n"
     ]
    },
    {
     "data": {
      "application/vnd.jupyter.widget-view+json": {
       "model_id": "296a4b296dca442a932c8b867660de7c",
       "version_major": 2,
       "version_minor": 0
      },
      "text/plain": [
       "Training: 0it [00:00, ?it/s]"
      ]
     },
     "metadata": {},
     "output_type": "display_data"
    },
    {
     "name": "stderr",
     "output_type": "stream",
     "text": [
      "`predict()` was called with `n > output_chunk_length`: using auto-regression to forecast the values after `output_chunk_length` points. The model will access `(n - output_chunk_length)` future values of your `past_covariates` (relative to the first predicted time step). To hide this warning, set `show_warnings=False`.\n",
      "GPU available: True (mps), used: False\n",
      "TPU available: False, using: 0 TPU cores\n",
      "HPU available: False, using: 0 HPUs\n",
      "GPU available: True (mps), used: False\n",
      "TPU available: False, using: 0 TPU cores\n",
      "HPU available: False, using: 0 HPUs\n",
      "\n",
      "  | Name            | Type             | Params | Mode \n",
      "-------------------------------------------------------------\n",
      "0 | criterion       | MSELoss          | 0      | train\n",
      "1 | train_criterion | MSELoss          | 0      | train\n",
      "2 | val_criterion   | MSELoss          | 0      | train\n",
      "3 | train_metrics   | MetricCollection | 0      | train\n",
      "4 | val_metrics     | MetricCollection | 0      | train\n",
      "5 | stacks          | ModuleList       | 1.1 M  | train\n",
      "-------------------------------------------------------------\n",
      "1.1 M     Trainable params\n",
      "1.7 K     Non-trainable params\n",
      "1.1 M     Total params\n",
      "4.366     Total estimated model params size (MB)\n",
      "86        Modules in train mode\n",
      "0         Modules in eval mode\n"
     ]
    },
    {
     "name": "stdout",
     "output_type": "stream",
     "text": [
      "RMSE: 6770.143123868399\n",
      "R2 Score: -12.364107280776018\n"
     ]
    },
    {
     "data": {
      "application/vnd.jupyter.widget-view+json": {
       "model_id": "8a0c1f56e9724b14b69a1e115a96ee05",
       "version_major": 2,
       "version_minor": 0
      },
      "text/plain": [
       "Training: 0it [00:00, ?it/s]"
      ]
     },
     "metadata": {},
     "output_type": "display_data"
    },
    {
     "name": "stderr",
     "output_type": "stream",
     "text": [
      "`predict()` was called with `n > output_chunk_length`: using auto-regression to forecast the values after `output_chunk_length` points. The model will access `(n - output_chunk_length)` future values of your `past_covariates` (relative to the first predicted time step). To hide this warning, set `show_warnings=False`.\n",
      "GPU available: True (mps), used: False\n",
      "TPU available: False, using: 0 TPU cores\n",
      "HPU available: False, using: 0 HPUs\n"
     ]
    },
    {
     "name": "stdout",
     "output_type": "stream",
     "text": [
      "RMSE: 4452.726766868485\n",
      "R2 Score: 0.04946407854492896\n"
     ]
    },
    {
     "name": "stderr",
     "output_type": "stream",
     "text": [
      "GPU available: True (mps), used: False\n",
      "TPU available: False, using: 0 TPU cores\n",
      "HPU available: False, using: 0 HPUs\n",
      "\n",
      "  | Name            | Type             | Params | Mode \n",
      "-------------------------------------------------------------\n",
      "0 | criterion       | MSELoss          | 0      | train\n",
      "1 | train_criterion | MSELoss          | 0      | train\n",
      "2 | val_criterion   | MSELoss          | 0      | train\n",
      "3 | train_metrics   | MetricCollection | 0      | train\n",
      "4 | val_metrics     | MetricCollection | 0      | train\n",
      "5 | stacks          | ModuleList       | 1.1 M  | train\n",
      "-------------------------------------------------------------\n",
      "1.1 M     Trainable params\n",
      "1.7 K     Non-trainable params\n",
      "1.1 M     Total params\n",
      "4.366     Total estimated model params size (MB)\n",
      "86        Modules in train mode\n",
      "0         Modules in eval mode\n"
     ]
    },
    {
     "data": {
      "application/vnd.jupyter.widget-view+json": {
       "model_id": "04e379da784c4de3b20fc34202cd7bea",
       "version_major": 2,
       "version_minor": 0
      },
      "text/plain": [
       "Training: 0it [00:00, ?it/s]"
      ]
     },
     "metadata": {},
     "output_type": "display_data"
    },
    {
     "name": "stderr",
     "output_type": "stream",
     "text": [
      "`predict()` was called with `n > output_chunk_length`: using auto-regression to forecast the values after `output_chunk_length` points. The model will access `(n - output_chunk_length)` future values of your `past_covariates` (relative to the first predicted time step). To hide this warning, set `show_warnings=False`.\n",
      "GPU available: True (mps), used: False\n",
      "TPU available: False, using: 0 TPU cores\n",
      "HPU available: False, using: 0 HPUs\n"
     ]
    },
    {
     "name": "stdout",
     "output_type": "stream",
     "text": [
      "RMSE: 4111.523727509364\n",
      "R2 Score: -1.6206347303905373\n"
     ]
    },
    {
     "name": "stderr",
     "output_type": "stream",
     "text": [
      "GPU available: True (mps), used: False\n",
      "TPU available: False, using: 0 TPU cores\n",
      "HPU available: False, using: 0 HPUs\n",
      "\n",
      "  | Name            | Type             | Params | Mode \n",
      "-------------------------------------------------------------\n",
      "0 | criterion       | MSELoss          | 0      | train\n",
      "1 | train_criterion | MSELoss          | 0      | train\n",
      "2 | val_criterion   | MSELoss          | 0      | train\n",
      "3 | train_metrics   | MetricCollection | 0      | train\n",
      "4 | val_metrics     | MetricCollection | 0      | train\n",
      "5 | stacks          | ModuleList       | 1.1 M  | train\n",
      "-------------------------------------------------------------\n",
      "1.1 M     Trainable params\n",
      "1.7 K     Non-trainable params\n",
      "1.1 M     Total params\n",
      "4.366     Total estimated model params size (MB)\n",
      "86        Modules in train mode\n",
      "0         Modules in eval mode\n"
     ]
    },
    {
     "data": {
      "application/vnd.jupyter.widget-view+json": {
       "model_id": "5ce03eae299c4f8ba48c0cc4e2355895",
       "version_major": 2,
       "version_minor": 0
      },
      "text/plain": [
       "Training: 0it [00:00, ?it/s]"
      ]
     },
     "metadata": {},
     "output_type": "display_data"
    },
    {
     "name": "stderr",
     "output_type": "stream",
     "text": [
      "`predict()` was called with `n > output_chunk_length`: using auto-regression to forecast the values after `output_chunk_length` points. The model will access `(n - output_chunk_length)` future values of your `past_covariates` (relative to the first predicted time step). To hide this warning, set `show_warnings=False`.\n",
      "GPU available: True (mps), used: False\n",
      "TPU available: False, using: 0 TPU cores\n",
      "HPU available: False, using: 0 HPUs\n"
     ]
    },
    {
     "name": "stdout",
     "output_type": "stream",
     "text": [
      "RMSE: nan\n",
      "R2 Score: nan\n"
     ]
    },
    {
     "name": "stderr",
     "output_type": "stream",
     "text": [
      "GPU available: True (mps), used: False\n",
      "TPU available: False, using: 0 TPU cores\n",
      "HPU available: False, using: 0 HPUs\n",
      "\n",
      "  | Name            | Type             | Params | Mode \n",
      "-------------------------------------------------------------\n",
      "0 | criterion       | MSELoss          | 0      | train\n",
      "1 | train_criterion | MSELoss          | 0      | train\n",
      "2 | val_criterion   | MSELoss          | 0      | train\n",
      "3 | train_metrics   | MetricCollection | 0      | train\n",
      "4 | val_metrics     | MetricCollection | 0      | train\n",
      "5 | stacks          | ModuleList       | 1.1 M  | train\n",
      "-------------------------------------------------------------\n",
      "1.1 M     Trainable params\n",
      "1.7 K     Non-trainable params\n",
      "1.1 M     Total params\n",
      "4.366     Total estimated model params size (MB)\n",
      "86        Modules in train mode\n",
      "0         Modules in eval mode\n"
     ]
    },
    {
     "data": {
      "application/vnd.jupyter.widget-view+json": {
       "model_id": "043289f2693a4859a8e962a3b60510c9",
       "version_major": 2,
       "version_minor": 0
      },
      "text/plain": [
       "Training: 0it [00:00, ?it/s]"
      ]
     },
     "metadata": {},
     "output_type": "display_data"
    },
    {
     "name": "stderr",
     "output_type": "stream",
     "text": [
      "`predict()` was called with `n > output_chunk_length`: using auto-regression to forecast the values after `output_chunk_length` points. The model will access `(n - output_chunk_length)` future values of your `past_covariates` (relative to the first predicted time step). To hide this warning, set `show_warnings=False`.\n",
      "GPU available: True (mps), used: False\n",
      "TPU available: False, using: 0 TPU cores\n",
      "HPU available: False, using: 0 HPUs\n",
      "GPU available: True (mps), used: False\n",
      "TPU available: False, using: 0 TPU cores\n",
      "HPU available: False, using: 0 HPUs\n",
      "\n",
      "  | Name            | Type             | Params | Mode \n",
      "-------------------------------------------------------------\n",
      "0 | criterion       | MSELoss          | 0      | train\n",
      "1 | train_criterion | MSELoss          | 0      | train\n",
      "2 | val_criterion   | MSELoss          | 0      | train\n",
      "3 | train_metrics   | MetricCollection | 0      | train\n",
      "4 | val_metrics     | MetricCollection | 0      | train\n",
      "5 | stacks          | ModuleList       | 1.1 M  | train\n",
      "-------------------------------------------------------------\n",
      "1.1 M     Trainable params\n",
      "1.7 K     Non-trainable params\n",
      "1.1 M     Total params\n",
      "4.366     Total estimated model params size (MB)\n",
      "86        Modules in train mode\n",
      "0         Modules in eval mode\n"
     ]
    },
    {
     "name": "stdout",
     "output_type": "stream",
     "text": [
      "RMSE: 56999.89549981289\n",
      "R2 Score: -1.9348469995797024\n"
     ]
    },
    {
     "data": {
      "application/vnd.jupyter.widget-view+json": {
       "model_id": "c31c6ca5eab94161b15501d23cc356cd",
       "version_major": 2,
       "version_minor": 0
      },
      "text/plain": [
       "Training: 0it [00:00, ?it/s]"
      ]
     },
     "metadata": {},
     "output_type": "display_data"
    },
    {
     "name": "stderr",
     "output_type": "stream",
     "text": [
      "`predict()` was called with `n > output_chunk_length`: using auto-regression to forecast the values after `output_chunk_length` points. The model will access `(n - output_chunk_length)` future values of your `past_covariates` (relative to the first predicted time step). To hide this warning, set `show_warnings=False`.\n",
      "GPU available: True (mps), used: False\n",
      "TPU available: False, using: 0 TPU cores\n",
      "HPU available: False, using: 0 HPUs\n"
     ]
    },
    {
     "name": "stdout",
     "output_type": "stream",
     "text": [
      "RMSE: nan\n",
      "R2 Score: nan\n"
     ]
    },
    {
     "name": "stderr",
     "output_type": "stream",
     "text": [
      "GPU available: True (mps), used: False\n",
      "TPU available: False, using: 0 TPU cores\n",
      "HPU available: False, using: 0 HPUs\n",
      "\n",
      "  | Name            | Type             | Params | Mode \n",
      "-------------------------------------------------------------\n",
      "0 | criterion       | MSELoss          | 0      | train\n",
      "1 | train_criterion | MSELoss          | 0      | train\n",
      "2 | val_criterion   | MSELoss          | 0      | train\n",
      "3 | train_metrics   | MetricCollection | 0      | train\n",
      "4 | val_metrics     | MetricCollection | 0      | train\n",
      "5 | stacks          | ModuleList       | 1.1 M  | train\n",
      "-------------------------------------------------------------\n",
      "1.1 M     Trainable params\n",
      "1.7 K     Non-trainable params\n",
      "1.1 M     Total params\n",
      "4.366     Total estimated model params size (MB)\n",
      "86        Modules in train mode\n",
      "0         Modules in eval mode\n"
     ]
    },
    {
     "data": {
      "application/vnd.jupyter.widget-view+json": {
       "model_id": "413b03a1d86c405db0610a659c17861e",
       "version_major": 2,
       "version_minor": 0
      },
      "text/plain": [
       "Training: 0it [00:00, ?it/s]"
      ]
     },
     "metadata": {},
     "output_type": "display_data"
    },
    {
     "name": "stderr",
     "output_type": "stream",
     "text": [
      "`predict()` was called with `n > output_chunk_length`: using auto-regression to forecast the values after `output_chunk_length` points. The model will access `(n - output_chunk_length)` future values of your `past_covariates` (relative to the first predicted time step). To hide this warning, set `show_warnings=False`.\n",
      "GPU available: True (mps), used: False\n",
      "TPU available: False, using: 0 TPU cores\n",
      "HPU available: False, using: 0 HPUs\n",
      "GPU available: True (mps), used: False\n",
      "TPU available: False, using: 0 TPU cores\n",
      "HPU available: False, using: 0 HPUs\n",
      "\n",
      "  | Name            | Type             | Params | Mode \n",
      "-------------------------------------------------------------\n",
      "0 | criterion       | MSELoss          | 0      | train\n",
      "1 | train_criterion | MSELoss          | 0      | train\n",
      "2 | val_criterion   | MSELoss          | 0      | train\n",
      "3 | train_metrics   | MetricCollection | 0      | train\n",
      "4 | val_metrics     | MetricCollection | 0      | train\n",
      "5 | stacks          | ModuleList       | 1.1 M  | train\n",
      "-------------------------------------------------------------\n",
      "1.1 M     Trainable params\n",
      "1.7 K     Non-trainable params\n",
      "1.1 M     Total params\n",
      "4.366     Total estimated model params size (MB)\n",
      "86        Modules in train mode\n",
      "0         Modules in eval mode\n"
     ]
    },
    {
     "name": "stdout",
     "output_type": "stream",
     "text": [
      "RMSE: nan\n",
      "R2 Score: nan\n"
     ]
    },
    {
     "data": {
      "application/vnd.jupyter.widget-view+json": {
       "model_id": "491c7741170147ceb60010206c6840a9",
       "version_major": 2,
       "version_minor": 0
      },
      "text/plain": [
       "Training: 0it [00:00, ?it/s]"
      ]
     },
     "metadata": {},
     "output_type": "display_data"
    },
    {
     "name": "stderr",
     "output_type": "stream",
     "text": [
      "`predict()` was called with `n > output_chunk_length`: using auto-regression to forecast the values after `output_chunk_length` points. The model will access `(n - output_chunk_length)` future values of your `past_covariates` (relative to the first predicted time step). To hide this warning, set `show_warnings=False`.\n",
      "GPU available: True (mps), used: False\n",
      "TPU available: False, using: 0 TPU cores\n",
      "HPU available: False, using: 0 HPUs\n"
     ]
    },
    {
     "name": "stdout",
     "output_type": "stream",
     "text": [
      "RMSE: 6276.485280249211\n",
      "R2 Score: -0.024261325972997128\n"
     ]
    },
    {
     "name": "stderr",
     "output_type": "stream",
     "text": [
      "GPU available: True (mps), used: False\n",
      "TPU available: False, using: 0 TPU cores\n",
      "HPU available: False, using: 0 HPUs\n",
      "\n",
      "  | Name            | Type             | Params | Mode \n",
      "-------------------------------------------------------------\n",
      "0 | criterion       | MSELoss          | 0      | train\n",
      "1 | train_criterion | MSELoss          | 0      | train\n",
      "2 | val_criterion   | MSELoss          | 0      | train\n",
      "3 | train_metrics   | MetricCollection | 0      | train\n",
      "4 | val_metrics     | MetricCollection | 0      | train\n",
      "5 | stacks          | ModuleList       | 1.1 M  | train\n",
      "-------------------------------------------------------------\n",
      "1.1 M     Trainable params\n",
      "1.7 K     Non-trainable params\n",
      "1.1 M     Total params\n",
      "4.366     Total estimated model params size (MB)\n",
      "86        Modules in train mode\n",
      "0         Modules in eval mode\n"
     ]
    },
    {
     "data": {
      "application/vnd.jupyter.widget-view+json": {
       "model_id": "bcb1e35648e74b2db5cdd6359723b49b",
       "version_major": 2,
       "version_minor": 0
      },
      "text/plain": [
       "Training: 0it [00:00, ?it/s]"
      ]
     },
     "metadata": {},
     "output_type": "display_data"
    },
    {
     "name": "stderr",
     "output_type": "stream",
     "text": [
      "`predict()` was called with `n > output_chunk_length`: using auto-regression to forecast the values after `output_chunk_length` points. The model will access `(n - output_chunk_length)` future values of your `past_covariates` (relative to the first predicted time step). To hide this warning, set `show_warnings=False`.\n",
      "GPU available: True (mps), used: False\n",
      "TPU available: False, using: 0 TPU cores\n",
      "HPU available: False, using: 0 HPUs\n",
      "GPU available: True (mps), used: False\n",
      "TPU available: False, using: 0 TPU cores\n",
      "HPU available: False, using: 0 HPUs\n",
      "\n",
      "  | Name            | Type             | Params | Mode \n",
      "-------------------------------------------------------------\n",
      "0 | criterion       | MSELoss          | 0      | train\n",
      "1 | train_criterion | MSELoss          | 0      | train\n",
      "2 | val_criterion   | MSELoss          | 0      | train\n",
      "3 | train_metrics   | MetricCollection | 0      | train\n",
      "4 | val_metrics     | MetricCollection | 0      | train\n",
      "5 | stacks          | ModuleList       | 1.1 M  | train\n",
      "-------------------------------------------------------------\n",
      "1.1 M     Trainable params\n",
      "1.7 K     Non-trainable params\n",
      "1.1 M     Total params\n",
      "4.366     Total estimated model params size (MB)\n",
      "86        Modules in train mode\n",
      "0         Modules in eval mode\n"
     ]
    },
    {
     "name": "stdout",
     "output_type": "stream",
     "text": [
      "RMSE: nan\n",
      "R2 Score: nan\n"
     ]
    },
    {
     "data": {
      "application/vnd.jupyter.widget-view+json": {
       "model_id": "9c030a7a2abb40658dd8b91667093137",
       "version_major": 2,
       "version_minor": 0
      },
      "text/plain": [
       "Training: 0it [00:00, ?it/s]"
      ]
     },
     "metadata": {},
     "output_type": "display_data"
    },
    {
     "name": "stderr",
     "output_type": "stream",
     "text": [
      "`predict()` was called with `n > output_chunk_length`: using auto-regression to forecast the values after `output_chunk_length` points. The model will access `(n - output_chunk_length)` future values of your `past_covariates` (relative to the first predicted time step). To hide this warning, set `show_warnings=False`.\n",
      "GPU available: True (mps), used: False\n",
      "TPU available: False, using: 0 TPU cores\n",
      "HPU available: False, using: 0 HPUs\n",
      "GPU available: True (mps), used: False\n",
      "TPU available: False, using: 0 TPU cores\n",
      "HPU available: False, using: 0 HPUs\n",
      "\n",
      "  | Name            | Type             | Params | Mode \n",
      "-------------------------------------------------------------\n",
      "0 | criterion       | MSELoss          | 0      | train\n",
      "1 | train_criterion | MSELoss          | 0      | train\n",
      "2 | val_criterion   | MSELoss          | 0      | train\n",
      "3 | train_metrics   | MetricCollection | 0      | train\n",
      "4 | val_metrics     | MetricCollection | 0      | train\n",
      "5 | stacks          | ModuleList       | 1.1 M  | train\n",
      "-------------------------------------------------------------\n",
      "1.1 M     Trainable params\n",
      "1.7 K     Non-trainable params\n",
      "1.1 M     Total params\n",
      "4.366     Total estimated model params size (MB)\n",
      "86        Modules in train mode\n",
      "0         Modules in eval mode\n"
     ]
    },
    {
     "name": "stdout",
     "output_type": "stream",
     "text": [
      "RMSE: nan\n",
      "R2 Score: nan\n"
     ]
    },
    {
     "data": {
      "application/vnd.jupyter.widget-view+json": {
       "model_id": "c42219358bd041a6bd7ff89f2e1786f2",
       "version_major": 2,
       "version_minor": 0
      },
      "text/plain": [
       "Training: 0it [00:00, ?it/s]"
      ]
     },
     "metadata": {},
     "output_type": "display_data"
    },
    {
     "name": "stderr",
     "output_type": "stream",
     "text": [
      "`predict()` was called with `n > output_chunk_length`: using auto-regression to forecast the values after `output_chunk_length` points. The model will access `(n - output_chunk_length)` future values of your `past_covariates` (relative to the first predicted time step). To hide this warning, set `show_warnings=False`.\n",
      "GPU available: True (mps), used: False\n",
      "TPU available: False, using: 0 TPU cores\n",
      "HPU available: False, using: 0 HPUs\n"
     ]
    },
    {
     "name": "stdout",
     "output_type": "stream",
     "text": [
      "RMSE: 19853.16876359768\n",
      "R2 Score: -0.5772981745101902\n"
     ]
    },
    {
     "name": "stderr",
     "output_type": "stream",
     "text": [
      "GPU available: True (mps), used: False\n",
      "TPU available: False, using: 0 TPU cores\n",
      "HPU available: False, using: 0 HPUs\n",
      "\n",
      "  | Name            | Type             | Params | Mode \n",
      "-------------------------------------------------------------\n",
      "0 | criterion       | MSELoss          | 0      | train\n",
      "1 | train_criterion | MSELoss          | 0      | train\n",
      "2 | val_criterion   | MSELoss          | 0      | train\n",
      "3 | train_metrics   | MetricCollection | 0      | train\n",
      "4 | val_metrics     | MetricCollection | 0      | train\n",
      "5 | stacks          | ModuleList       | 1.1 M  | train\n",
      "-------------------------------------------------------------\n",
      "1.1 M     Trainable params\n",
      "1.7 K     Non-trainable params\n",
      "1.1 M     Total params\n",
      "4.366     Total estimated model params size (MB)\n",
      "86        Modules in train mode\n",
      "0         Modules in eval mode\n"
     ]
    },
    {
     "data": {
      "application/vnd.jupyter.widget-view+json": {
       "model_id": "e47ec129ef5e4b63be21928654b77a41",
       "version_major": 2,
       "version_minor": 0
      },
      "text/plain": [
       "Training: 0it [00:00, ?it/s]"
      ]
     },
     "metadata": {},
     "output_type": "display_data"
    },
    {
     "name": "stderr",
     "output_type": "stream",
     "text": [
      "`predict()` was called with `n > output_chunk_length`: using auto-regression to forecast the values after `output_chunk_length` points. The model will access `(n - output_chunk_length)` future values of your `past_covariates` (relative to the first predicted time step). To hide this warning, set `show_warnings=False`.\n",
      "GPU available: True (mps), used: False\n",
      "TPU available: False, using: 0 TPU cores\n",
      "HPU available: False, using: 0 HPUs\n",
      "GPU available: True (mps), used: False\n",
      "TPU available: False, using: 0 TPU cores\n",
      "HPU available: False, using: 0 HPUs\n",
      "\n",
      "  | Name            | Type             | Params | Mode \n",
      "-------------------------------------------------------------\n",
      "0 | criterion       | MSELoss          | 0      | train\n",
      "1 | train_criterion | MSELoss          | 0      | train\n",
      "2 | val_criterion   | MSELoss          | 0      | train\n",
      "3 | train_metrics   | MetricCollection | 0      | train\n",
      "4 | val_metrics     | MetricCollection | 0      | train\n",
      "5 | stacks          | ModuleList       | 1.1 M  | train\n",
      "-------------------------------------------------------------\n",
      "1.1 M     Trainable params\n",
      "1.7 K     Non-trainable params\n",
      "1.1 M     Total params\n",
      "4.366     Total estimated model params size (MB)\n",
      "86        Modules in train mode\n",
      "0         Modules in eval mode\n"
     ]
    },
    {
     "name": "stdout",
     "output_type": "stream",
     "text": [
      "RMSE: 15074.289076044217\n",
      "R2 Score: -0.13581354327746964\n"
     ]
    },
    {
     "data": {
      "application/vnd.jupyter.widget-view+json": {
       "model_id": "3ce02fa1d6104ddaba93d3c2217edc8a",
       "version_major": 2,
       "version_minor": 0
      },
      "text/plain": [
       "Training: 0it [00:00, ?it/s]"
      ]
     },
     "metadata": {},
     "output_type": "display_data"
    },
    {
     "name": "stderr",
     "output_type": "stream",
     "text": [
      "`predict()` was called with `n > output_chunk_length`: using auto-regression to forecast the values after `output_chunk_length` points. The model will access `(n - output_chunk_length)` future values of your `past_covariates` (relative to the first predicted time step). To hide this warning, set `show_warnings=False`.\n",
      "GPU available: True (mps), used: False\n",
      "TPU available: False, using: 0 TPU cores\n",
      "HPU available: False, using: 0 HPUs\n",
      "GPU available: True (mps), used: False\n",
      "TPU available: False, using: 0 TPU cores\n",
      "HPU available: False, using: 0 HPUs\n",
      "\n",
      "  | Name            | Type             | Params | Mode \n",
      "-------------------------------------------------------------\n",
      "0 | criterion       | MSELoss          | 0      | train\n",
      "1 | train_criterion | MSELoss          | 0      | train\n",
      "2 | val_criterion   | MSELoss          | 0      | train\n",
      "3 | train_metrics   | MetricCollection | 0      | train\n",
      "4 | val_metrics     | MetricCollection | 0      | train\n",
      "5 | stacks          | ModuleList       | 1.1 M  | train\n",
      "-------------------------------------------------------------\n",
      "1.1 M     Trainable params\n",
      "1.7 K     Non-trainable params\n",
      "1.1 M     Total params\n",
      "4.366     Total estimated model params size (MB)\n",
      "86        Modules in train mode\n",
      "0         Modules in eval mode\n"
     ]
    },
    {
     "name": "stdout",
     "output_type": "stream",
     "text": [
      "RMSE: 14034.661932674468\n",
      "R2 Score: 0.09386136000631784\n"
     ]
    },
    {
     "data": {
      "application/vnd.jupyter.widget-view+json": {
       "model_id": "163a4ae32d60480cbda04e5751ca0a77",
       "version_major": 2,
       "version_minor": 0
      },
      "text/plain": [
       "Training: 0it [00:00, ?it/s]"
      ]
     },
     "metadata": {},
     "output_type": "display_data"
    },
    {
     "name": "stderr",
     "output_type": "stream",
     "text": [
      "`predict()` was called with `n > output_chunk_length`: using auto-regression to forecast the values after `output_chunk_length` points. The model will access `(n - output_chunk_length)` future values of your `past_covariates` (relative to the first predicted time step). To hide this warning, set `show_warnings=False`.\n",
      "GPU available: True (mps), used: False\n",
      "TPU available: False, using: 0 TPU cores\n",
      "HPU available: False, using: 0 HPUs\n",
      "GPU available: True (mps), used: False\n",
      "TPU available: False, using: 0 TPU cores\n",
      "HPU available: False, using: 0 HPUs\n",
      "\n",
      "  | Name            | Type             | Params | Mode \n",
      "-------------------------------------------------------------\n",
      "0 | criterion       | MSELoss          | 0      | train\n",
      "1 | train_criterion | MSELoss          | 0      | train\n",
      "2 | val_criterion   | MSELoss          | 0      | train\n",
      "3 | train_metrics   | MetricCollection | 0      | train\n",
      "4 | val_metrics     | MetricCollection | 0      | train\n",
      "5 | stacks          | ModuleList       | 1.1 M  | train\n",
      "-------------------------------------------------------------\n",
      "1.1 M     Trainable params\n",
      "1.7 K     Non-trainable params\n",
      "1.1 M     Total params\n",
      "4.366     Total estimated model params size (MB)\n",
      "86        Modules in train mode\n",
      "0         Modules in eval mode\n"
     ]
    },
    {
     "name": "stdout",
     "output_type": "stream",
     "text": [
      "RMSE: 17816.510292805156\n",
      "R2 Score: 0.26397274484450683\n"
     ]
    },
    {
     "data": {
      "application/vnd.jupyter.widget-view+json": {
       "model_id": "65f9f41cad1f47babb17d16b317d2069",
       "version_major": 2,
       "version_minor": 0
      },
      "text/plain": [
       "Training: 0it [00:00, ?it/s]"
      ]
     },
     "metadata": {},
     "output_type": "display_data"
    },
    {
     "name": "stderr",
     "output_type": "stream",
     "text": [
      "`predict()` was called with `n > output_chunk_length`: using auto-regression to forecast the values after `output_chunk_length` points. The model will access `(n - output_chunk_length)` future values of your `past_covariates` (relative to the first predicted time step). To hide this warning, set `show_warnings=False`.\n",
      "GPU available: True (mps), used: False\n",
      "TPU available: False, using: 0 TPU cores\n",
      "HPU available: False, using: 0 HPUs\n",
      "GPU available: True (mps), used: False\n",
      "TPU available: False, using: 0 TPU cores\n",
      "HPU available: False, using: 0 HPUs\n",
      "\n",
      "  | Name            | Type             | Params | Mode \n",
      "-------------------------------------------------------------\n",
      "0 | criterion       | MSELoss          | 0      | train\n",
      "1 | train_criterion | MSELoss          | 0      | train\n",
      "2 | val_criterion   | MSELoss          | 0      | train\n",
      "3 | train_metrics   | MetricCollection | 0      | train\n",
      "4 | val_metrics     | MetricCollection | 0      | train\n",
      "5 | stacks          | ModuleList       | 1.1 M  | train\n",
      "-------------------------------------------------------------\n",
      "1.1 M     Trainable params\n",
      "1.7 K     Non-trainable params\n",
      "1.1 M     Total params\n",
      "4.366     Total estimated model params size (MB)\n",
      "86        Modules in train mode\n",
      "0         Modules in eval mode\n"
     ]
    },
    {
     "name": "stdout",
     "output_type": "stream",
     "text": [
      "RMSE: 19336.7079262006\n",
      "R2 Score: -0.005879698688069812\n"
     ]
    },
    {
     "data": {
      "application/vnd.jupyter.widget-view+json": {
       "model_id": "f1f3e2aa620e4c99b952cca7a32c9b88",
       "version_major": 2,
       "version_minor": 0
      },
      "text/plain": [
       "Training: 0it [00:00, ?it/s]"
      ]
     },
     "metadata": {},
     "output_type": "display_data"
    },
    {
     "name": "stderr",
     "output_type": "stream",
     "text": [
      "`predict()` was called with `n > output_chunk_length`: using auto-regression to forecast the values after `output_chunk_length` points. The model will access `(n - output_chunk_length)` future values of your `past_covariates` (relative to the first predicted time step). To hide this warning, set `show_warnings=False`.\n",
      "GPU available: True (mps), used: False\n",
      "TPU available: False, using: 0 TPU cores\n",
      "HPU available: False, using: 0 HPUs\n",
      "GPU available: True (mps), used: False\n",
      "TPU available: False, using: 0 TPU cores\n",
      "HPU available: False, using: 0 HPUs\n",
      "\n",
      "  | Name            | Type             | Params | Mode \n",
      "-------------------------------------------------------------\n",
      "0 | criterion       | MSELoss          | 0      | train\n",
      "1 | train_criterion | MSELoss          | 0      | train\n",
      "2 | val_criterion   | MSELoss          | 0      | train\n",
      "3 | train_metrics   | MetricCollection | 0      | train\n",
      "4 | val_metrics     | MetricCollection | 0      | train\n",
      "5 | stacks          | ModuleList       | 1.1 M  | train\n",
      "-------------------------------------------------------------\n",
      "1.1 M     Trainable params\n",
      "1.7 K     Non-trainable params\n",
      "1.1 M     Total params\n",
      "4.366     Total estimated model params size (MB)\n",
      "86        Modules in train mode\n",
      "0         Modules in eval mode\n"
     ]
    },
    {
     "name": "stdout",
     "output_type": "stream",
     "text": [
      "RMSE: 25250.426413917558\n",
      "R2 Score: -23.784590474487445\n"
     ]
    },
    {
     "data": {
      "application/vnd.jupyter.widget-view+json": {
       "model_id": "152c7661186745afb1230542ca864bb0",
       "version_major": 2,
       "version_minor": 0
      },
      "text/plain": [
       "Training: 0it [00:00, ?it/s]"
      ]
     },
     "metadata": {},
     "output_type": "display_data"
    },
    {
     "name": "stderr",
     "output_type": "stream",
     "text": [
      "`predict()` was called with `n > output_chunk_length`: using auto-regression to forecast the values after `output_chunk_length` points. The model will access `(n - output_chunk_length)` future values of your `past_covariates` (relative to the first predicted time step). To hide this warning, set `show_warnings=False`.\n",
      "GPU available: True (mps), used: False\n",
      "TPU available: False, using: 0 TPU cores\n",
      "HPU available: False, using: 0 HPUs\n"
     ]
    },
    {
     "name": "stdout",
     "output_type": "stream",
     "text": [
      "RMSE: nan\n",
      "R2 Score: nan\n"
     ]
    },
    {
     "name": "stderr",
     "output_type": "stream",
     "text": [
      "GPU available: True (mps), used: False\n",
      "TPU available: False, using: 0 TPU cores\n",
      "HPU available: False, using: 0 HPUs\n",
      "\n",
      "  | Name            | Type             | Params | Mode \n",
      "-------------------------------------------------------------\n",
      "0 | criterion       | MSELoss          | 0      | train\n",
      "1 | train_criterion | MSELoss          | 0      | train\n",
      "2 | val_criterion   | MSELoss          | 0      | train\n",
      "3 | train_metrics   | MetricCollection | 0      | train\n",
      "4 | val_metrics     | MetricCollection | 0      | train\n",
      "5 | stacks          | ModuleList       | 1.1 M  | train\n",
      "-------------------------------------------------------------\n",
      "1.1 M     Trainable params\n",
      "1.7 K     Non-trainable params\n",
      "1.1 M     Total params\n",
      "4.366     Total estimated model params size (MB)\n",
      "86        Modules in train mode\n",
      "0         Modules in eval mode\n"
     ]
    },
    {
     "data": {
      "application/vnd.jupyter.widget-view+json": {
       "model_id": "475de66c8fa44db18fa7e5b7d534880f",
       "version_major": 2,
       "version_minor": 0
      },
      "text/plain": [
       "Training: 0it [00:00, ?it/s]"
      ]
     },
     "metadata": {},
     "output_type": "display_data"
    },
    {
     "name": "stderr",
     "output_type": "stream",
     "text": [
      "`predict()` was called with `n > output_chunk_length`: using auto-regression to forecast the values after `output_chunk_length` points. The model will access `(n - output_chunk_length)` future values of your `past_covariates` (relative to the first predicted time step). To hide this warning, set `show_warnings=False`.\n",
      "GPU available: True (mps), used: False\n",
      "TPU available: False, using: 0 TPU cores\n",
      "HPU available: False, using: 0 HPUs\n",
      "GPU available: True (mps), used: False\n",
      "TPU available: False, using: 0 TPU cores\n",
      "HPU available: False, using: 0 HPUs\n",
      "\n",
      "  | Name            | Type             | Params | Mode \n",
      "-------------------------------------------------------------\n",
      "0 | criterion       | MSELoss          | 0      | train\n",
      "1 | train_criterion | MSELoss          | 0      | train\n",
      "2 | val_criterion   | MSELoss          | 0      | train\n",
      "3 | train_metrics   | MetricCollection | 0      | train\n",
      "4 | val_metrics     | MetricCollection | 0      | train\n",
      "5 | stacks          | ModuleList       | 1.1 M  | train\n",
      "-------------------------------------------------------------\n",
      "1.1 M     Trainable params\n",
      "1.7 K     Non-trainable params\n",
      "1.1 M     Total params\n",
      "4.366     Total estimated model params size (MB)\n",
      "86        Modules in train mode\n",
      "0         Modules in eval mode\n"
     ]
    },
    {
     "name": "stdout",
     "output_type": "stream",
     "text": [
      "RMSE: nan\n",
      "R2 Score: nan\n"
     ]
    },
    {
     "data": {
      "application/vnd.jupyter.widget-view+json": {
       "model_id": "133eaf255f494f09b1671df9f15c91e0",
       "version_major": 2,
       "version_minor": 0
      },
      "text/plain": [
       "Training: 0it [00:00, ?it/s]"
      ]
     },
     "metadata": {},
     "output_type": "display_data"
    },
    {
     "name": "stderr",
     "output_type": "stream",
     "text": [
      "`predict()` was called with `n > output_chunk_length`: using auto-regression to forecast the values after `output_chunk_length` points. The model will access `(n - output_chunk_length)` future values of your `past_covariates` (relative to the first predicted time step). To hide this warning, set `show_warnings=False`.\n",
      "GPU available: True (mps), used: False\n",
      "TPU available: False, using: 0 TPU cores\n",
      "HPU available: False, using: 0 HPUs\n",
      "GPU available: True (mps), used: False\n",
      "TPU available: False, using: 0 TPU cores\n",
      "HPU available: False, using: 0 HPUs\n",
      "\n",
      "  | Name            | Type             | Params | Mode \n",
      "-------------------------------------------------------------\n",
      "0 | criterion       | MSELoss          | 0      | train\n",
      "1 | train_criterion | MSELoss          | 0      | train\n",
      "2 | val_criterion   | MSELoss          | 0      | train\n",
      "3 | train_metrics   | MetricCollection | 0      | train\n",
      "4 | val_metrics     | MetricCollection | 0      | train\n",
      "5 | stacks          | ModuleList       | 1.1 M  | train\n",
      "-------------------------------------------------------------\n",
      "1.1 M     Trainable params\n",
      "1.7 K     Non-trainable params\n",
      "1.1 M     Total params\n",
      "4.366     Total estimated model params size (MB)\n",
      "86        Modules in train mode\n",
      "0         Modules in eval mode\n"
     ]
    },
    {
     "name": "stdout",
     "output_type": "stream",
     "text": [
      "RMSE: 20684.19843043241\n",
      "R2 Score: -1.3136054119867082\n"
     ]
    },
    {
     "data": {
      "application/vnd.jupyter.widget-view+json": {
       "model_id": "df2d0bd72a1c4cd0a09a9b07963d3801",
       "version_major": 2,
       "version_minor": 0
      },
      "text/plain": [
       "Training: 0it [00:00, ?it/s]"
      ]
     },
     "metadata": {},
     "output_type": "display_data"
    },
    {
     "name": "stderr",
     "output_type": "stream",
     "text": [
      "`predict()` was called with `n > output_chunk_length`: using auto-regression to forecast the values after `output_chunk_length` points. The model will access `(n - output_chunk_length)` future values of your `past_covariates` (relative to the first predicted time step). To hide this warning, set `show_warnings=False`.\n",
      "GPU available: True (mps), used: False\n",
      "TPU available: False, using: 0 TPU cores\n",
      "HPU available: False, using: 0 HPUs\n",
      "GPU available: True (mps), used: False\n",
      "TPU available: False, using: 0 TPU cores\n",
      "HPU available: False, using: 0 HPUs\n",
      "\n",
      "  | Name            | Type             | Params | Mode \n",
      "-------------------------------------------------------------\n",
      "0 | criterion       | MSELoss          | 0      | train\n",
      "1 | train_criterion | MSELoss          | 0      | train\n",
      "2 | val_criterion   | MSELoss          | 0      | train\n",
      "3 | train_metrics   | MetricCollection | 0      | train\n",
      "4 | val_metrics     | MetricCollection | 0      | train\n",
      "5 | stacks          | ModuleList       | 1.1 M  | train\n",
      "-------------------------------------------------------------\n",
      "1.1 M     Trainable params\n",
      "1.7 K     Non-trainable params\n",
      "1.1 M     Total params\n",
      "4.366     Total estimated model params size (MB)\n",
      "86        Modules in train mode\n",
      "0         Modules in eval mode\n"
     ]
    },
    {
     "name": "stdout",
     "output_type": "stream",
     "text": [
      "RMSE: 16900.557447153868\n",
      "R2 Score: -5.849789565641274\n"
     ]
    },
    {
     "data": {
      "application/vnd.jupyter.widget-view+json": {
       "model_id": "a1b7a1875b924b7c9606e522fc1cff36",
       "version_major": 2,
       "version_minor": 0
      },
      "text/plain": [
       "Training: 0it [00:00, ?it/s]"
      ]
     },
     "metadata": {},
     "output_type": "display_data"
    },
    {
     "name": "stderr",
     "output_type": "stream",
     "text": [
      "`predict()` was called with `n > output_chunk_length`: using auto-regression to forecast the values after `output_chunk_length` points. The model will access `(n - output_chunk_length)` future values of your `past_covariates` (relative to the first predicted time step). To hide this warning, set `show_warnings=False`.\n",
      "GPU available: True (mps), used: False\n",
      "TPU available: False, using: 0 TPU cores\n",
      "HPU available: False, using: 0 HPUs\n",
      "GPU available: True (mps), used: False\n",
      "TPU available: False, using: 0 TPU cores\n",
      "HPU available: False, using: 0 HPUs\n",
      "\n",
      "  | Name            | Type             | Params | Mode \n",
      "-------------------------------------------------------------\n",
      "0 | criterion       | MSELoss          | 0      | train\n",
      "1 | train_criterion | MSELoss          | 0      | train\n",
      "2 | val_criterion   | MSELoss          | 0      | train\n",
      "3 | train_metrics   | MetricCollection | 0      | train\n",
      "4 | val_metrics     | MetricCollection | 0      | train\n",
      "5 | stacks          | ModuleList       | 1.1 M  | train\n",
      "-------------------------------------------------------------\n",
      "1.1 M     Trainable params\n",
      "1.7 K     Non-trainable params\n",
      "1.1 M     Total params\n",
      "4.366     Total estimated model params size (MB)\n",
      "86        Modules in train mode\n",
      "0         Modules in eval mode\n"
     ]
    },
    {
     "name": "stdout",
     "output_type": "stream",
     "text": [
      "RMSE: 4229.616032514988\n",
      "R2 Score: -0.13213164639082042\n"
     ]
    },
    {
     "data": {
      "application/vnd.jupyter.widget-view+json": {
       "model_id": "2399a7fbc7204e428ad3f6967df3a41c",
       "version_major": 2,
       "version_minor": 0
      },
      "text/plain": [
       "Training: 0it [00:00, ?it/s]"
      ]
     },
     "metadata": {},
     "output_type": "display_data"
    },
    {
     "name": "stderr",
     "output_type": "stream",
     "text": [
      "`predict()` was called with `n > output_chunk_length`: using auto-regression to forecast the values after `output_chunk_length` points. The model will access `(n - output_chunk_length)` future values of your `past_covariates` (relative to the first predicted time step). To hide this warning, set `show_warnings=False`.\n",
      "GPU available: True (mps), used: False\n",
      "TPU available: False, using: 0 TPU cores\n",
      "HPU available: False, using: 0 HPUs\n",
      "GPU available: True (mps), used: False\n",
      "TPU available: False, using: 0 TPU cores\n",
      "HPU available: False, using: 0 HPUs\n",
      "\n",
      "  | Name            | Type             | Params | Mode \n",
      "-------------------------------------------------------------\n",
      "0 | criterion       | MSELoss          | 0      | train\n",
      "1 | train_criterion | MSELoss          | 0      | train\n",
      "2 | val_criterion   | MSELoss          | 0      | train\n",
      "3 | train_metrics   | MetricCollection | 0      | train\n",
      "4 | val_metrics     | MetricCollection | 0      | train\n",
      "5 | stacks          | ModuleList       | 1.1 M  | train\n",
      "-------------------------------------------------------------\n",
      "1.1 M     Trainable params\n",
      "1.7 K     Non-trainable params\n",
      "1.1 M     Total params\n",
      "4.366     Total estimated model params size (MB)\n",
      "86        Modules in train mode\n",
      "0         Modules in eval mode\n"
     ]
    },
    {
     "name": "stdout",
     "output_type": "stream",
     "text": [
      "RMSE: nan\n",
      "R2 Score: nan\n"
     ]
    },
    {
     "data": {
      "application/vnd.jupyter.widget-view+json": {
       "model_id": "e83beb6a1dc64d68924f124450d14bd7",
       "version_major": 2,
       "version_minor": 0
      },
      "text/plain": [
       "Training: 0it [00:00, ?it/s]"
      ]
     },
     "metadata": {},
     "output_type": "display_data"
    },
    {
     "name": "stderr",
     "output_type": "stream",
     "text": [
      "`predict()` was called with `n > output_chunk_length`: using auto-regression to forecast the values after `output_chunk_length` points. The model will access `(n - output_chunk_length)` future values of your `past_covariates` (relative to the first predicted time step). To hide this warning, set `show_warnings=False`.\n",
      "GPU available: True (mps), used: False\n",
      "TPU available: False, using: 0 TPU cores\n",
      "HPU available: False, using: 0 HPUs\n",
      "GPU available: True (mps), used: False\n",
      "TPU available: False, using: 0 TPU cores\n",
      "HPU available: False, using: 0 HPUs\n",
      "\n",
      "  | Name            | Type             | Params | Mode \n",
      "-------------------------------------------------------------\n",
      "0 | criterion       | MSELoss          | 0      | train\n",
      "1 | train_criterion | MSELoss          | 0      | train\n",
      "2 | val_criterion   | MSELoss          | 0      | train\n",
      "3 | train_metrics   | MetricCollection | 0      | train\n",
      "4 | val_metrics     | MetricCollection | 0      | train\n",
      "5 | stacks          | ModuleList       | 1.1 M  | train\n",
      "-------------------------------------------------------------\n",
      "1.1 M     Trainable params\n",
      "1.7 K     Non-trainable params\n",
      "1.1 M     Total params\n",
      "4.366     Total estimated model params size (MB)\n",
      "86        Modules in train mode\n",
      "0         Modules in eval mode\n"
     ]
    },
    {
     "name": "stdout",
     "output_type": "stream",
     "text": [
      "RMSE: nan\n",
      "R2 Score: nan\n"
     ]
    },
    {
     "data": {
      "application/vnd.jupyter.widget-view+json": {
       "model_id": "7cb38ecb8b3147c286a7f1c9014a5615",
       "version_major": 2,
       "version_minor": 0
      },
      "text/plain": [
       "Training: 0it [00:00, ?it/s]"
      ]
     },
     "metadata": {},
     "output_type": "display_data"
    },
    {
     "name": "stderr",
     "output_type": "stream",
     "text": [
      "`predict()` was called with `n > output_chunk_length`: using auto-regression to forecast the values after `output_chunk_length` points. The model will access `(n - output_chunk_length)` future values of your `past_covariates` (relative to the first predicted time step). To hide this warning, set `show_warnings=False`.\n",
      "GPU available: True (mps), used: False\n",
      "TPU available: False, using: 0 TPU cores\n",
      "HPU available: False, using: 0 HPUs\n",
      "GPU available: True (mps), used: False\n",
      "TPU available: False, using: 0 TPU cores\n",
      "HPU available: False, using: 0 HPUs\n",
      "\n",
      "  | Name            | Type             | Params | Mode \n",
      "-------------------------------------------------------------\n",
      "0 | criterion       | MSELoss          | 0      | train\n",
      "1 | train_criterion | MSELoss          | 0      | train\n",
      "2 | val_criterion   | MSELoss          | 0      | train\n",
      "3 | train_metrics   | MetricCollection | 0      | train\n",
      "4 | val_metrics     | MetricCollection | 0      | train\n",
      "5 | stacks          | ModuleList       | 1.1 M  | train\n",
      "-------------------------------------------------------------\n",
      "1.1 M     Trainable params\n",
      "1.7 K     Non-trainable params\n",
      "1.1 M     Total params\n",
      "4.366     Total estimated model params size (MB)\n",
      "86        Modules in train mode\n",
      "0         Modules in eval mode\n"
     ]
    },
    {
     "name": "stdout",
     "output_type": "stream",
     "text": [
      "RMSE: nan\n",
      "R2 Score: nan\n"
     ]
    },
    {
     "data": {
      "application/vnd.jupyter.widget-view+json": {
       "model_id": "a6827f1b73a240959ab1f3515b52680d",
       "version_major": 2,
       "version_minor": 0
      },
      "text/plain": [
       "Training: 0it [00:00, ?it/s]"
      ]
     },
     "metadata": {},
     "output_type": "display_data"
    },
    {
     "name": "stderr",
     "output_type": "stream",
     "text": [
      "`predict()` was called with `n > output_chunk_length`: using auto-regression to forecast the values after `output_chunk_length` points. The model will access `(n - output_chunk_length)` future values of your `past_covariates` (relative to the first predicted time step). To hide this warning, set `show_warnings=False`.\n",
      "GPU available: True (mps), used: False\n",
      "TPU available: False, using: 0 TPU cores\n",
      "HPU available: False, using: 0 HPUs\n",
      "GPU available: True (mps), used: False\n",
      "TPU available: False, using: 0 TPU cores\n",
      "HPU available: False, using: 0 HPUs\n",
      "\n",
      "  | Name            | Type             | Params | Mode \n",
      "-------------------------------------------------------------\n",
      "0 | criterion       | MSELoss          | 0      | train\n",
      "1 | train_criterion | MSELoss          | 0      | train\n",
      "2 | val_criterion   | MSELoss          | 0      | train\n",
      "3 | train_metrics   | MetricCollection | 0      | train\n",
      "4 | val_metrics     | MetricCollection | 0      | train\n",
      "5 | stacks          | ModuleList       | 1.1 M  | train\n",
      "-------------------------------------------------------------\n",
      "1.1 M     Trainable params\n",
      "1.7 K     Non-trainable params\n",
      "1.1 M     Total params\n",
      "4.366     Total estimated model params size (MB)\n",
      "86        Modules in train mode\n",
      "0         Modules in eval mode\n"
     ]
    },
    {
     "name": "stdout",
     "output_type": "stream",
     "text": [
      "RMSE: nan\n",
      "R2 Score: nan\n"
     ]
    },
    {
     "data": {
      "application/vnd.jupyter.widget-view+json": {
       "model_id": "1a879ef967f94078b3390fe78a044726",
       "version_major": 2,
       "version_minor": 0
      },
      "text/plain": [
       "Training: 0it [00:00, ?it/s]"
      ]
     },
     "metadata": {},
     "output_type": "display_data"
    },
    {
     "name": "stderr",
     "output_type": "stream",
     "text": [
      "`predict()` was called with `n > output_chunk_length`: using auto-regression to forecast the values after `output_chunk_length` points. The model will access `(n - output_chunk_length)` future values of your `past_covariates` (relative to the first predicted time step). To hide this warning, set `show_warnings=False`.\n",
      "GPU available: True (mps), used: False\n",
      "TPU available: False, using: 0 TPU cores\n",
      "HPU available: False, using: 0 HPUs\n",
      "GPU available: True (mps), used: False\n",
      "TPU available: False, using: 0 TPU cores\n",
      "HPU available: False, using: 0 HPUs\n",
      "\n",
      "  | Name            | Type             | Params | Mode \n",
      "-------------------------------------------------------------\n",
      "0 | criterion       | MSELoss          | 0      | train\n",
      "1 | train_criterion | MSELoss          | 0      | train\n",
      "2 | val_criterion   | MSELoss          | 0      | train\n",
      "3 | train_metrics   | MetricCollection | 0      | train\n",
      "4 | val_metrics     | MetricCollection | 0      | train\n",
      "5 | stacks          | ModuleList       | 1.1 M  | train\n",
      "-------------------------------------------------------------\n",
      "1.1 M     Trainable params\n",
      "1.7 K     Non-trainable params\n",
      "1.1 M     Total params\n",
      "4.366     Total estimated model params size (MB)\n",
      "86        Modules in train mode\n",
      "0         Modules in eval mode\n"
     ]
    },
    {
     "name": "stdout",
     "output_type": "stream",
     "text": [
      "RMSE: 29798.745644897976\n",
      "R2 Score: -0.020471591793232102\n"
     ]
    },
    {
     "data": {
      "application/vnd.jupyter.widget-view+json": {
       "model_id": "f479ca442ba043dabe222996bb450837",
       "version_major": 2,
       "version_minor": 0
      },
      "text/plain": [
       "Training: 0it [00:00, ?it/s]"
      ]
     },
     "metadata": {},
     "output_type": "display_data"
    },
    {
     "name": "stderr",
     "output_type": "stream",
     "text": [
      "`predict()` was called with `n > output_chunk_length`: using auto-regression to forecast the values after `output_chunk_length` points. The model will access `(n - output_chunk_length)` future values of your `past_covariates` (relative to the first predicted time step). To hide this warning, set `show_warnings=False`.\n",
      "GPU available: True (mps), used: False\n",
      "TPU available: False, using: 0 TPU cores\n",
      "HPU available: False, using: 0 HPUs\n",
      "GPU available: True (mps), used: False\n",
      "TPU available: False, using: 0 TPU cores\n",
      "HPU available: False, using: 0 HPUs\n",
      "\n",
      "  | Name            | Type             | Params | Mode \n",
      "-------------------------------------------------------------\n",
      "0 | criterion       | MSELoss          | 0      | train\n",
      "1 | train_criterion | MSELoss          | 0      | train\n",
      "2 | val_criterion   | MSELoss          | 0      | train\n",
      "3 | train_metrics   | MetricCollection | 0      | train\n",
      "4 | val_metrics     | MetricCollection | 0      | train\n",
      "5 | stacks          | ModuleList       | 1.1 M  | train\n",
      "-------------------------------------------------------------\n",
      "1.1 M     Trainable params\n",
      "1.7 K     Non-trainable params\n",
      "1.1 M     Total params\n",
      "4.366     Total estimated model params size (MB)\n",
      "86        Modules in train mode\n",
      "0         Modules in eval mode\n"
     ]
    },
    {
     "name": "stdout",
     "output_type": "stream",
     "text": [
      "RMSE: 28041.851599401234\n",
      "R2 Score: -2.8093612261137695\n"
     ]
    },
    {
     "data": {
      "application/vnd.jupyter.widget-view+json": {
       "model_id": "3576a18cd5994dd79b115b2a79f0719d",
       "version_major": 2,
       "version_minor": 0
      },
      "text/plain": [
       "Training: 0it [00:00, ?it/s]"
      ]
     },
     "metadata": {},
     "output_type": "display_data"
    },
    {
     "name": "stderr",
     "output_type": "stream",
     "text": [
      "`predict()` was called with `n > output_chunk_length`: using auto-regression to forecast the values after `output_chunk_length` points. The model will access `(n - output_chunk_length)` future values of your `past_covariates` (relative to the first predicted time step). To hide this warning, set `show_warnings=False`.\n",
      "GPU available: True (mps), used: False\n",
      "TPU available: False, using: 0 TPU cores\n",
      "HPU available: False, using: 0 HPUs\n"
     ]
    },
    {
     "name": "stdout",
     "output_type": "stream",
     "text": [
      "RMSE: 13857.995821500968\n",
      "R2 Score: -1.3780992479748102\n"
     ]
    }
   ],
   "source": [
    "from darts.utils.callbacks import TFMProgressBar\n",
    "\n",
    "model_dict = {}\n",
    "for n in range(len(train_lst_scaled)):\n",
    "    my_stopper = EarlyStopping(\n",
    "        monitor=\"val_loss\",\n",
    "        patience=5,\n",
    "        min_delta=0.05,\n",
    "        mode=\"min\",\n",
    "    )\n",
    "\n",
    "    pl_trainer_kwargs = {\n",
    "        \"callbacks\": [my_stopper, TFMProgressBar(enable_train_bar_only=True)],\n",
    "        \"accelerator\": \"cpu\",\n",
    "        \"max_epochs\": 50,\n",
    "    }\n",
    "    model_name = f\"nbeats_run_{n}\"\n",
    "    model_nbeats = NBEATSModel(\n",
    "        input_chunk_length=23,\n",
    "        output_chunk_length=1,\n",
    "        generic_architecture=True,\n",
    "        nr_epochs_val_period=1,\n",
    "        num_stacks=5,\n",
    "        batch_size=128,\n",
    "        random_state=random_state,\n",
    "        model_name=model_name,\n",
    "        save_checkpoints=True,\n",
    "        force_reset=True,\n",
    "        dropout=0.3,\n",
    "        pl_trainer_kwargs=pl_trainer_kwargs,\n",
    "    )\n",
    "\n",
    "    model_nbeats.fit(\n",
    "        train_lst_scaled[n],\n",
    "        val_series=val_lst_scaled[n],\n",
    "        past_covariates=train_past_covariates[n],\n",
    "        val_past_covariates=val_past_covariates[n],\n",
    "        verbose=True,\n",
    "    )\n",
    "    model_nbeats = NBEATSModel.load_from_checkpoint(model_name=model_name, best=True)\n",
    "    model_dict[n] = model_nbeats\n",
    "\n",
    "    # Evaluation\n",
    "    print(\"RMSE:\", rmse(val_lst_scaled[n], pred))\n",
    "    print(\"R2 Score:\", r2_score(val_lst_scaled[n], pred))\n",
    "\n",
    "    pred = model_nbeats.predict(\n",
    "        len(val_lst_scaled[n]),\n",
    "        train_lst_scaled[n],\n",
    "        past_covariates=past_covariates[n],\n",
    "    )\n",
    "\n",
    "    train_lst_scaled[n].plot(label=\"Train\")\n",
    "    pred.plot(label=\"NBEATS Prediction\")\n",
    "    val_lst_scaled[n].plot(label=\"Actual\", alpha=0.7)\n",
    "    plt.legend()\n",
    "    plt.show()"
   ]
  },
  {
   "cell_type": "code",
   "execution_count": 36,
   "id": "27ef3e1b",
   "metadata": {},
   "outputs": [
    {
     "name": "stdout",
     "output_type": "stream",
     "text": [
      "Model 0: generating 302 predictions from 2024-08-02 00:00:00 - 2025-05-31 00:00:00\n",
      "Model 1: generating 180 predictions from 2024-12-02 00:00:00 - 2025-05-31 00:00:00\n",
      "Model 2: generating 163 predictions from 2024-12-19 00:00:00 - 2025-05-31 00:00:00\n",
      "Model 3: generating 163 predictions from 2024-12-19 00:00:00 - 2025-05-31 00:00:00\n",
      "Model 4: generating 171 predictions from 2024-12-11 00:00:00 - 2025-05-31 00:00:00\n",
      "Model 5: generating 165 predictions from 2024-12-17 00:00:00 - 2025-05-31 00:00:00\n",
      "Model 6: generating 190 predictions from 2024-11-22 00:00:00 - 2025-05-31 00:00:00\n",
      "Model 7: generating 163 predictions from 2024-12-19 00:00:00 - 2025-05-31 00:00:00\n",
      "Model 8: generating 164 predictions from 2024-12-18 00:00:00 - 2025-05-31 00:00:00\n",
      "Model 9: generating 270 predictions from 2024-09-03 00:00:00 - 2025-05-31 00:00:00\n",
      "Model 10: generating 163 predictions from 2024-12-19 00:00:00 - 2025-05-31 00:00:00\n",
      "Model 11: generating 163 predictions from 2024-12-19 00:00:00 - 2025-05-31 00:00:00\n",
      "Model 12: generating 163 predictions from 2024-12-19 00:00:00 - 2025-05-31 00:00:00\n",
      "Model 13: generating 163 predictions from 2024-12-19 00:00:00 - 2025-05-31 00:00:00\n",
      "Model 14: generating 869 predictions from 2023-01-13 00:00:00 - 2025-05-31 00:00:00\n",
      "Model 15: generating 1066 predictions from 2022-06-30 00:00:00 - 2025-05-31 00:00:00\n",
      "Model 16: generating 163 predictions from 2024-12-19 00:00:00 - 2025-05-31 00:00:00\n",
      "Model 17: generating 530 predictions from 2023-12-18 00:00:00 - 2025-05-31 00:00:00\n",
      "Model 18: generating 481 predictions from 2024-02-05 00:00:00 - 2025-05-31 00:00:00\n",
      "Model 19: generating 1165 predictions from 2022-03-23 00:00:00 - 2025-05-31 00:00:00\n",
      "Model 20: generating 271 predictions from 2024-09-02 00:00:00 - 2025-05-31 00:00:00\n",
      "Model 21: generating 171 predictions from 2024-12-11 00:00:00 - 2025-05-31 00:00:00\n",
      "Model 22: generating 165 predictions from 2024-12-17 00:00:00 - 2025-05-31 00:00:00\n",
      "Model 23: generating 171 predictions from 2024-12-11 00:00:00 - 2025-05-31 00:00:00\n",
      "Model 24: generating 165 predictions from 2024-12-17 00:00:00 - 2025-05-31 00:00:00\n",
      "Model 25: generating 163 predictions from 2024-12-19 00:00:00 - 2025-05-31 00:00:00\n",
      "Model 26: generating 304 predictions from 2024-07-31 00:00:00 - 2025-05-31 00:00:00\n",
      "Model 27: generating 813 predictions from 2023-03-10 00:00:00 - 2025-05-31 00:00:00\n",
      "Model 28: generating 303 predictions from 2024-08-01 00:00:00 - 2025-05-31 00:00:00\n",
      "Model 29: generating 177 predictions from 2024-12-05 00:00:00 - 2025-05-31 00:00:00\n",
      "Model 30: generating 164 predictions from 2024-12-18 00:00:00 - 2025-05-31 00:00:00\n",
      "Model 31: generating 163 predictions from 2024-12-19 00:00:00 - 2025-05-31 00:00:00\n",
      "Model 32: generating 729 predictions from 2023-06-02 00:00:00 - 2025-05-31 00:00:00\n",
      "Model 33: generating 264 predictions from 2024-09-09 00:00:00 - 2025-05-31 00:00:00\n",
      "Model 34: generating 458 predictions from 2024-02-28 00:00:00 - 2025-05-31 00:00:00\n",
      "Model 35: generating 178 predictions from 2024-12-04 00:00:00 - 2025-05-31 00:00:00\n",
      "Model 36: generating 163 predictions from 2024-12-19 00:00:00 - 2025-05-31 00:00:00\n",
      "Model 37: generating 163 predictions from 2024-12-19 00:00:00 - 2025-05-31 00:00:00\n",
      "Model 38: generating 164 predictions from 2024-12-18 00:00:00 - 2025-05-31 00:00:00\n"
     ]
    }
   ],
   "source": [
    "import logging\n",
    "\n",
    "logging.getLogger(\"pytorch_lightning\").setLevel(logging.ERROR)\n",
    "\n",
    "end_date = pd.Timestamp(\"2025-05-31\")\n",
    "min_value_mapper = Mapper(lambda x: np.where(x < 0.0, 0, x))\n",
    "\n",
    "\n",
    "def extract_past_covs(series):\n",
    "    trend, seasonal = extract_trend_and_seasonality(\n",
    "        series, freq=7, model=ModelMode.ADDITIVE\n",
    "    )\n",
    "    trend = trend.with_columns_renamed(\"net_weight\", \"trend\")\n",
    "    seasonal = seasonal.with_columns_renamed(\"net_weight\", \"seasonal\")\n",
    "    post_cov = concatenate(\n",
    "        [\n",
    "            trend,\n",
    "            seasonal,\n",
    "        ],\n",
    "        axis=1,\n",
    "        ignore_static_covariates=True,\n",
    "    )\n",
    "    return post_cov\n",
    "\n",
    "\n",
    "final_predictions = []\n",
    "for key, model in model_dict.items():\n",
    "    last_index = series_lst_scaled[key].time_index[-1]\n",
    "    n_steps = (end_date - last_index).days // 1  # assuming daily frequency\n",
    "    print(\n",
    "        f\"Model {key}: generating {n_steps} predictions from {last_index} - {end_date}\"\n",
    "    )\n",
    "\n",
    "    model = model_dict[key]\n",
    "    series = series_lst_scaled[key].copy()\n",
    "    covs = past_covariates[key].copy()\n",
    "\n",
    "    for i in range(n_steps):\n",
    "        pred = model.predict(1, series, past_covariates=covs)\n",
    "        pred = min_value_mapper.transform(pred)\n",
    "\n",
    "        # update series_lst_scaled and covariates with the new prediction\n",
    "        series = series.append(pred)\n",
    "        covs = extract_past_covs(series)\n",
    "\n",
    "    df = series[-150:].cumsum().to_dataframe()\n",
    "    rm_id = series.static_covariates[\"rm_id\"].values[0]\n",
    "    df[\"rm_id\"] = rm_id\n",
    "    df[\"end_date\"] = df.index\n",
    "    final_predictions.append(df)\n",
    "\n",
    "df_final = pd.concat(final_predictions)"
   ]
  },
  {
   "cell_type": "code",
   "execution_count": null,
   "id": "74f55e7e",
   "metadata": {},
   "outputs": [
    {
     "data": {
      "application/vnd.microsoft.datawrangler.viewer.v0+json": {
       "columns": [
        {
         "name": "rm_id",
         "rawType": "float64",
         "type": "float"
        },
        {
         "name": "net_weight",
         "rawType": "object",
         "type": "unknown"
        }
       ],
       "ref": "2e8060b5-3a6b-441a-ab16-c31c9e70e1fe",
       "rows": [
        [
         "2124.0",
         "Axes(0.125,0.11;0.775x0.77)"
        ],
        [
         "2125.0",
         "Axes(0.125,0.11;0.775x0.77)"
        ],
        [
         "2129.0",
         "Axes(0.125,0.11;0.775x0.77)"
        ],
        [
         "2130.0",
         "Axes(0.125,0.11;0.775x0.77)"
        ],
        [
         "2131.0",
         "Axes(0.125,0.11;0.775x0.77)"
        ],
        [
         "2132.0",
         "Axes(0.125,0.11;0.775x0.77)"
        ],
        [
         "2133.0",
         "Axes(0.125,0.11;0.775x0.77)"
        ],
        [
         "2134.0",
         "Axes(0.125,0.11;0.775x0.77)"
        ],
        [
         "2135.0",
         "Axes(0.125,0.11;0.775x0.77)"
        ],
        [
         "2140.0",
         "Axes(0.125,0.11;0.775x0.77)"
        ],
        [
         "2142.0",
         "Axes(0.125,0.11;0.775x0.77)"
        ],
        [
         "2143.0",
         "Axes(0.125,0.11;0.775x0.77)"
        ],
        [
         "2144.0",
         "Axes(0.125,0.11;0.775x0.77)"
        ],
        [
         "2145.0",
         "Axes(0.125,0.11;0.775x0.77)"
        ],
        [
         "2153.0",
         "Axes(0.125,0.11;0.775x0.77)"
        ],
        [
         "2160.0",
         "Axes(0.125,0.11;0.775x0.77)"
        ],
        [
         "2741.0",
         "Axes(0.125,0.11;0.775x0.77)"
        ],
        [
         "2761.0",
         "Axes(0.125,0.11;0.775x0.77)"
        ],
        [
         "2981.0",
         "Axes(0.125,0.11;0.775x0.77)"
        ],
        [
         "3005.0",
         "Axes(0.125,0.11;0.775x0.77)"
        ],
        [
         "3121.0",
         "Axes(0.125,0.11;0.775x0.77)"
        ],
        [
         "3122.0",
         "Axes(0.125,0.11;0.775x0.77)"
        ],
        [
         "3123.0",
         "Axes(0.125,0.11;0.775x0.77)"
        ],
        [
         "3124.0",
         "Axes(0.125,0.11;0.775x0.77)"
        ],
        [
         "3125.0",
         "Axes(0.125,0.11;0.775x0.77)"
        ],
        [
         "3126.0",
         "Axes(0.125,0.11;0.775x0.77)"
        ],
        [
         "3142.0",
         "Axes(0.125,0.11;0.775x0.77)"
        ],
        [
         "3161.0",
         "Axes(0.125,0.11;0.775x0.77)"
        ],
        [
         "3265.0",
         "Axes(0.125,0.11;0.775x0.77)"
        ],
        [
         "3282.0",
         "Axes(0.125,0.11;0.775x0.77)"
        ],
        [
         "3362.0",
         "Axes(0.125,0.11;0.775x0.77)"
        ],
        [
         "3421.0",
         "Axes(0.125,0.11;0.775x0.77)"
        ],
        [
         "3441.0",
         "Axes(0.125,0.11;0.775x0.77)"
        ],
        [
         "3642.0",
         "Axes(0.125,0.11;0.775x0.77)"
        ],
        [
         "3761.0",
         "Axes(0.125,0.11;0.775x0.77)"
        ],
        [
         "3781.0",
         "Axes(0.125,0.11;0.775x0.77)"
        ],
        [
         "3865.0",
         "Axes(0.125,0.11;0.775x0.77)"
        ],
        [
         "3901.0",
         "Axes(0.125,0.11;0.775x0.77)"
        ],
        [
         "4222.0",
         "Axes(0.125,0.11;0.775x0.77)"
        ]
       ],
       "shape": {
        "columns": 1,
        "rows": 39
       }
      },
      "text/plain": [
       "rm_id\n",
       "2124.0    Axes(0.125,0.11;0.775x0.77)\n",
       "2125.0    Axes(0.125,0.11;0.775x0.77)\n",
       "2129.0    Axes(0.125,0.11;0.775x0.77)\n",
       "2130.0    Axes(0.125,0.11;0.775x0.77)\n",
       "2131.0    Axes(0.125,0.11;0.775x0.77)\n",
       "2132.0    Axes(0.125,0.11;0.775x0.77)\n",
       "2133.0    Axes(0.125,0.11;0.775x0.77)\n",
       "2134.0    Axes(0.125,0.11;0.775x0.77)\n",
       "2135.0    Axes(0.125,0.11;0.775x0.77)\n",
       "2140.0    Axes(0.125,0.11;0.775x0.77)\n",
       "2142.0    Axes(0.125,0.11;0.775x0.77)\n",
       "2143.0    Axes(0.125,0.11;0.775x0.77)\n",
       "2144.0    Axes(0.125,0.11;0.775x0.77)\n",
       "2145.0    Axes(0.125,0.11;0.775x0.77)\n",
       "2153.0    Axes(0.125,0.11;0.775x0.77)\n",
       "2160.0    Axes(0.125,0.11;0.775x0.77)\n",
       "2741.0    Axes(0.125,0.11;0.775x0.77)\n",
       "2761.0    Axes(0.125,0.11;0.775x0.77)\n",
       "2981.0    Axes(0.125,0.11;0.775x0.77)\n",
       "3005.0    Axes(0.125,0.11;0.775x0.77)\n",
       "3121.0    Axes(0.125,0.11;0.775x0.77)\n",
       "3122.0    Axes(0.125,0.11;0.775x0.77)\n",
       "3123.0    Axes(0.125,0.11;0.775x0.77)\n",
       "3124.0    Axes(0.125,0.11;0.775x0.77)\n",
       "3125.0    Axes(0.125,0.11;0.775x0.77)\n",
       "3126.0    Axes(0.125,0.11;0.775x0.77)\n",
       "3142.0    Axes(0.125,0.11;0.775x0.77)\n",
       "3161.0    Axes(0.125,0.11;0.775x0.77)\n",
       "3265.0    Axes(0.125,0.11;0.775x0.77)\n",
       "3282.0    Axes(0.125,0.11;0.775x0.77)\n",
       "3362.0    Axes(0.125,0.11;0.775x0.77)\n",
       "3421.0    Axes(0.125,0.11;0.775x0.77)\n",
       "3441.0    Axes(0.125,0.11;0.775x0.77)\n",
       "3642.0    Axes(0.125,0.11;0.775x0.77)\n",
       "3761.0    Axes(0.125,0.11;0.775x0.77)\n",
       "3781.0    Axes(0.125,0.11;0.775x0.77)\n",
       "3865.0    Axes(0.125,0.11;0.775x0.77)\n",
       "3901.0    Axes(0.125,0.11;0.775x0.77)\n",
       "4222.0    Axes(0.125,0.11;0.775x0.77)\n",
       "Name: net_weight, dtype: object"
      ]
     },
     "execution_count": 38,
     "metadata": {},
     "output_type": "execute_result"
    },
    {
     "data": {
      "image/png": "[encoded data removed]",
      "text/plain": [
       "<Figure size 640x480 with 1 Axes>"
      ]
     },
     "metadata": {},
     "output_type": "display_data"
    }
   ],
   "source": [
    "df_final.groupby(\"rm_id\")[\"net_weight\"].plot()"
   ]
  },
  {
   "cell_type": "code",
   "execution_count": 39,
   "id": "01e1ac7d",
   "metadata": {},
   "outputs": [],
   "source": [
    "prediction_mapping = pd.read_csv(\"./data/prediction_mapping.csv\")\n",
    "prediction_mapping[\"forecast_start_date\"] = (\n",
    "    pd.to_datetime(prediction_mapping[\"forecast_start_date\"], utc=True)\n",
    "    .dt.tz_localize(None)\n",
    "    .dt.normalize()\n",
    ")\n",
    "prediction_mapping[\"forecast_end_date\"] = (\n",
    "    pd.to_datetime(prediction_mapping[\"forecast_end_date\"], utc=True)\n",
    "    .dt.tz_localize(None)\n",
    "    .dt.normalize()\n",
    ")\n",
    "\n",
    "prediction_mapping = prediction_mapping.sort_values([\"rm_id\", \"forecast_end_date\"])\n",
    "start_date = pd.Timestamp(\"2025-01-01\")\n",
    "\n",
    "df_submission = (\n",
    "    prediction_mapping.merge(\n",
    "        df_final,\n",
    "        left_on=[\"rm_id\", \"forecast_end_date\"],\n",
    "        right_on=[\"rm_id\", \"end_date\"],\n",
    "        how=\"left\",\n",
    "    )\n",
    "    .rename(columns={\"net_weight\": \"predicted_weight\"})\n",
    "    .sort_values(\"ID\")\n",
    ")\n",
    "df_submission.fillna(0, inplace=True)\n",
    "df_submission[[\"ID\", \"predicted_weight\"]].to_csv(\"submission.csv\", index=False)"
   ]
  },
  {
   "cell_type": "code",
   "execution_count": null,
   "id": "8c4bfeb4",
   "metadata": {},
   "outputs": [],
   "source": [
    "df_submission[df_submission[\"predicted_weight\"] > 0]"
   ]
  },
  {
   "cell_type": "markdown",
   "id": "c830775d",
   "metadata": {},
   "source": [
    "## Write predictions to file\n"
   ]
  },
  {
   "cell_type": "code",
   "execution_count": null,
   "id": "79eecc32",
   "metadata": {},
   "outputs": [],
   "source": [
    "# def generate_forecasts(model, steps):\n",
    "#     forecasts = model.predict(steps, series_lst_scaled, past_covariates=past_covariates)\n",
    "#     forecasts = min_value_mapper.transform(forecasts)\n",
    "#     forecasts = pipeline.inverse_transform(forecasts)\n",
    "#     forecasts_cum = [ts.cumsum() for ts in forecasts]\n",
    "#     return forecasts, forecasts_cum\n",
    "\n",
    "\n",
    "# print(\"---------------XGB---------------\")\n",
    "# forecasts, forecasts_cum = generate_forecasts(xgb_model, 150)\n",
    "# plot_predictions(forecasts)\n",
    "# # print(\"---------------NBEATS---------------\")\n",
    "# # forecasts, forecasts_cum = generate_forecasts(model_nbeats, 150)\n",
    "# # plot_predictions(forecasts)\n"
   ]
  },
  {
   "cell_type": "code",
   "execution_count": null,
   "id": "7cdbc459",
   "metadata": {},
   "outputs": [],
   "source": [
    "# prediction_mapping = pd.read_csv(\"./data/prediction_mapping.csv\")\n",
    "# prediction_mapping[\"forecast_start_date\"] = (\n",
    "#     pd.to_datetime(prediction_mapping[\"forecast_start_date\"], utc=True)\n",
    "#     .dt.tz_localize(None)\n",
    "#     .dt.normalize()\n",
    "# )\n",
    "# prediction_mapping[\"forecast_end_date\"] = (\n",
    "#     pd.to_datetime(prediction_mapping[\"forecast_end_date\"], utc=True)\n",
    "#     .dt.tz_localize(None)\n",
    "#     .dt.normalize()\n",
    "# )\n",
    "\n",
    "# prediction_mapping = prediction_mapping.sort_values([\"rm_id\", \"forecast_end_date\"])\n",
    "# start_date = pd.Timestamp(\"2025-01-01\")\n",
    "\n",
    "# xgb_preds = []\n",
    "# for i, ts in enumerate(forecasts_cum):\n",
    "#     rm_id = series_lst[i].static_covariates[\"rm_id\"].values[0]\n",
    "#     df = ts.to_dataframe()\n",
    "#     df[\"end_date\"] = df.index + pd.Timedelta(days=1)\n",
    "#     df[\"rm_id\"] = rm_id\n",
    "#     xgb_preds.append(df)\n",
    "\n",
    "# df_final = pd.concat(xgb_preds)\n",
    "\n",
    "# df_submission = prediction_mapping.merge(\n",
    "#     df_final,\n",
    "#     left_on=[\"rm_id\", \"forecast_end_date\"],\n",
    "#     right_on=[\"rm_id\", \"end_date\"],\n",
    "#     how=\"left\",\n",
    "# ).rename(columns={\"net_weight\": \"predicted_weight\"})\n",
    "# df_submission.fillna(0, inplace=True)\n",
    "# df_submission[[\"ID\", \"predicted_weight\"]].to_csv(\"submission.csv\", index=False)"
   ]
  },
  {
   "cell_type": "code",
   "execution_count": null,
   "id": "13d3a323",
   "metadata": {},
   "outputs": [],
   "source": [
    "df_submission[df_submission[\"predicted_weight\"] > 0][\"rm_id\"].nunique()"
   ]
  }
 ],
 "metadata": {
  "kernelspec": {
   "display_name": ".venv",
   "language": "python",
   "name": "python3"
  },
  "language_info": {
   "codemirror_mode": {
    "name": "ipython",
    "version": 3
   },
   "file_extension": ".py",
   "mimetype": "text/x-python",
   "name": "python",
   "nbconvert_exporter": "python",
   "pygments_lexer": "ipython3",
   "version": "3.13.9"
  }
 },
 "nbformat": 4,
 "nbformat_minor": 5
}
