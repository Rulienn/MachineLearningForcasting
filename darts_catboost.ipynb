{
 "cells": [
  {
   "cell_type": "code",
   "execution_count": null,
   "id": "467b192e",
   "metadata": {},
   "outputs": [],
   "source": [
    "%pip install matplotlib\n",
    "%pip install darts\n",
    "%pip install catboost"
   ]
  },
  {
   "cell_type": "code",
   "execution_count": null,
   "id": "20dfa585",
   "metadata": {},
   "outputs": [],
   "source": [
    "from datetime import datetime\n",
    "from darts import TimeSeries\n",
    "from darts.models import CatBoostModel\n",
    "import pandas as pd\n",
    "import numpy as np\n",
    "import os\n",
    "import kaggle_metric\n",
    "import utils"
   ]
  },
  {
   "cell_type": "code",
   "execution_count": null,
   "id": "8e177717",
   "metadata": {},
   "outputs": [],
   "source": [
    "random_state = 42\n",
    "np.random.seed(random_state)"
   ]
  },
  {
   "cell_type": "code",
   "execution_count": null,
   "id": "8571ae9a",
   "metadata": {},
   "outputs": [],
   "source": [
    "df = utils.create_df(\"./data/kernel/receivals.csv\")\n",
    "df.head()"
   ]
  },
  {
   "cell_type": "code",
   "execution_count": null,
   "id": "80d1da27",
   "metadata": {},
   "outputs": [],
   "source": [
    "series_lst = TimeSeries.from_group_dataframe(df, \"rm_id\", \"date_arrival\", \"net_weight\")"
   ]
  },
  {
   "cell_type": "code",
   "execution_count": null,
   "id": "6269eb69",
   "metadata": {},
   "outputs": [],
   "source": [
    "series_dict = {}\n",
    "train_dict = {}\n",
    "val_dict = {}\n",
    "for i in range(len(series_lst)):\n",
    "    train_i, val_i = series_lst[i].split_after(0.8)\n",
    "\n",
    "    rm_id = (\n",
    "        series_lst[i].static_covariates[\"rm_id\"]\n",
    "        if \"rm_id\" in series_lst[i].static_covariates\n",
    "        else None\n",
    "    )\n",
    "    series_dict[rm_id.values[0]] = series_lst[i]\n",
    "    train_dict[rm_id.values[0]] = train_i\n",
    "    val_dict[rm_id.values[0]] = val_i"
   ]
  },
  {
   "cell_type": "code",
   "execution_count": null,
   "id": "5e371019",
   "metadata": {},
   "outputs": [],
   "source": [
    "model_dict = {}\n",
    "loss = []\n",
    "\n",
    "lst = []\n",
    "for key in train_dict:\n",
    "    print(f\"Training model for rm_id: {key}\")\n",
    "    train_values = train_dict[key].values()\n",
    "    model = CatBoostModel(\n",
    "        lags=30, use_static_covariates=False, random_state=random_state\n",
    "    )\n",
    "    try:\n",
    "        model.fit(train_dict[key])\n",
    "        model_dict[key] = model\n",
    "        out = model_dict[key].predict(len(val_dict[key]), series=train_dict[key])\n",
    "        actual_steps = out.values().clip(min=0)\n",
    "        actual_steps = actual_steps.cumsum()\n",
    "        actual_steps[actual_steps < 100] = 0\n",
    "\n",
    "        # Store predictions and actual values in a dataframe\n",
    "        df_eval = pd.DataFrame(\n",
    "            {\n",
    "                \"predicted_weight\": actual_steps.flatten(),\n",
    "                \"weight\": val_dict[key].cumsum().values().flatten(),\n",
    "            }\n",
    "        )\n",
    "\n",
    "    except Exception as e:\n",
    "        df_eval = pd.DataFrame(\n",
    "            {\n",
    "                \"predicted_weight\": [0] * len(val_dict[key]),\n",
    "                \"weight\": val_dict[key].cumsum().values().flatten(),\n",
    "            }\n",
    "        )\n",
    "        print(f\"Error training model for rm_id {key}: {e}\")\n",
    "\n",
    "    lst.append(df_eval)\n",
    "\n",
    "df_eval = pd.concat(lst).reset_index(drop=True)\n",
    "df_eval[\"ID\"] = df_eval.index\n",
    "score = kaggle_metric.score(\n",
    "    df_eval[[\"ID\", \"weight\"]], df_eval[[\"ID\", \"predicted_weight\"]]\n",
    ")\n",
    "print(f\"Validation score: {score}\")"
   ]
  },
  {
   "cell_type": "code",
   "execution_count": null,
   "id": "b4d6a5bb",
   "metadata": {},
   "outputs": [],
   "source": [
    "ax = df_eval.plot(y=\"weight\", label=\"Actual\")\n",
    "df_eval.plot(y=\"predicted_weight\", ax=ax, label=\"Predicted\", alpha=0.5)"
   ]
  },
  {
   "cell_type": "code",
   "execution_count": null,
   "id": "729331cc",
   "metadata": {},
   "outputs": [],
   "source": [
    "prediction_mapping = pd.read_csv(\"./data/prediction_mapping.csv\")\n",
    "prediction_mapping[\"forecast_start_date\"] = (\n",
    "    pd.to_datetime(prediction_mapping[\"forecast_start_date\"], utc=True)\n",
    "    .dt.tz_localize(None)\n",
    "    .dt.normalize()\n",
    ")\n",
    "prediction_mapping[\"forecast_end_date\"] = (\n",
    "    pd.to_datetime(prediction_mapping[\"forecast_end_date\"], utc=True)\n",
    "    .dt.tz_localize(None)\n",
    "    .dt.normalize()\n",
    ")\n",
    "prediction_mapping = prediction_mapping.sort_values([\"rm_id\", \"forecast_end_date\"])\n",
    "max_date = pd.Timestamp(\"2025-05-31\")\n",
    "lst = []\n",
    "for rm_id, group in prediction_mapping.groupby(\"rm_id\"):\n",
    "    print(f\"Processing rm_id {rm_id}\")\n",
    "    if rm_id not in model_dict:\n",
    "        print(f\"No model for rm_id {rm_id}, setting predicted_weight to 0\")\n",
    "        group[\"predicted_weight\"] = 0\n",
    "    else:\n",
    "\n",
    "        last_train = series_dict[rm_id].time_index[-1]\n",
    "        n_steps = (max_date - last_train).days - 1\n",
    "        print(\n",
    "            f\"Predicting {n_steps} steps for rm_id {rm_id} because last known date is {last_train}\"\n",
    "        )\n",
    "        preds = model_dict[rm_id].predict(n_steps, series=series_dict[rm_id])\n",
    "        actual_steps = preds.values().clip(min=0)\n",
    "        actual_steps = actual_steps.cumsum()\n",
    "        # group['predicted_weight'] = actual_steps\n",
    "        actual_steps[actual_steps < 100] = 0\n",
    "        group[\"predicted_weight\"] = actual_steps\n",
    "    lst.append(group)\n",
    "\n",
    "df_final = pd.concat(lst)"
   ]
  },
  {
   "cell_type": "code",
   "execution_count": null,
   "id": "2bac99dc",
   "metadata": {},
   "outputs": [],
   "source": [
    "timestamp = datetime.now().strftime(\"%Y%m%d_%H%M%S\")\n",
    "submission_path = f\"./data/submission/submission_{timestamp}.csv\"\n",
    "if not os.path.exists(\"./data/submission/\"):\n",
    "    os.makedirs(\"./data/submission/\")\n",
    "\n",
    "\n",
    "df_final[[\"ID\", \"predicted_weight\"]].to_csv(submission_path, index=False)"
   ]
  }
 ],
 "metadata": {
  "kernelspec": {
   "display_name": ".venv",
   "language": "python",
   "name": "python3"
  },
  "language_info": {
   "codemirror_mode": {
    "name": "ipython",
    "version": 3
   },
   "file_extension": ".py",
   "mimetype": "text/x-python",
   "name": "python",
   "nbconvert_exporter": "python",
   "pygments_lexer": "ipython3",
   "version": "3.12.2"
  }
 },
 "nbformat": 4,
 "nbformat_minor": 5
}
