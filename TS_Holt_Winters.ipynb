{
 "cells": [
  {
   "cell_type": "markdown",
   "id": "d0a7fa19",
   "metadata": {},
   "source": [
    "# Model 2: TimeSeries\n",
    "\n",
    "## Input :\n",
    "- receivals.csv\n",
    "## Serie for each raw material\n",
    "- net weight delivered each day from 2014 to 2024\n",
    "- fill with 0 when no deliverie\n",
    "\n",
    "## Forcasting with a model\n",
    "- SARIMA Model\n",
    "- Holt–Winters Model\n",
    "- AI model \n",
    "\n",
    "## Output\n",
    "- submission File\n",
    "\n",
    "\n",
    "observation of a big change in 2012 -> start data after 2012 \n",
    "-> wrong observation, for some deliveries the beginning of these deliveries start later.\n",
    "-> Try to change the starting date for each TS (First deliverie starts the TS)"
   ]
  },
  {
   "cell_type": "code",
   "execution_count": 2,
   "id": "8d68f628",
   "metadata": {},
   "outputs": [],
   "source": [
    "import pandas as pd\n",
    "import matplotlib.pyplot as plt\n",
    "import matplotlib.dates as mdates\n",
    "import numpy as np\n",
    "from statsmodels.tsa.holtwinters import ExponentialSmoothing"
   ]
  },
  {
   "cell_type": "markdown",
   "id": "b6a994f8",
   "metadata": {},
   "source": [
    "# HyperParameters"
   ]
  },
  {
   "cell_type": "code",
   "execution_count": 3,
   "id": "c6b1386a",
   "metadata": {},
   "outputs": [],
   "source": [
    "history_start_date = \"2004-01-01\"\n",
    "Positive_Deliveries = True #Set 0 for negative deliveries\n",
    "weekend0 = True #Set 0 for positive deliveries during the weekend\n",
    "seasonality = 7 #=  One week -> year, month is too long (bad results)\n",
    "# adaptivestratdate -> worse results\n",
    "forecast_start = pd.Timestamp(\"2025-01-01\")\n",
    "forecast_end   = pd.Timestamp(\"2025-12-31\")\n"
   ]
  },
  {
   "cell_type": "markdown",
   "id": "9fb02d1a",
   "metadata": {},
   "source": [
    "# A) Data Fitting"
   ]
  },
  {
   "cell_type": "code",
   "execution_count": 4,
   "id": "55299d4b",
   "metadata": {},
   "outputs": [
    {
     "name": "stdout",
     "output_type": "stream",
     "text": [
      "2004-06-15 00:00:00\n",
      "41906\n",
      "   rm_id       date  net_weight\n",
      "0  342.0 2004-06-23     24940.0\n",
      "1  343.0 2005-03-29     21760.0\n",
      "2  345.0 2004-09-01     22780.0\n",
      "3  346.0 2004-06-24       820.0\n",
      "4  346.0 2004-06-30     21260.0\n",
      "5  346.0 2004-07-28      2880.0\n",
      "6  347.0 2004-06-17     29805.0\n",
      "7  347.0 2004-06-21     14920.0\n",
      "8  347.0 2004-07-28     11200.0\n",
      "9  347.0 2004-09-03     20220.0\n"
     ]
    }
   ],
   "source": [
    "receivals = pd.read_csv('./data/kernel/receivals.csv')\n",
    "\n",
    "receivals = receivals.dropna(subset=[\"net_weight\"])\n",
    "receivals = receivals[receivals[\"net_weight\"] > 0]\n",
    "#df_nan = receivals[receivals[\"net_weight\"].isna()]\n",
    "\n",
    "receivals['date_arrival'] = (\n",
    "    pd.to_datetime(receivals['date_arrival'], utc=True)\n",
    "      .dt.tz_localize(None)\n",
    "      .dt.normalize()\n",
    ")\n",
    "\n",
    "receivals = receivals[receivals[\"date_arrival\"] >= pd.Timestamp(history_start_date)].reset_index(drop=True)\n",
    "print(receivals['date_arrival'][0])\n",
    "\n",
    "daily = (\n",
    "    receivals.groupby([\"rm_id\",\"date_arrival\"], as_index=False)\n",
    "             .agg(\n",
    "                 net_weight_sum=(\"net_weight\", \"sum\")\n",
    "             ).rename(columns={\"date_arrival\": \"date\",\"net_weight_sum\":\"net_weight\"})\n",
    "             .sort_values([\"rm_id\",\"date\"])\n",
    ")\n",
    "\n",
    "print(len(daily))\n",
    "print(daily.head(10))"
   ]
  },
  {
   "cell_type": "markdown",
   "id": "2b6a445b",
   "metadata": {},
   "source": [
    "### a) Remove and stock Outliers (Rare occurrences)"
   ]
  },
  {
   "cell_type": "code",
   "execution_count": null,
   "id": "a7a1fc61",
   "metadata": {},
   "outputs": [
    {
     "name": "stdout",
     "output_type": "stream",
     "text": [
      "We don't have enough information to forecast the following rm_id :\n",
      "Index([ 342.0,  343.0,  345.0,  346.0,  348.0,  353.0,  355.0,  358.0,  360.0,\n",
      "        362.0,  374.0,  380.0,  387.0,  390.0, 1844.0, 1845.0, 1858.0, 1872.0,\n",
      "       1882.0, 2001.0, 2061.0, 2128.0, 2141.0, 2158.0, 2323.0, 2341.0, 2343.0,\n",
      "       2344.0, 2345.0, 2347.0, 2362.0, 2363.0, 2421.0, 2841.0, 2861.0],\n",
      "      dtype='float64', name='rm_id')\n"
     ]
    }
   ],
   "source": [
    "stats = (\n",
    "    daily.groupby(\"rm_id\")\n",
    "            .agg(\n",
    "                last_delivery=(\"date\", \"max\"),\n",
    "                total_deliveries=(\"date\", \"count\")  # number of delivery-days\n",
    "            )\n",
    ")\n",
    "cutoff = pd.Timestamp(\"2024-12-31\") - pd.DateOffset(years=5)\n",
    "\n",
    "rare_rm_id = stats.index[(stats[\"last_delivery\"] <= cutoff) | (stats[\"total_deliveries\"] <= 3)]\n",
    "\n",
    "print(f\"We don't have enough information to forecast the following rm_id :\\n{rare_rm_id}\")\n"
   ]
  },
  {
   "cell_type": "code",
   "execution_count": 6,
   "id": "3484a44d",
   "metadata": {},
   "outputs": [],
   "source": [
    "# I remove rare_rm_id \n",
    "daily = daily[~daily[\"rm_id\"].isin(rare_rm_id)].reset_index(drop=True)"
   ]
  },
  {
   "cell_type": "markdown",
   "id": "09cbb4c2",
   "metadata": {},
   "source": [
    "### b) Fill missing days with the value 0"
   ]
  },
  {
   "cell_type": "code",
   "execution_count": 7,
   "id": "9bab4158",
   "metadata": {},
   "outputs": [
    {
     "name": "stdout",
     "output_type": "stream",
     "text": [
      "   rm_id       date  net_weight\n",
      "0  347.0 2004-01-01         0.0\n",
      "1  347.0 2004-01-02         0.0\n",
      "2  347.0 2004-01-03         0.0\n",
      "3  347.0 2004-01-04         0.0\n",
      "4  347.0 2004-01-05         0.0\n",
      "Top rm_ids are : Index([2130.0, 1903.0, 2160.0, 2140.0, 1909.0], dtype='float64', name='rm_id')\n"
     ]
    }
   ],
   "source": [
    "\n",
    "# 3) Build the full MultiIndex (all rm_id x all days in the range)\n",
    "full_start = pd.Timestamp(history_start_date)\n",
    "full_end   = pd.Timestamp(\"2024-12-31\")\n",
    "rm_ids = pd.Index(daily[\"rm_id\"].unique(), name=\"rm_id\")\n",
    "calendar = pd.date_range(full_start, full_end, freq=\"D\", name=\"date\")\n",
    "full_idx = pd.MultiIndex.from_product([rm_ids, calendar], names=[\"rm_id\",\"date\"])\n",
    "\n",
    "# 4) Reindex to the full grid and fill missing with 0\n",
    "daily = (\n",
    "    daily.set_index([\"rm_id\",\"date\"])[\"net_weight\"]\n",
    "         .reindex(full_idx, fill_value=0)\n",
    "         .reset_index()\n",
    ")\n",
    "print(daily.head(5))\n",
    "\n",
    "top_rm_ids = daily.groupby('rm_id')['net_weight'].sum().nlargest(5).index\n",
    "print(f\"Top rm_ids are : {top_rm_ids}\")"
   ]
  },
  {
   "cell_type": "markdown",
   "id": "3b0316b4",
   "metadata": {},
   "source": [
    "# B) Model Training"
   ]
  },
  {
   "cell_type": "markdown",
   "id": "b6fcdc68",
   "metadata": {},
   "source": [
    "### a) Training test on one rm_id\n",
    "\n",
    "rm_id test : 2130.0, 4263.0, 4501.0 (last rm_id)"
   ]
  },
  {
   "cell_type": "code",
   "execution_count": 8,
   "id": "2cde187e",
   "metadata": {},
   "outputs": [],
   "source": [
    "rm = 4501.0\n",
    "\n",
    "# 1) build a daily series with explicit daily freq\n",
    "series = (\n",
    "    daily.loc[daily[\"rm_id\"] == rm, [\"date\", \"net_weight\"]]\n",
    "            .set_index(\"date\")[\"net_weight\"]\n",
    "            .asfreq(\"D\")\n",
    ")\n",
    "\n",
    "# 2) fit Holt–Winters (additive handles zeros safely)\n",
    "\n",
    "model = ExponentialSmoothing(\n",
    "    series,\n",
    "    trend=None, # \"add\" before\n",
    "    seasonal=\"add\",\n",
    "    seasonal_periods=seasonality,\n",
    "    initialization_method=\"estimated\",\n",
    ").fit(optimized=True)\n",
    "\n",
    "# 3) predict using calendar dates (works because the index has freq='D')\n",
    "fc = model.predict(start=forecast_start, end=forecast_end)\n",
    "\n",
    "pred = (\n",
    "    fc.rename(\"net_weight\")\n",
    "        .reset_index()\n",
    "        .rename(columns={\"index\": \"date\"})\n",
    ")\n",
    "if Positive_Deliveries:\n",
    "    pred[\"net_weight\"] = pred[\"net_weight\"].clip(lower=0)\n",
    "\n",
    "# assign value 0 for the weekend\n",
    "if weekend0:\n",
    "    pred['day_of_week'] = pred['date'].dt.dayofweek\n",
    "    pred.loc[pred['day_of_week'].isin([5, 6]), 'net_weight'] = 0\n",
    "    pred = pred.drop(columns=['day_of_week'])\n"
   ]
  },
  {
   "cell_type": "code",
   "execution_count": 9,
   "id": "f6d6ab1e",
   "metadata": {},
   "outputs": [
    {
     "data": {
      "image/png": "[encoded data removed]",
      "text/plain": [
       "<Figure size 1200x400 with 1 Axes>"
      ]
     },
     "metadata": {},
     "output_type": "display_data"
    }
   ],
   "source": [
    "history = daily[(daily[\"rm_id\"] == rm)].set_index(\"date\")[\"net_weight\"]\n",
    "future = pred.set_index(\"date\")[\"net_weight\"]\n",
    "\n",
    "plt.figure(figsize=(12,4))\n",
    "history.plot(label=\"History (2004–2024)\")\n",
    "future.plot(label=\"Forecast 2025\", style=\"--\")\n",
    "plt.title(f\"Daily net weight for rm_id={rm}\")\n",
    "plt.legend()\n",
    "plt.show()"
   ]
  },
  {
   "cell_type": "code",
   "execution_count": 34,
   "id": "cc80a8e2",
   "metadata": {},
   "outputs": [
    {
     "name": "stdout",
     "output_type": "stream",
     "text": [
      "   day_of_week    net_weight\n",
      "0            0  9.335606e+05\n",
      "1            1  2.049199e+06\n",
      "2            2  2.155301e+06\n",
      "3            3  1.388173e+06\n",
      "4            4  7.914926e+05\n",
      "5            5  0.000000e+00\n",
      "6            6  0.000000e+00\n"
     ]
    }
   ],
   "source": [
    "\n",
    "# Extract the day of the week (Monday=0, Sunday=6)\n",
    "pred['day_of_week'] = pred['date'].dt.dayofweek\n",
    "\n",
    "# Map the day number to day name for clarity\n",
    "\n",
    "# Group by day of the week and sum the net_weight\n",
    "deliveries_by_day = pred.groupby('day_of_week')['net_weight'].sum().reset_index()\n",
    "\n",
    "# Display the result\n",
    "print(deliveries_by_day)"
   ]
  },
  {
   "cell_type": "markdown",
   "id": "3401f46c",
   "metadata": {},
   "source": [
    "### b) Real Training"
   ]
  },
  {
   "cell_type": "code",
   "execution_count": 35,
   "id": "3f44a1fd",
   "metadata": {},
   "outputs": [],
   "source": [
    "\n",
    "predictions = []\n",
    "\n",
    "for rm in daily[\"rm_id\"].unique():\n",
    "    # 1) build a daily series with explicit daily freq\n",
    "    series = (\n",
    "        daily.loc[daily[\"rm_id\"] == rm, [\"date\", \"net_weight\"]]\n",
    "                .set_index(\"date\")[\"net_weight\"]\n",
    "                .asfreq(\"D\")\n",
    "    )\n",
    " \n",
    "    # 2) fit Holt–Winters (additive handles zeros safely)\n",
    "\n",
    "    model = ExponentialSmoothing(\n",
    "        series,\n",
    "        trend=None, # \"add\" before\n",
    "        seasonal=\"add\",\n",
    "        seasonal_periods=seasonality,\n",
    "        initialization_method=\"estimated\",\n",
    "    ).fit(optimized=True)\n",
    "\n",
    "    # 3) predict using calendar dates (works because the index has freq='D')\n",
    "    fc = model.predict(start=forecast_start, end=forecast_end)\n",
    "\n",
    "    pred = (\n",
    "        fc.rename(\"net_weight\")\n",
    "            .reset_index()\n",
    "            .rename(columns={\"index\": \"date\"})\n",
    "    )\n",
    "    if Positive_Deliveries:\n",
    "        pred[\"net_weight\"] = pred[\"net_weight\"].clip(lower=0)\n",
    "\n",
    "    # assign value 0 for the weekend\n",
    "    if weekend0:\n",
    "        pred['day_of_week'] = pred['date'].dt.dayofweek\n",
    "        pred.loc[pred['day_of_week'].isin([5, 6]), 'net_weight'] = 0\n",
    "        pred = pred.drop(columns=['day_of_week'])\n",
    "\n",
    "    pred[\"rm_id\"] = rm\n",
    "    \n",
    "    predictions.append(pred)\n",
    "\n",
    "# 5) all rm_id forecasts\n",
    "df_forecast = pd.concat(predictions, ignore_index=True)\n",
    "\n",
    "# output : df_forecast contains the forecasting data for not rare rm_id"
   ]
  },
  {
   "cell_type": "markdown",
   "id": "e6cc68aa",
   "metadata": {},
   "source": [
    "# C) Output, Submission file creation"
   ]
  },
  {
   "cell_type": "code",
   "execution_count": 36,
   "id": "de0b033f",
   "metadata": {},
   "outputs": [],
   "source": [
    "\n",
    "# input dataframe : contains all rm_id, net_weight_sum and date (at least these three columns)\n",
    "# name of the parameter : df_final\n",
    "def print_submission(df_final, filename=\"submission.csv\"):\n",
    "\n",
    "    df_final[\"rm_id\"] = pd.to_numeric(df_final[\"rm_id\"], errors=\"coerce\").astype(\"Int64\")\n",
    "\n",
    "    # 3) Load the ID mapping\n",
    "    ids = pd.read_csv(\"./data/prediction_mapping.csv\")  # or your actual path\n",
    "    ids[\"forecast_start_date\"] = pd.to_datetime(ids[\"forecast_start_date\"])\n",
    "    ids[\"forecast_end_date\"]   = pd.to_datetime(ids[\"forecast_end_date\"])\n",
    "    ids[\"rm_id\"]    = pd.to_numeric(ids[\"rm_id\"], errors=\"coerce\").astype(\"Int64\")\n",
    "    ids = ids.rename(columns={\n",
    "        \"forecast_end_date\": \"date\"\n",
    "    })\n",
    "\n",
    "    # 4) For each ID, get cum at end_date (<= end_date)\n",
    "\n",
    "    out = (\n",
    "        ids.merge(df_final, on=[\"rm_id\", \"date\"], how=\"left\")\n",
    "        .assign(cum=lambda d: d[\"cum\"].fillna(0))   # cum=0 quand absent\n",
    "        .sort_values([\"rm_id\", \"date\"])\n",
    "        .reset_index(drop=True)\n",
    "    )\n",
    "\n",
    "\n",
    "    # 5) Cum at day before start_date\n",
    "    submission = (\n",
    "        out[[\"ID\", \"cum\"]]\n",
    "        .rename(columns={\"cum\": \"predicted_weight\"})   # if your file needs \"predicted_weight\"\n",
    "        .fillna({\"predicted_weight\": 0})\n",
    "        .sort_values(\"ID\")\n",
    "    )\n",
    "\n",
    "    submission.to_csv(\"./submissions/\" + filename, index=False)\n",
    "    print(submission.head())"
   ]
  },
  {
   "cell_type": "markdown",
   "id": "c0415c59",
   "metadata": {},
   "source": [
    "### a) Calcul of cumsum net weight and final file\n",
    "\n",
    "- Do cumsum\n",
    "- Fill with rare_rm_id with 0"
   ]
  },
  {
   "cell_type": "code",
   "execution_count": 37,
   "id": "bac0875c",
   "metadata": {},
   "outputs": [
    {
     "name": "stderr",
     "output_type": "stream",
     "text": [
      "C:\\Users\\julie\\AppData\\Local\\Temp\\ipykernel_19912\\1328190363.py:5: FutureWarning: DataFrameGroupBy.apply operated on the grouping columns. This behavior is deprecated, and in a future version of pandas the grouping columns will be excluded from the operation. Either pass `include_groups=False` to exclude the groupings or explicitly select the grouping columns after groupby to silence this warning.\n",
      "  .apply(lambda g: g.assign(cum=g[\"net_weight\"].cumsum()))\n"
     ]
    }
   ],
   "source": [
    "#Fichier des predictions\n",
    "df_cum  = (\n",
    "    df_forecast.sort_values([\"rm_id\", \"date\"])\n",
    "        .groupby(\"rm_id\", as_index=False)\n",
    "        .apply(lambda g: g.assign(cum=g[\"net_weight\"].cumsum()))\n",
    "        .reset_index(drop=True)\n",
    "        [[\"rm_id\", \"date\", \"cum\"]]\n",
    ")\n",
    "\n",
    "# 2) ajout des valeurs nulles \n",
    "dates = pd.date_range(\"2025-01-01\", \"2025-05-03\", freq=\"D\")\n",
    "\n",
    "df_new  = (\n",
    "    pd.MultiIndex.from_product([rare_rm_id, dates], names=[\"rm_id\", \"date\"])\n",
    "      .to_frame(index=False)\n",
    "      .assign(cum=0)\n",
    ")\n",
    "df_final = pd.concat([df_cum, df_new], ignore_index=True)\n",
    "\n"
   ]
  },
  {
   "cell_type": "markdown",
   "id": "17cc0425",
   "metadata": {},
   "source": [
    "### b) creation submission"
   ]
  },
  {
   "cell_type": "code",
   "execution_count": 38,
   "id": "f30a3a24",
   "metadata": {},
   "outputs": [
    {
     "name": "stdout",
     "output_type": "stream",
     "text": [
      "      ID  predicted_weight\n",
      "2100   1               0.0\n",
      "2101   2               0.0\n",
      "2102   3               0.0\n",
      "2103   4               0.0\n",
      "2104   5               0.0\n"
     ]
    }
   ],
   "source": [
    "print_submission(df_final,filename=\"Holt–Winters_s7.csv\")"
   ]
  }
 ],
 "metadata": {
  "kernelspec": {
   "display_name": "conda1",
   "language": "python",
   "name": "python3"
  },
  "language_info": {
   "codemirror_mode": {
    "name": "ipython",
    "version": 3
   },
   "file_extension": ".py",
   "mimetype": "text/x-python",
   "name": "python",
   "nbconvert_exporter": "python",
   "pygments_lexer": "ipython3",
   "version": "3.13.5"
  }
 },
 "nbformat": 4,
 "nbformat_minor": 5
}
